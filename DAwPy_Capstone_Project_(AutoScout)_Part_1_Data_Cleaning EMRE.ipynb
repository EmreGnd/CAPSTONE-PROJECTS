{
 "cells": [
  {
   "cell_type": "markdown",
   "metadata": {
    "id": "Bv1I7_aas1L3"
   },
   "source": [
    "___\n",
    "\n",
    "<p style=\"text-align: center;\"><img src=\"https://docs.google.com/uc?id=1lY0Uj5R04yMY3-ZppPWxqCr5pvBLYPnV\" class=\"img-fluid\" \n",
    "alt=\"CLRSWY\"></p>\n",
    "\n",
    "## <p style=\"background-color:#FDFEFE; font-family:newtimeroman; color:#9d4f8c; font-size:100%; text-align:center; border-radius:10px 10px;\">WAY TO REINVENT YOURSELF</p>"
   ]
  },
  {
   "cell_type": "markdown",
   "metadata": {
    "id": "Bkw3_pB0s1L-"
   },
   "source": [
    "<img src=https://i.ibb.co/wJW61Y2/Used-cars.jpg width=\"700\" height=\"200\">\n",
    "\n",
    "## <p style=\"background-color:#FDFEFE; font-family:newtimeroman; color:#060108; font-size:200%; text-align:center; border-radius:10px 10px;\">The Capstone Project of Data Analytics Module</p>\n",
    "\n",
    "## <p style=\"background-color:#FDFEFE; font-family:newtimeroman; color:#060108; font-size:150%; text-align:center; border-radius:10px 10px;\">Car Price Prediction EDA</p>"
   ]
  },
  {
   "cell_type": "markdown",
   "metadata": {
    "id": "Z_oWczxZs1MA"
   },
   "source": [
    "## Introduction\n",
    "Welcome to \"***AutoScout Data Analysis Project***\". This is the capstone project of ***Data Analysis*** Module. **Auto Scout** data which using for this project, scraped from the on-line car trading company in 2019, contains many features of 9 different car models. In this project, you will have the opportunity to apply many commonly used algorithms for Data Cleaning and Exploratory Data Analysis by using many Python libraries such as Numpy, Pandas, Matplotlib, Seaborn, Scipy you will analyze clean dataset.\n",
    "\n",
    "### Some Reminders on Exploratory data analysis (EDA)\n",
    "\n",
    "Exploratory data analysis (EDA) is an especially important activity in the routine of a data analyst or scientist. It enables an in depth understanding of the dataset, define or discard hypotheses and create predictive models on a solid basis. It uses data manipulation techniques and several statistical tools to describe and understand the relationship between variables and how these can impact business. By means of EDA, we can obtain meaningful insights that can impact analysis under the following questions (If a checklist is good enough for pilots to use every flight, it’s good enough for data scientists to use with every dataset).\n",
    "1. What question are you trying to solve (or prove wrong)?\n",
    "2. What kind of data do you have?\n",
    "3. What’s missing from the data?\n",
    "4. Where are the outliers?\n",
    "5. How can you add, change or remove features to get more out of your data?\n",
    "\n",
    "**``Exploratory data analysis (EDA)``** is often an **iterative brainstorming process** where you pose a question, review the data, and develop further questions to investigate before beginning model development work. The image below shows how the brainstorming phase is connected with that of understanding the variables and how this in turn is connected again with the brainstorming phase.<br>\n",
    "\n",
    "<img src=https://i.ibb.co/k0MC950/EDA-Process.png width=\"300\" height=\"100\">\n",
    "\n",
    "[Image Credit: Andrew D.](https://towardsdatascience.com/exploratory-data-analysis-in-python-a-step-by-step-process-d0dfa6bf94ee)\n",
    "\n",
    "**``In this context, the project consists of 3 parts in general:``**\n",
    "* **The first part** is related to 'Data Cleaning'. It deals with Incorrect Headers, Incorrect Format, Anomalies, and Dropping useless columns.\n",
    "* **The second part** is related to 'Filling Data', in other words 'Imputation'. It deals with Missing Values. Categorical to numeric transformation is done as well.\n",
    "* **The third part** is related to 'Handling Outliers of Data' via Visualization libraries. So, some insights will be extracted.\n",
    "\n",
    "**``NOTE:``**  However, you are free to create your own style. You do NOT have to stick to the steps above. We, the DA & DV instructors, recommend you study each part separately to create a source notebook for each part title for your further studies. "
   ]
  },
  {
   "cell_type": "markdown",
   "metadata": {},
   "source": [
    "## <p style=\"background-color:#9d4f8c; font-family:newtimeroman; color:#FFF9ED; font-size:175%; text-align:center; border-radius:10px 10px;\">Importing Related Libraries</p>\n",
    "\n",
    "\n",
    "\n",
    "\n"
   ]
  },
  {
   "cell_type": "markdown",
   "metadata": {
    "id": "vvgJ5KWTs1MB"
   },
   "source": [
    "# PART- 1 `( Data Cleaning )`"
   ]
  },
  {
   "cell_type": "code",
   "execution_count": 1,
   "metadata": {
    "id": "Y13_gId7s1MC"
   },
   "outputs": [
    {
     "name": "stderr",
     "output_type": "stream",
     "text": [
      "C:\\Users\\gundo\\anaconda3\\lib\\site-packages\\scipy\\__init__.py:146: UserWarning: A NumPy version >=1.16.5 and <1.23.0 is required for this version of SciPy (detected version 1.23.1\n",
      "  warnings.warn(f\"A NumPy version >={np_minversion} and <{np_maxversion}\"\n"
     ]
    }
   ],
   "source": [
    "import pandas as pd \n",
    "import numpy as np \n",
    "import matplotlib.pyplot as plt \n",
    "import seaborn as sns\n",
    "\n",
    "import warnings \n",
    "warnings.filterwarnings(\"ignore\") \n",
    "warnings.warn(\"this will not show\")\n",
    "\n",
    "%matplotlib inline\n",
    "\n",
    "plt.rcParams[\"figure.figsize\"] = (10,6)\n",
    "\n",
    "sns.set_style(\"whitegrid\") \n",
    "pd.set_option('display.float_format', lambda x: '%.3f' % x)\n",
    "\n",
    "pd.options.display.max_rows = 150 \n",
    "pd.options.display.max_columns = 100\n",
    "import json\n",
    "import regex as re\n",
    "from datetime import date\n",
    "from datetime import datetime\n",
    "from datetime import timedelta"
   ]
  },
  {
   "cell_type": "markdown",
   "metadata": {},
   "source": [
    "### <p style=\"background-color:#9d4f8c; font-family:newtimeroman; color:#FFF9ED; font-size:150%; text-align:left; border-radius:10px 10px;\">Reading the data from file</p>"
   ]
  },
  {
   "cell_type": "code",
   "execution_count": 2,
   "metadata": {
    "scrolled": false
   },
   "outputs": [
    {
     "data": {
      "text/html": [
       "<div>\n",
       "<style scoped>\n",
       "    .dataframe tbody tr th:only-of-type {\n",
       "        vertical-align: middle;\n",
       "    }\n",
       "\n",
       "    .dataframe tbody tr th {\n",
       "        vertical-align: top;\n",
       "    }\n",
       "\n",
       "    .dataframe thead th {\n",
       "        text-align: right;\n",
       "    }\n",
       "</style>\n",
       "<table border=\"1\" class=\"dataframe\">\n",
       "  <thead>\n",
       "    <tr style=\"text-align: right;\">\n",
       "      <th></th>\n",
       "      <th>0</th>\n",
       "      <th>1</th>\n",
       "      <th>2</th>\n",
       "      <th>3</th>\n",
       "      <th>4</th>\n",
       "    </tr>\n",
       "  </thead>\n",
       "  <tbody>\n",
       "    <tr>\n",
       "      <th>url</th>\n",
       "      <td>https://www.autoscout24.com//offers/audi-a1-sp...</td>\n",
       "      <td>https://www.autoscout24.com//offers/audi-a1-1-...</td>\n",
       "      <td>https://www.autoscout24.com//offers/audi-a1-sp...</td>\n",
       "      <td>https://www.autoscout24.com//offers/audi-a1-1-...</td>\n",
       "      <td>https://www.autoscout24.com//offers/audi-a1-sp...</td>\n",
       "    </tr>\n",
       "    <tr>\n",
       "      <th>make_model</th>\n",
       "      <td>Audi A1</td>\n",
       "      <td>Audi A1</td>\n",
       "      <td>Audi A1</td>\n",
       "      <td>Audi A1</td>\n",
       "      <td>Audi A1</td>\n",
       "    </tr>\n",
       "    <tr>\n",
       "      <th>short_description</th>\n",
       "      <td>Sportback 1.4 TDI S-tronic Xenon Navi Klima</td>\n",
       "      <td>1.8 TFSI sport</td>\n",
       "      <td>Sportback 1.6 TDI S tronic Einparkhilfe plus+m...</td>\n",
       "      <td>1.4 TDi Design S tronic</td>\n",
       "      <td>Sportback 1.4 TDI S-Tronic S-Line Ext. admired...</td>\n",
       "    </tr>\n",
       "    <tr>\n",
       "      <th>body_type</th>\n",
       "      <td>Sedans</td>\n",
       "      <td>Sedans</td>\n",
       "      <td>Sedans</td>\n",
       "      <td>Sedans</td>\n",
       "      <td>Sedans</td>\n",
       "    </tr>\n",
       "    <tr>\n",
       "      <th>price</th>\n",
       "      <td>15770</td>\n",
       "      <td>14500</td>\n",
       "      <td>14640</td>\n",
       "      <td>14500</td>\n",
       "      <td>16790</td>\n",
       "    </tr>\n",
       "    <tr>\n",
       "      <th>vat</th>\n",
       "      <td>VAT deductible</td>\n",
       "      <td>Price negotiable</td>\n",
       "      <td>VAT deductible</td>\n",
       "      <td>None</td>\n",
       "      <td>None</td>\n",
       "    </tr>\n",
       "    <tr>\n",
       "      <th>km</th>\n",
       "      <td>56,013 km</td>\n",
       "      <td>80,000 km</td>\n",
       "      <td>83,450 km</td>\n",
       "      <td>73,000 km</td>\n",
       "      <td>16,200 km</td>\n",
       "    </tr>\n",
       "    <tr>\n",
       "      <th>registration</th>\n",
       "      <td>01/2016</td>\n",
       "      <td>03/2017</td>\n",
       "      <td>02/2016</td>\n",
       "      <td>08/2016</td>\n",
       "      <td>05/2016</td>\n",
       "    </tr>\n",
       "    <tr>\n",
       "      <th>prev_owner</th>\n",
       "      <td>2 previous owners</td>\n",
       "      <td>None</td>\n",
       "      <td>1 previous owner</td>\n",
       "      <td>1 previous owner</td>\n",
       "      <td>1 previous owner</td>\n",
       "    </tr>\n",
       "    <tr>\n",
       "      <th>kW</th>\n",
       "      <td>NaN</td>\n",
       "      <td>NaN</td>\n",
       "      <td>NaN</td>\n",
       "      <td>NaN</td>\n",
       "      <td>NaN</td>\n",
       "    </tr>\n",
       "    <tr>\n",
       "      <th>hp</th>\n",
       "      <td>66 kW</td>\n",
       "      <td>141 kW</td>\n",
       "      <td>85 kW</td>\n",
       "      <td>66 kW</td>\n",
       "      <td>66 kW</td>\n",
       "    </tr>\n",
       "    <tr>\n",
       "      <th>Type</th>\n",
       "      <td>[, Used, , Diesel (Particulate Filter)]</td>\n",
       "      <td>[, Used, , Gasoline]</td>\n",
       "      <td>[, Used, , Diesel (Particulate Filter)]</td>\n",
       "      <td>[, Used, , Diesel (Particulate Filter)]</td>\n",
       "      <td>[, Used, , Diesel (Particulate Filter)]</td>\n",
       "    </tr>\n",
       "    <tr>\n",
       "      <th>Previous Owners</th>\n",
       "      <td>\\n2\\n</td>\n",
       "      <td>NaN</td>\n",
       "      <td>\\n1\\n</td>\n",
       "      <td>\\n1\\n</td>\n",
       "      <td>\\n1\\n</td>\n",
       "    </tr>\n",
       "    <tr>\n",
       "      <th>Next Inspection</th>\n",
       "      <td>[\\n06/2021\\n, \\n99 g CO2/km (comb)\\n]</td>\n",
       "      <td>NaN</td>\n",
       "      <td>NaN</td>\n",
       "      <td>NaN</td>\n",
       "      <td>NaN</td>\n",
       "    </tr>\n",
       "    <tr>\n",
       "      <th>Inspection new</th>\n",
       "      <td>[\\nYes\\n, \\nEuro 6\\n]</td>\n",
       "      <td>NaN</td>\n",
       "      <td>NaN</td>\n",
       "      <td>NaN</td>\n",
       "      <td>[\\nYes\\n, \\n109 g CO2/km (comb)\\n]</td>\n",
       "    </tr>\n",
       "    <tr>\n",
       "      <th>Warranty</th>\n",
       "      <td>[\\n, \\n, \\n4 (Green)\\n]</td>\n",
       "      <td>NaN</td>\n",
       "      <td>[\\n, \\n, \\n99 g CO2/km (comb)\\n]</td>\n",
       "      <td>NaN</td>\n",
       "      <td>[\\n, \\n, \\nEuro 6\\n]</td>\n",
       "    </tr>\n",
       "    <tr>\n",
       "      <th>Full Service</th>\n",
       "      <td>[\\n, \\n]</td>\n",
       "      <td>NaN</td>\n",
       "      <td>NaN</td>\n",
       "      <td>[\\n, \\n, \\n99 g CO2/km (comb)\\n]</td>\n",
       "      <td>[\\n, \\n, \\n4 (Green)\\n]</td>\n",
       "    </tr>\n",
       "    <tr>\n",
       "      <th>Non-smoking Vehicle</th>\n",
       "      <td>[\\n, \\n]</td>\n",
       "      <td>NaN</td>\n",
       "      <td>NaN</td>\n",
       "      <td>[\\n, \\n, \\nEuro 6\\n]</td>\n",
       "      <td>[\\n, \\n]</td>\n",
       "    </tr>\n",
       "    <tr>\n",
       "      <th>null</th>\n",
       "      <td>[]</td>\n",
       "      <td>[]</td>\n",
       "      <td>[]</td>\n",
       "      <td>[]</td>\n",
       "      <td>[]</td>\n",
       "    </tr>\n",
       "    <tr>\n",
       "      <th>Make</th>\n",
       "      <td>\\nAudi\\n</td>\n",
       "      <td>\\nAudi\\n</td>\n",
       "      <td>\\nAudi\\n</td>\n",
       "      <td>\\nAudi\\n</td>\n",
       "      <td>\\nAudi\\n</td>\n",
       "    </tr>\n",
       "    <tr>\n",
       "      <th>Model</th>\n",
       "      <td>[\\n, A1, \\n]</td>\n",
       "      <td>[\\n, A1, \\n]</td>\n",
       "      <td>[\\n, A1, \\n]</td>\n",
       "      <td>[\\n, A1, \\n]</td>\n",
       "      <td>[\\n, A1, \\n]</td>\n",
       "    </tr>\n",
       "    <tr>\n",
       "      <th>Offer Number</th>\n",
       "      <td>[\\nLR-062483\\n]</td>\n",
       "      <td>NaN</td>\n",
       "      <td>[\\nAM-95365\\n]</td>\n",
       "      <td>NaN</td>\n",
       "      <td>[\\nC1626\\n]</td>\n",
       "    </tr>\n",
       "    <tr>\n",
       "      <th>First Registration</th>\n",
       "      <td>[\\n, 2016, \\n]</td>\n",
       "      <td>[\\n, 2017, \\n]</td>\n",
       "      <td>[\\n, 2016, \\n]</td>\n",
       "      <td>[\\n, 2016, \\n]</td>\n",
       "      <td>[\\n, 2016, \\n]</td>\n",
       "    </tr>\n",
       "    <tr>\n",
       "      <th>Body Color</th>\n",
       "      <td>[\\n, Black, \\n]</td>\n",
       "      <td>[\\n, Red, \\n]</td>\n",
       "      <td>[\\n, Black, \\n]</td>\n",
       "      <td>[\\n, Brown, \\n]</td>\n",
       "      <td>[\\n, Black, \\n]</td>\n",
       "    </tr>\n",
       "    <tr>\n",
       "      <th>Paint Type</th>\n",
       "      <td>[\\nMetallic\\n]</td>\n",
       "      <td>NaN</td>\n",
       "      <td>[\\nMetallic\\n]</td>\n",
       "      <td>[\\nMetallic\\n]</td>\n",
       "      <td>[\\nMetallic\\n]</td>\n",
       "    </tr>\n",
       "    <tr>\n",
       "      <th>Body Color Original</th>\n",
       "      <td>[\\nMythosschwarz\\n]</td>\n",
       "      <td>NaN</td>\n",
       "      <td>[\\nmythosschwarz metallic\\n]</td>\n",
       "      <td>NaN</td>\n",
       "      <td>[\\nMythosschwarz Metallic\\n]</td>\n",
       "    </tr>\n",
       "    <tr>\n",
       "      <th>Upholstery</th>\n",
       "      <td>[\\nCloth, Black\\n]</td>\n",
       "      <td>[\\nCloth, Grey\\n]</td>\n",
       "      <td>[\\nCloth, Black\\n]</td>\n",
       "      <td>NaN</td>\n",
       "      <td>[\\nCloth, Black\\n]</td>\n",
       "    </tr>\n",
       "    <tr>\n",
       "      <th>Body</th>\n",
       "      <td>[\\n, Sedans, \\n]</td>\n",
       "      <td>[\\n, Sedans, \\n]</td>\n",
       "      <td>[\\n, Sedans, \\n]</td>\n",
       "      <td>[\\n, Sedans, \\n]</td>\n",
       "      <td>[\\n, Sedans, \\n]</td>\n",
       "    </tr>\n",
       "    <tr>\n",
       "      <th>Nr. of Doors</th>\n",
       "      <td>[\\n5\\n]</td>\n",
       "      <td>[\\n3\\n]</td>\n",
       "      <td>[\\n4\\n]</td>\n",
       "      <td>[\\n3\\n]</td>\n",
       "      <td>[\\n5\\n]</td>\n",
       "    </tr>\n",
       "    <tr>\n",
       "      <th>Nr. of Seats</th>\n",
       "      <td>[\\n5\\n]</td>\n",
       "      <td>[\\n4\\n]</td>\n",
       "      <td>[\\n4\\n]</td>\n",
       "      <td>[\\n4\\n]</td>\n",
       "      <td>[\\n5\\n]</td>\n",
       "    </tr>\n",
       "    <tr>\n",
       "      <th>Model Code</th>\n",
       "      <td>[\\n0588/BDF\\n]</td>\n",
       "      <td>[\\n0588/BCY\\n]</td>\n",
       "      <td>NaN</td>\n",
       "      <td>NaN</td>\n",
       "      <td>[\\n0588/BDF\\n]</td>\n",
       "    </tr>\n",
       "    <tr>\n",
       "      <th>Gearing Type</th>\n",
       "      <td>[\\n, Automatic, \\n]</td>\n",
       "      <td>[\\n, Automatic, \\n]</td>\n",
       "      <td>[\\n, Automatic, \\n]</td>\n",
       "      <td>[\\n, Automatic, \\n]</td>\n",
       "      <td>[\\n, Automatic, \\n]</td>\n",
       "    </tr>\n",
       "    <tr>\n",
       "      <th>Displacement</th>\n",
       "      <td>[\\n1,422 cc\\n]</td>\n",
       "      <td>[\\n1,798 cc\\n]</td>\n",
       "      <td>[\\n1,598 cc\\n]</td>\n",
       "      <td>[\\n1,422 cc\\n]</td>\n",
       "      <td>[\\n1,422 cc\\n]</td>\n",
       "    </tr>\n",
       "    <tr>\n",
       "      <th>Cylinders</th>\n",
       "      <td>[\\n3\\n]</td>\n",
       "      <td>[\\n4\\n]</td>\n",
       "      <td>NaN</td>\n",
       "      <td>[\\n3\\n]</td>\n",
       "      <td>[\\n3\\n]</td>\n",
       "    </tr>\n",
       "    <tr>\n",
       "      <th>Weight</th>\n",
       "      <td>[\\n1,220 kg\\n]</td>\n",
       "      <td>[\\n1,255 kg\\n]</td>\n",
       "      <td>NaN</td>\n",
       "      <td>[\\n1,195 kg\\n]</td>\n",
       "      <td>NaN</td>\n",
       "    </tr>\n",
       "    <tr>\n",
       "      <th>Drive chain</th>\n",
       "      <td>[\\nfront\\n]</td>\n",
       "      <td>[\\nfront\\n]</td>\n",
       "      <td>[\\nfront\\n]</td>\n",
       "      <td>NaN</td>\n",
       "      <td>[\\nfront\\n]</td>\n",
       "    </tr>\n",
       "    <tr>\n",
       "      <th>Fuel</th>\n",
       "      <td>[\\n, Diesel (Particulate Filter), \\n]</td>\n",
       "      <td>[\\n, Gasoline, \\n]</td>\n",
       "      <td>[\\n, Diesel (Particulate Filter), \\n]</td>\n",
       "      <td>[\\n, Diesel (Particulate Filter), \\n]</td>\n",
       "      <td>[\\n, Diesel (Particulate Filter), \\n]</td>\n",
       "    </tr>\n",
       "    <tr>\n",
       "      <th>Consumption</th>\n",
       "      <td>[[3.8 l/100 km (comb)], [4.3 l/100 km (city)],...</td>\n",
       "      <td>[[5.6 l/100 km (comb)], [7.1 l/100 km (city)],...</td>\n",
       "      <td>[[3.8 l/100 km (comb)], [4.4 l/100 km (city)],...</td>\n",
       "      <td>[[3.8 l/100 km (comb)], [4.3 l/100 km (city)],...</td>\n",
       "      <td>[[4.1 l/100 km (comb)], [4.6 l/100 km (city)],...</td>\n",
       "    </tr>\n",
       "    <tr>\n",
       "      <th>CO2 Emission</th>\n",
       "      <td>[\\n99 g CO2/km (comb)\\n]</td>\n",
       "      <td>[\\n129 g CO2/km (comb)\\n]</td>\n",
       "      <td>[\\n99 g CO2/km (comb)\\n]</td>\n",
       "      <td>[\\n99 g CO2/km (comb)\\n]</td>\n",
       "      <td>[\\n109 g CO2/km (comb)\\n]</td>\n",
       "    </tr>\n",
       "    <tr>\n",
       "      <th>Emission Class</th>\n",
       "      <td>[\\nEuro 6\\n]</td>\n",
       "      <td>[\\nEuro 6\\n]</td>\n",
       "      <td>[\\nEuro 6\\n]</td>\n",
       "      <td>[\\nEuro 6\\n]</td>\n",
       "      <td>[\\nEuro 6\\n]</td>\n",
       "    </tr>\n",
       "    <tr>\n",
       "      <th>\\nComfort &amp; Convenience\\n</th>\n",
       "      <td>[Air conditioning, Armrest, Automatic climate ...</td>\n",
       "      <td>[Air conditioning, Automatic climate control, ...</td>\n",
       "      <td>[Air conditioning, Cruise control, Electrical ...</td>\n",
       "      <td>[Air suspension, Armrest, Auxiliary heating, E...</td>\n",
       "      <td>[Air conditioning, Armrest, Automatic climate ...</td>\n",
       "    </tr>\n",
       "    <tr>\n",
       "      <th>\\nEntertainment &amp; Media\\n</th>\n",
       "      <td>[Bluetooth, Hands-free equipment, On-board com...</td>\n",
       "      <td>[Bluetooth, Hands-free equipment, On-board com...</td>\n",
       "      <td>[MP3, On-board computer]</td>\n",
       "      <td>[Bluetooth, CD player, Hands-free equipment, M...</td>\n",
       "      <td>[Bluetooth, CD player, Hands-free equipment, M...</td>\n",
       "    </tr>\n",
       "    <tr>\n",
       "      <th>\\nExtras\\n</th>\n",
       "      <td>[Alloy wheels, Catalytic Converter, Voice Cont...</td>\n",
       "      <td>[Alloy wheels, Sport seats, Sport suspension, ...</td>\n",
       "      <td>[Alloy wheels, Voice Control]</td>\n",
       "      <td>[Alloy wheels, Sport seats, Voice Control]</td>\n",
       "      <td>[Alloy wheels, Sport package, Sport suspension...</td>\n",
       "    </tr>\n",
       "    <tr>\n",
       "      <th>\\nSafety &amp; Security\\n</th>\n",
       "      <td>[ABS, Central door lock, Daytime running light...</td>\n",
       "      <td>[ABS, Central door lock, Central door lock wit...</td>\n",
       "      <td>[ABS, Central door lock, Daytime running light...</td>\n",
       "      <td>[ABS, Alarm system, Central door lock with rem...</td>\n",
       "      <td>[ABS, Central door lock, Driver-side airbag, E...</td>\n",
       "    </tr>\n",
       "    <tr>\n",
       "      <th>description</th>\n",
       "      <td>[\\n, Sicherheit:,  , Deaktivierung für Beifahr...</td>\n",
       "      <td>[\\nLangstreckenfahrzeug daher die hohe Kilomet...</td>\n",
       "      <td>[\\n, Fahrzeug-Nummer: AM-95365,  , Ehem. UPE 2...</td>\n",
       "      <td>[\\nAudi A1: , - 1e eigenaar , - Perfecte staat...</td>\n",
       "      <td>[\\n, Technik &amp; Sicherheit:, Xenon plus, Klimaa...</td>\n",
       "    </tr>\n",
       "    <tr>\n",
       "      <th>Emission Label</th>\n",
       "      <td>NaN</td>\n",
       "      <td>[\\n4 (Green)\\n]</td>\n",
       "      <td>[\\n4 (Green)\\n]</td>\n",
       "      <td>NaN</td>\n",
       "      <td>NaN</td>\n",
       "    </tr>\n",
       "    <tr>\n",
       "      <th>Gears</th>\n",
       "      <td>NaN</td>\n",
       "      <td>[\\n7\\n]</td>\n",
       "      <td>NaN</td>\n",
       "      <td>[\\n6\\n]</td>\n",
       "      <td>NaN</td>\n",
       "    </tr>\n",
       "    <tr>\n",
       "      <th>Country version</th>\n",
       "      <td>NaN</td>\n",
       "      <td>NaN</td>\n",
       "      <td>NaN</td>\n",
       "      <td>NaN</td>\n",
       "      <td>[\\nGermany\\n]</td>\n",
       "    </tr>\n",
       "    <tr>\n",
       "      <th>Electricity consumption</th>\n",
       "      <td>NaN</td>\n",
       "      <td>NaN</td>\n",
       "      <td>NaN</td>\n",
       "      <td>NaN</td>\n",
       "      <td>NaN</td>\n",
       "    </tr>\n",
       "    <tr>\n",
       "      <th>Last Service Date</th>\n",
       "      <td>NaN</td>\n",
       "      <td>NaN</td>\n",
       "      <td>NaN</td>\n",
       "      <td>NaN</td>\n",
       "      <td>NaN</td>\n",
       "    </tr>\n",
       "    <tr>\n",
       "      <th>Other Fuel Types</th>\n",
       "      <td>NaN</td>\n",
       "      <td>NaN</td>\n",
       "      <td>NaN</td>\n",
       "      <td>NaN</td>\n",
       "      <td>NaN</td>\n",
       "    </tr>\n",
       "    <tr>\n",
       "      <th>Availability</th>\n",
       "      <td>NaN</td>\n",
       "      <td>NaN</td>\n",
       "      <td>NaN</td>\n",
       "      <td>NaN</td>\n",
       "      <td>NaN</td>\n",
       "    </tr>\n",
       "    <tr>\n",
       "      <th>Last Timing Belt Service Date</th>\n",
       "      <td>NaN</td>\n",
       "      <td>NaN</td>\n",
       "      <td>NaN</td>\n",
       "      <td>NaN</td>\n",
       "      <td>NaN</td>\n",
       "    </tr>\n",
       "    <tr>\n",
       "      <th>Available from</th>\n",
       "      <td>NaN</td>\n",
       "      <td>NaN</td>\n",
       "      <td>NaN</td>\n",
       "      <td>NaN</td>\n",
       "      <td>NaN</td>\n",
       "    </tr>\n",
       "  </tbody>\n",
       "</table>\n",
       "</div>"
      ],
      "text/plain": [
       "                                                                               0  \\\n",
       "url                            https://www.autoscout24.com//offers/audi-a1-sp...   \n",
       "make_model                                                               Audi A1   \n",
       "short_description                    Sportback 1.4 TDI S-tronic Xenon Navi Klima   \n",
       "body_type                                                                 Sedans   \n",
       "price                                                                      15770   \n",
       "vat                                                               VAT deductible   \n",
       "km                                                                     56,013 km   \n",
       "registration                                                             01/2016   \n",
       "prev_owner                                                     2 previous owners   \n",
       "kW                                                                           NaN   \n",
       "hp                                                                         66 kW   \n",
       "Type                                     [, Used, , Diesel (Particulate Filter)]   \n",
       "Previous Owners                                                            \\n2\\n   \n",
       "Next Inspection                            [\\n06/2021\\n, \\n99 g CO2/km (comb)\\n]   \n",
       "Inspection new                                             [\\nYes\\n, \\nEuro 6\\n]   \n",
       "Warranty                                                 [\\n, \\n, \\n4 (Green)\\n]   \n",
       "Full Service                                                            [\\n, \\n]   \n",
       "Non-smoking Vehicle                                                     [\\n, \\n]   \n",
       "null                                                                          []   \n",
       "Make                                                                    \\nAudi\\n   \n",
       "Model                                                               [\\n, A1, \\n]   \n",
       "Offer Number                                                     [\\nLR-062483\\n]   \n",
       "First Registration                                                [\\n, 2016, \\n]   \n",
       "Body Color                                                       [\\n, Black, \\n]   \n",
       "Paint Type                                                        [\\nMetallic\\n]   \n",
       "Body Color Original                                          [\\nMythosschwarz\\n]   \n",
       "Upholstery                                                    [\\nCloth, Black\\n]   \n",
       "Body                                                            [\\n, Sedans, \\n]   \n",
       "Nr. of Doors                                                             [\\n5\\n]   \n",
       "Nr. of Seats                                                             [\\n5\\n]   \n",
       "Model Code                                                        [\\n0588/BDF\\n]   \n",
       "Gearing Type                                                 [\\n, Automatic, \\n]   \n",
       "Displacement                                                      [\\n1,422 cc\\n]   \n",
       "Cylinders                                                                [\\n3\\n]   \n",
       "Weight                                                            [\\n1,220 kg\\n]   \n",
       "Drive chain                                                          [\\nfront\\n]   \n",
       "Fuel                                       [\\n, Diesel (Particulate Filter), \\n]   \n",
       "Consumption                    [[3.8 l/100 km (comb)], [4.3 l/100 km (city)],...   \n",
       "CO2 Emission                                            [\\n99 g CO2/km (comb)\\n]   \n",
       "Emission Class                                                      [\\nEuro 6\\n]   \n",
       "\\nComfort & Convenience\\n      [Air conditioning, Armrest, Automatic climate ...   \n",
       "\\nEntertainment & Media\\n      [Bluetooth, Hands-free equipment, On-board com...   \n",
       "\\nExtras\\n                     [Alloy wheels, Catalytic Converter, Voice Cont...   \n",
       "\\nSafety & Security\\n          [ABS, Central door lock, Daytime running light...   \n",
       "description                    [\\n, Sicherheit:,  , Deaktivierung für Beifahr...   \n",
       "Emission Label                                                               NaN   \n",
       "Gears                                                                        NaN   \n",
       "Country version                                                              NaN   \n",
       "Electricity consumption                                                      NaN   \n",
       "Last Service Date                                                            NaN   \n",
       "Other Fuel Types                                                             NaN   \n",
       "Availability                                                                 NaN   \n",
       "Last Timing Belt Service Date                                                NaN   \n",
       "Available from                                                               NaN   \n",
       "\n",
       "                                                                               1  \\\n",
       "url                            https://www.autoscout24.com//offers/audi-a1-1-...   \n",
       "make_model                                                               Audi A1   \n",
       "short_description                                                 1.8 TFSI sport   \n",
       "body_type                                                                 Sedans   \n",
       "price                                                                      14500   \n",
       "vat                                                             Price negotiable   \n",
       "km                                                                     80,000 km   \n",
       "registration                                                             03/2017   \n",
       "prev_owner                                                                  None   \n",
       "kW                                                                           NaN   \n",
       "hp                                                                        141 kW   \n",
       "Type                                                        [, Used, , Gasoline]   \n",
       "Previous Owners                                                              NaN   \n",
       "Next Inspection                                                              NaN   \n",
       "Inspection new                                                               NaN   \n",
       "Warranty                                                                     NaN   \n",
       "Full Service                                                                 NaN   \n",
       "Non-smoking Vehicle                                                          NaN   \n",
       "null                                                                          []   \n",
       "Make                                                                    \\nAudi\\n   \n",
       "Model                                                               [\\n, A1, \\n]   \n",
       "Offer Number                                                                 NaN   \n",
       "First Registration                                                [\\n, 2017, \\n]   \n",
       "Body Color                                                         [\\n, Red, \\n]   \n",
       "Paint Type                                                                   NaN   \n",
       "Body Color Original                                                          NaN   \n",
       "Upholstery                                                     [\\nCloth, Grey\\n]   \n",
       "Body                                                            [\\n, Sedans, \\n]   \n",
       "Nr. of Doors                                                             [\\n3\\n]   \n",
       "Nr. of Seats                                                             [\\n4\\n]   \n",
       "Model Code                                                        [\\n0588/BCY\\n]   \n",
       "Gearing Type                                                 [\\n, Automatic, \\n]   \n",
       "Displacement                                                      [\\n1,798 cc\\n]   \n",
       "Cylinders                                                                [\\n4\\n]   \n",
       "Weight                                                            [\\n1,255 kg\\n]   \n",
       "Drive chain                                                          [\\nfront\\n]   \n",
       "Fuel                                                          [\\n, Gasoline, \\n]   \n",
       "Consumption                    [[5.6 l/100 km (comb)], [7.1 l/100 km (city)],...   \n",
       "CO2 Emission                                           [\\n129 g CO2/km (comb)\\n]   \n",
       "Emission Class                                                      [\\nEuro 6\\n]   \n",
       "\\nComfort & Convenience\\n      [Air conditioning, Automatic climate control, ...   \n",
       "\\nEntertainment & Media\\n      [Bluetooth, Hands-free equipment, On-board com...   \n",
       "\\nExtras\\n                     [Alloy wheels, Sport seats, Sport suspension, ...   \n",
       "\\nSafety & Security\\n          [ABS, Central door lock, Central door lock wit...   \n",
       "description                    [\\nLangstreckenfahrzeug daher die hohe Kilomet...   \n",
       "Emission Label                                                   [\\n4 (Green)\\n]   \n",
       "Gears                                                                    [\\n7\\n]   \n",
       "Country version                                                              NaN   \n",
       "Electricity consumption                                                      NaN   \n",
       "Last Service Date                                                            NaN   \n",
       "Other Fuel Types                                                             NaN   \n",
       "Availability                                                                 NaN   \n",
       "Last Timing Belt Service Date                                                NaN   \n",
       "Available from                                                               NaN   \n",
       "\n",
       "                                                                               2  \\\n",
       "url                            https://www.autoscout24.com//offers/audi-a1-sp...   \n",
       "make_model                                                               Audi A1   \n",
       "short_description              Sportback 1.6 TDI S tronic Einparkhilfe plus+m...   \n",
       "body_type                                                                 Sedans   \n",
       "price                                                                      14640   \n",
       "vat                                                               VAT deductible   \n",
       "km                                                                     83,450 km   \n",
       "registration                                                             02/2016   \n",
       "prev_owner                                                      1 previous owner   \n",
       "kW                                                                           NaN   \n",
       "hp                                                                         85 kW   \n",
       "Type                                     [, Used, , Diesel (Particulate Filter)]   \n",
       "Previous Owners                                                            \\n1\\n   \n",
       "Next Inspection                                                              NaN   \n",
       "Inspection new                                                               NaN   \n",
       "Warranty                                        [\\n, \\n, \\n99 g CO2/km (comb)\\n]   \n",
       "Full Service                                                                 NaN   \n",
       "Non-smoking Vehicle                                                          NaN   \n",
       "null                                                                          []   \n",
       "Make                                                                    \\nAudi\\n   \n",
       "Model                                                               [\\n, A1, \\n]   \n",
       "Offer Number                                                      [\\nAM-95365\\n]   \n",
       "First Registration                                                [\\n, 2016, \\n]   \n",
       "Body Color                                                       [\\n, Black, \\n]   \n",
       "Paint Type                                                        [\\nMetallic\\n]   \n",
       "Body Color Original                                 [\\nmythosschwarz metallic\\n]   \n",
       "Upholstery                                                    [\\nCloth, Black\\n]   \n",
       "Body                                                            [\\n, Sedans, \\n]   \n",
       "Nr. of Doors                                                             [\\n4\\n]   \n",
       "Nr. of Seats                                                             [\\n4\\n]   \n",
       "Model Code                                                                   NaN   \n",
       "Gearing Type                                                 [\\n, Automatic, \\n]   \n",
       "Displacement                                                      [\\n1,598 cc\\n]   \n",
       "Cylinders                                                                    NaN   \n",
       "Weight                                                                       NaN   \n",
       "Drive chain                                                          [\\nfront\\n]   \n",
       "Fuel                                       [\\n, Diesel (Particulate Filter), \\n]   \n",
       "Consumption                    [[3.8 l/100 km (comb)], [4.4 l/100 km (city)],...   \n",
       "CO2 Emission                                            [\\n99 g CO2/km (comb)\\n]   \n",
       "Emission Class                                                      [\\nEuro 6\\n]   \n",
       "\\nComfort & Convenience\\n      [Air conditioning, Cruise control, Electrical ...   \n",
       "\\nEntertainment & Media\\n                               [MP3, On-board computer]   \n",
       "\\nExtras\\n                                         [Alloy wheels, Voice Control]   \n",
       "\\nSafety & Security\\n          [ABS, Central door lock, Daytime running light...   \n",
       "description                    [\\n, Fahrzeug-Nummer: AM-95365,  , Ehem. UPE 2...   \n",
       "Emission Label                                                   [\\n4 (Green)\\n]   \n",
       "Gears                                                                        NaN   \n",
       "Country version                                                              NaN   \n",
       "Electricity consumption                                                      NaN   \n",
       "Last Service Date                                                            NaN   \n",
       "Other Fuel Types                                                             NaN   \n",
       "Availability                                                                 NaN   \n",
       "Last Timing Belt Service Date                                                NaN   \n",
       "Available from                                                               NaN   \n",
       "\n",
       "                                                                               3  \\\n",
       "url                            https://www.autoscout24.com//offers/audi-a1-1-...   \n",
       "make_model                                                               Audi A1   \n",
       "short_description                                        1.4 TDi Design S tronic   \n",
       "body_type                                                                 Sedans   \n",
       "price                                                                      14500   \n",
       "vat                                                                         None   \n",
       "km                                                                     73,000 km   \n",
       "registration                                                             08/2016   \n",
       "prev_owner                                                      1 previous owner   \n",
       "kW                                                                           NaN   \n",
       "hp                                                                         66 kW   \n",
       "Type                                     [, Used, , Diesel (Particulate Filter)]   \n",
       "Previous Owners                                                            \\n1\\n   \n",
       "Next Inspection                                                              NaN   \n",
       "Inspection new                                                               NaN   \n",
       "Warranty                                                                     NaN   \n",
       "Full Service                                    [\\n, \\n, \\n99 g CO2/km (comb)\\n]   \n",
       "Non-smoking Vehicle                                         [\\n, \\n, \\nEuro 6\\n]   \n",
       "null                                                                          []   \n",
       "Make                                                                    \\nAudi\\n   \n",
       "Model                                                               [\\n, A1, \\n]   \n",
       "Offer Number                                                                 NaN   \n",
       "First Registration                                                [\\n, 2016, \\n]   \n",
       "Body Color                                                       [\\n, Brown, \\n]   \n",
       "Paint Type                                                        [\\nMetallic\\n]   \n",
       "Body Color Original                                                          NaN   \n",
       "Upholstery                                                                   NaN   \n",
       "Body                                                            [\\n, Sedans, \\n]   \n",
       "Nr. of Doors                                                             [\\n3\\n]   \n",
       "Nr. of Seats                                                             [\\n4\\n]   \n",
       "Model Code                                                                   NaN   \n",
       "Gearing Type                                                 [\\n, Automatic, \\n]   \n",
       "Displacement                                                      [\\n1,422 cc\\n]   \n",
       "Cylinders                                                                [\\n3\\n]   \n",
       "Weight                                                            [\\n1,195 kg\\n]   \n",
       "Drive chain                                                                  NaN   \n",
       "Fuel                                       [\\n, Diesel (Particulate Filter), \\n]   \n",
       "Consumption                    [[3.8 l/100 km (comb)], [4.3 l/100 km (city)],...   \n",
       "CO2 Emission                                            [\\n99 g CO2/km (comb)\\n]   \n",
       "Emission Class                                                      [\\nEuro 6\\n]   \n",
       "\\nComfort & Convenience\\n      [Air suspension, Armrest, Auxiliary heating, E...   \n",
       "\\nEntertainment & Media\\n      [Bluetooth, CD player, Hands-free equipment, M...   \n",
       "\\nExtras\\n                            [Alloy wheels, Sport seats, Voice Control]   \n",
       "\\nSafety & Security\\n          [ABS, Alarm system, Central door lock with rem...   \n",
       "description                    [\\nAudi A1: , - 1e eigenaar , - Perfecte staat...   \n",
       "Emission Label                                                               NaN   \n",
       "Gears                                                                    [\\n6\\n]   \n",
       "Country version                                                              NaN   \n",
       "Electricity consumption                                                      NaN   \n",
       "Last Service Date                                                            NaN   \n",
       "Other Fuel Types                                                             NaN   \n",
       "Availability                                                                 NaN   \n",
       "Last Timing Belt Service Date                                                NaN   \n",
       "Available from                                                               NaN   \n",
       "\n",
       "                                                                               4  \n",
       "url                            https://www.autoscout24.com//offers/audi-a1-sp...  \n",
       "make_model                                                               Audi A1  \n",
       "short_description              Sportback 1.4 TDI S-Tronic S-Line Ext. admired...  \n",
       "body_type                                                                 Sedans  \n",
       "price                                                                      16790  \n",
       "vat                                                                         None  \n",
       "km                                                                     16,200 km  \n",
       "registration                                                             05/2016  \n",
       "prev_owner                                                      1 previous owner  \n",
       "kW                                                                           NaN  \n",
       "hp                                                                         66 kW  \n",
       "Type                                     [, Used, , Diesel (Particulate Filter)]  \n",
       "Previous Owners                                                            \\n1\\n  \n",
       "Next Inspection                                                              NaN  \n",
       "Inspection new                                [\\nYes\\n, \\n109 g CO2/km (comb)\\n]  \n",
       "Warranty                                                    [\\n, \\n, \\nEuro 6\\n]  \n",
       "Full Service                                             [\\n, \\n, \\n4 (Green)\\n]  \n",
       "Non-smoking Vehicle                                                     [\\n, \\n]  \n",
       "null                                                                          []  \n",
       "Make                                                                    \\nAudi\\n  \n",
       "Model                                                               [\\n, A1, \\n]  \n",
       "Offer Number                                                         [\\nC1626\\n]  \n",
       "First Registration                                                [\\n, 2016, \\n]  \n",
       "Body Color                                                       [\\n, Black, \\n]  \n",
       "Paint Type                                                        [\\nMetallic\\n]  \n",
       "Body Color Original                                 [\\nMythosschwarz Metallic\\n]  \n",
       "Upholstery                                                    [\\nCloth, Black\\n]  \n",
       "Body                                                            [\\n, Sedans, \\n]  \n",
       "Nr. of Doors                                                             [\\n5\\n]  \n",
       "Nr. of Seats                                                             [\\n5\\n]  \n",
       "Model Code                                                        [\\n0588/BDF\\n]  \n",
       "Gearing Type                                                 [\\n, Automatic, \\n]  \n",
       "Displacement                                                      [\\n1,422 cc\\n]  \n",
       "Cylinders                                                                [\\n3\\n]  \n",
       "Weight                                                                       NaN  \n",
       "Drive chain                                                          [\\nfront\\n]  \n",
       "Fuel                                       [\\n, Diesel (Particulate Filter), \\n]  \n",
       "Consumption                    [[4.1 l/100 km (comb)], [4.6 l/100 km (city)],...  \n",
       "CO2 Emission                                           [\\n109 g CO2/km (comb)\\n]  \n",
       "Emission Class                                                      [\\nEuro 6\\n]  \n",
       "\\nComfort & Convenience\\n      [Air conditioning, Armrest, Automatic climate ...  \n",
       "\\nEntertainment & Media\\n      [Bluetooth, CD player, Hands-free equipment, M...  \n",
       "\\nExtras\\n                     [Alloy wheels, Sport package, Sport suspension...  \n",
       "\\nSafety & Security\\n          [ABS, Central door lock, Driver-side airbag, E...  \n",
       "description                    [\\n, Technik & Sicherheit:, Xenon plus, Klimaa...  \n",
       "Emission Label                                                               NaN  \n",
       "Gears                                                                        NaN  \n",
       "Country version                                                    [\\nGermany\\n]  \n",
       "Electricity consumption                                                      NaN  \n",
       "Last Service Date                                                            NaN  \n",
       "Other Fuel Types                                                             NaN  \n",
       "Availability                                                                 NaN  \n",
       "Last Timing Belt Service Date                                                NaN  \n",
       "Available from                                                               NaN  "
      ]
     },
     "execution_count": 2,
     "metadata": {},
     "output_type": "execute_result"
    }
   ],
   "source": [
    "df = pd.read_json(\"scout_car.json\",lines=True)\n",
    "df.head().T"
   ]
  },
  {
   "cell_type": "code",
   "execution_count": 3,
   "metadata": {
    "scrolled": false
   },
   "outputs": [
    {
     "data": {
      "text/plain": [
       "(15919, 54)"
      ]
     },
     "execution_count": 3,
     "metadata": {},
     "output_type": "execute_result"
    }
   ],
   "source": [
    "df.shape"
   ]
  },
  {
   "cell_type": "code",
   "execution_count": 4,
   "metadata": {
    "scrolled": true
   },
   "outputs": [
    {
     "name": "stdout",
     "output_type": "stream",
     "text": [
      "<class 'pandas.core.frame.DataFrame'>\n",
      "RangeIndex: 15919 entries, 0 to 15918\n",
      "Data columns (total 54 columns):\n",
      " #   Column                         Non-Null Count  Dtype  \n",
      "---  ------                         --------------  -----  \n",
      " 0   url                            15919 non-null  object \n",
      " 1   make_model                     15919 non-null  object \n",
      " 2   short_description              15873 non-null  object \n",
      " 3   body_type                      15859 non-null  object \n",
      " 4   price                          15919 non-null  int64  \n",
      " 5   vat                            11406 non-null  object \n",
      " 6   km                             15919 non-null  object \n",
      " 7   registration                   15919 non-null  object \n",
      " 8   prev_owner                     9091 non-null   object \n",
      " 9   kW                             0 non-null      float64\n",
      " 10  hp                             15919 non-null  object \n",
      " 11  Type                           15917 non-null  object \n",
      " 12  Previous Owners                9279 non-null   object \n",
      " 13  Next Inspection                3535 non-null   object \n",
      " 14  Inspection new                 3932 non-null   object \n",
      " 15  Warranty                       10499 non-null  object \n",
      " 16  Full Service                   8215 non-null   object \n",
      " 17  Non-smoking Vehicle            7177 non-null   object \n",
      " 18  null                           15919 non-null  object \n",
      " 19  Make                           15919 non-null  object \n",
      " 20  Model                          15919 non-null  object \n",
      " 21  Offer Number                   12744 non-null  object \n",
      " 22  First Registration             14322 non-null  object \n",
      " 23  Body Color                     15322 non-null  object \n",
      " 24  Paint Type                     10147 non-null  object \n",
      " 25  Body Color Original            12160 non-null  object \n",
      " 26  Upholstery                     12199 non-null  object \n",
      " 27  Body                           15859 non-null  object \n",
      " 28  Nr. of Doors                   15707 non-null  object \n",
      " 29  Nr. of Seats                   14942 non-null  object \n",
      " 30  Model Code                     4978 non-null   object \n",
      " 31  Gearing Type                   15919 non-null  object \n",
      " 32  Displacement                   15423 non-null  object \n",
      " 33  Cylinders                      10239 non-null  object \n",
      " 34  Weight                         8945 non-null   object \n",
      " 35  Drive chain                    9061 non-null   object \n",
      " 36  Fuel                           15919 non-null  object \n",
      " 37  Consumption                    14013 non-null  object \n",
      " 38  CO2 Emission                   14111 non-null  object \n",
      " 39  Emission Class                 12898 non-null  object \n",
      " 40  \n",
      "Comfort & Convenience\n",
      "        14999 non-null  object \n",
      " 41  \n",
      "Entertainment & Media\n",
      "        14545 non-null  object \n",
      " 42  \n",
      "Extras\n",
      "                       12957 non-null  object \n",
      " 43  \n",
      "Safety & Security\n",
      "            14937 non-null  object \n",
      " 44  description                    15919 non-null  object \n",
      " 45  Emission Label                 3985 non-null   object \n",
      " 46  Gears                          11207 non-null  object \n",
      " 47  Country version                7586 non-null   object \n",
      " 48  Electricity consumption        137 non-null    object \n",
      " 49  Last Service Date              566 non-null    object \n",
      " 50  Other Fuel Types               880 non-null    object \n",
      " 51  Availability                   635 non-null    object \n",
      " 52  Last Timing Belt Service Date  16 non-null     object \n",
      " 53  Available from                 272 non-null    object \n",
      "dtypes: float64(1), int64(1), object(52)\n",
      "memory usage: 6.6+ MB\n"
     ]
    }
   ],
   "source": [
    "df.info()"
   ]
  },
  {
   "cell_type": "code",
   "execution_count": 5,
   "metadata": {},
   "outputs": [
    {
     "data": {
      "text/plain": [
       "url                                  0\n",
       "make_model                           0\n",
       "short_description                   46\n",
       "body_type                           60\n",
       "price                                0\n",
       "vat                               4513\n",
       "km                                   0\n",
       "registration                         0\n",
       "prev_owner                        6828\n",
       "kW                               15919\n",
       "hp                                   0\n",
       "Type                                 2\n",
       "Previous Owners                   6640\n",
       "Next Inspection                  12384\n",
       "Inspection new                   11987\n",
       "Warranty                          5420\n",
       "Full Service                      7704\n",
       "Non-smoking Vehicle               8742\n",
       "null                                 0\n",
       "Make                                 0\n",
       "Model                                0\n",
       "Offer Number                      3175\n",
       "First Registration                1597\n",
       "Body Color                         597\n",
       "Paint Type                        5772\n",
       "Body Color Original               3759\n",
       "Upholstery                        3720\n",
       "Body                                60\n",
       "Nr. of Doors                       212\n",
       "Nr. of Seats                       977\n",
       "Model Code                       10941\n",
       "Gearing Type                         0\n",
       "Displacement                       496\n",
       "Cylinders                         5680\n",
       "Weight                            6974\n",
       "Drive chain                       6858\n",
       "Fuel                                 0\n",
       "Consumption                       1906\n",
       "CO2 Emission                      1808\n",
       "Emission Class                    3021\n",
       "\\nComfort & Convenience\\n          920\n",
       "\\nEntertainment & Media\\n         1374\n",
       "\\nExtras\\n                        2962\n",
       "\\nSafety & Security\\n              982\n",
       "description                          0\n",
       "Emission Label                   11934\n",
       "Gears                             4712\n",
       "Country version                   8333\n",
       "Electricity consumption          15782\n",
       "Last Service Date                15353\n",
       "Other Fuel Types                 15039\n",
       "Availability                     15284\n",
       "Last Timing Belt Service Date    15903\n",
       "Available from                   15647\n",
       "dtype: int64"
      ]
     },
     "execution_count": 5,
     "metadata": {},
     "output_type": "execute_result"
    }
   ],
   "source": [
    "df.isnull().sum()"
   ]
  },
  {
   "cell_type": "code",
   "execution_count": 6,
   "metadata": {},
   "outputs": [
    {
     "data": {
      "text/plain": [
       "Index(['url', 'make_model', 'short_description', 'body_type', 'price', 'vat',\n",
       "       'km', 'registration', 'prev_owner', 'kW', 'hp', 'Type',\n",
       "       'Previous Owners', 'Next Inspection', 'Inspection new', 'Warranty',\n",
       "       'Full Service', 'Non-smoking Vehicle', 'null', 'Make', 'Model',\n",
       "       'Offer Number', 'First Registration', 'Body Color', 'Paint Type',\n",
       "       'Body Color Original', 'Upholstery', 'Body', 'Nr. of Doors',\n",
       "       'Nr. of Seats', 'Model Code', 'Gearing Type', 'Displacement',\n",
       "       'Cylinders', 'Weight', 'Drive chain', 'Fuel', 'Consumption',\n",
       "       'CO2 Emission', 'Emission Class', '\\nComfort & Convenience\\n',\n",
       "       '\\nEntertainment & Media\\n', '\\nExtras\\n', '\\nSafety & Security\\n',\n",
       "       'description', 'Emission Label', 'Gears', 'Country version',\n",
       "       'Electricity consumption', 'Last Service Date', 'Other Fuel Types',\n",
       "       'Availability', 'Last Timing Belt Service Date', 'Available from'],\n",
       "      dtype='object')"
      ]
     },
     "execution_count": 6,
     "metadata": {},
     "output_type": "execute_result"
    }
   ],
   "source": [
    "df.columns"
   ]
  },
  {
   "cell_type": "markdown",
   "metadata": {},
   "source": [
    "# Renaming Columns"
   ]
  },
  {
   "cell_type": "code",
   "execution_count": 7,
   "metadata": {},
   "outputs": [
    {
     "data": {
      "text/plain": [
       "Index(['url', 'make_model', 'short_description', 'body_type', 'price', 'vat',\n",
       "       'km', 'registration', 'prev_owner', 'kW', 'hp', 'Type',\n",
       "       'Previous Owners', 'Next Inspection', 'Inspection new', 'Warranty',\n",
       "       'Full Service', 'Non-smoking Vehicle', 'null', 'Make', 'Model',\n",
       "       'Offer Number', 'First Registration', 'Body Color', 'Paint Type',\n",
       "       'Body Color Original', 'Upholstery', 'Body', 'Nr. of Doors',\n",
       "       'Nr. of Seats', 'Model Code', 'Gearing Type', 'Displacement',\n",
       "       'Cylinders', 'Weight', 'Drive chain', 'Fuel', 'Consumption',\n",
       "       'CO2 Emission', 'Emission Class', '\\nComfort & Convenience\\n',\n",
       "       '\\nEntertainment & Media\\n', '\\nExtras\\n', '\\nSafety & Security\\n',\n",
       "       'description', 'Emission Label', 'Gears', 'Country version',\n",
       "       'Electricity consumption', 'Last Service Date', 'Other Fuel Types',\n",
       "       'Availability', 'Last Timing Belt Service Date', 'Available from'],\n",
       "      dtype='object')"
      ]
     },
     "execution_count": 7,
     "metadata": {},
     "output_type": "execute_result"
    }
   ],
   "source": [
    "df.columns"
   ]
  },
  {
   "cell_type": "code",
   "execution_count": 8,
   "metadata": {},
   "outputs": [],
   "source": [
    "df.rename(columns={\"\\nComfort & Convenience\\n\":\"Comfort & Convenience\",\n",
    "                   \"\\nEntertainment & Media\\n\":\"Entertainment & Media\",\n",
    "                   \"\\nExtras\\n\":\"Extras\",\n",
    "                   \"\\nSafety & Security\\n\":\"Safety & Security\"}, inplace=True)"
   ]
  },
  {
   "cell_type": "code",
   "execution_count": 9,
   "metadata": {},
   "outputs": [
    {
     "data": {
      "text/html": [
       "<div>\n",
       "<style scoped>\n",
       "    .dataframe tbody tr th:only-of-type {\n",
       "        vertical-align: middle;\n",
       "    }\n",
       "\n",
       "    .dataframe tbody tr th {\n",
       "        vertical-align: top;\n",
       "    }\n",
       "\n",
       "    .dataframe thead th {\n",
       "        text-align: right;\n",
       "    }\n",
       "</style>\n",
       "<table border=\"1\" class=\"dataframe\">\n",
       "  <thead>\n",
       "    <tr style=\"text-align: right;\">\n",
       "      <th></th>\n",
       "      <th>0</th>\n",
       "    </tr>\n",
       "  </thead>\n",
       "  <tbody>\n",
       "    <tr>\n",
       "      <th>url</th>\n",
       "      <td>https://www.autoscout24.com//offers/audi-a1-sp...</td>\n",
       "    </tr>\n",
       "    <tr>\n",
       "      <th>make_model</th>\n",
       "      <td>Audi A1</td>\n",
       "    </tr>\n",
       "    <tr>\n",
       "      <th>short_description</th>\n",
       "      <td>Sportback 1.4 TDI S-tronic Xenon Navi Klima</td>\n",
       "    </tr>\n",
       "    <tr>\n",
       "      <th>body_type</th>\n",
       "      <td>Sedans</td>\n",
       "    </tr>\n",
       "    <tr>\n",
       "      <th>price</th>\n",
       "      <td>15770</td>\n",
       "    </tr>\n",
       "    <tr>\n",
       "      <th>vat</th>\n",
       "      <td>VAT deductible</td>\n",
       "    </tr>\n",
       "    <tr>\n",
       "      <th>km</th>\n",
       "      <td>56,013 km</td>\n",
       "    </tr>\n",
       "    <tr>\n",
       "      <th>registration</th>\n",
       "      <td>01/2016</td>\n",
       "    </tr>\n",
       "    <tr>\n",
       "      <th>prev_owner</th>\n",
       "      <td>2 previous owners</td>\n",
       "    </tr>\n",
       "    <tr>\n",
       "      <th>kW</th>\n",
       "      <td>NaN</td>\n",
       "    </tr>\n",
       "    <tr>\n",
       "      <th>hp</th>\n",
       "      <td>66 kW</td>\n",
       "    </tr>\n",
       "    <tr>\n",
       "      <th>Type</th>\n",
       "      <td>[, Used, , Diesel (Particulate Filter)]</td>\n",
       "    </tr>\n",
       "    <tr>\n",
       "      <th>Previous Owners</th>\n",
       "      <td>\\n2\\n</td>\n",
       "    </tr>\n",
       "    <tr>\n",
       "      <th>Next Inspection</th>\n",
       "      <td>[\\n06/2021\\n, \\n99 g CO2/km (comb)\\n]</td>\n",
       "    </tr>\n",
       "    <tr>\n",
       "      <th>Inspection new</th>\n",
       "      <td>[\\nYes\\n, \\nEuro 6\\n]</td>\n",
       "    </tr>\n",
       "    <tr>\n",
       "      <th>Warranty</th>\n",
       "      <td>[\\n, \\n, \\n4 (Green)\\n]</td>\n",
       "    </tr>\n",
       "    <tr>\n",
       "      <th>Full Service</th>\n",
       "      <td>[\\n, \\n]</td>\n",
       "    </tr>\n",
       "    <tr>\n",
       "      <th>Non-smoking Vehicle</th>\n",
       "      <td>[\\n, \\n]</td>\n",
       "    </tr>\n",
       "    <tr>\n",
       "      <th>null</th>\n",
       "      <td>[]</td>\n",
       "    </tr>\n",
       "    <tr>\n",
       "      <th>Make</th>\n",
       "      <td>\\nAudi\\n</td>\n",
       "    </tr>\n",
       "    <tr>\n",
       "      <th>Model</th>\n",
       "      <td>[\\n, A1, \\n]</td>\n",
       "    </tr>\n",
       "    <tr>\n",
       "      <th>Offer Number</th>\n",
       "      <td>[\\nLR-062483\\n]</td>\n",
       "    </tr>\n",
       "    <tr>\n",
       "      <th>First Registration</th>\n",
       "      <td>[\\n, 2016, \\n]</td>\n",
       "    </tr>\n",
       "    <tr>\n",
       "      <th>Body Color</th>\n",
       "      <td>[\\n, Black, \\n]</td>\n",
       "    </tr>\n",
       "    <tr>\n",
       "      <th>Paint Type</th>\n",
       "      <td>[\\nMetallic\\n]</td>\n",
       "    </tr>\n",
       "    <tr>\n",
       "      <th>Body Color Original</th>\n",
       "      <td>[\\nMythosschwarz\\n]</td>\n",
       "    </tr>\n",
       "    <tr>\n",
       "      <th>Upholstery</th>\n",
       "      <td>[\\nCloth, Black\\n]</td>\n",
       "    </tr>\n",
       "    <tr>\n",
       "      <th>Body</th>\n",
       "      <td>[\\n, Sedans, \\n]</td>\n",
       "    </tr>\n",
       "    <tr>\n",
       "      <th>Nr. of Doors</th>\n",
       "      <td>[\\n5\\n]</td>\n",
       "    </tr>\n",
       "    <tr>\n",
       "      <th>Nr. of Seats</th>\n",
       "      <td>[\\n5\\n]</td>\n",
       "    </tr>\n",
       "    <tr>\n",
       "      <th>Model Code</th>\n",
       "      <td>[\\n0588/BDF\\n]</td>\n",
       "    </tr>\n",
       "    <tr>\n",
       "      <th>Gearing Type</th>\n",
       "      <td>[\\n, Automatic, \\n]</td>\n",
       "    </tr>\n",
       "    <tr>\n",
       "      <th>Displacement</th>\n",
       "      <td>[\\n1,422 cc\\n]</td>\n",
       "    </tr>\n",
       "    <tr>\n",
       "      <th>Cylinders</th>\n",
       "      <td>[\\n3\\n]</td>\n",
       "    </tr>\n",
       "    <tr>\n",
       "      <th>Weight</th>\n",
       "      <td>[\\n1,220 kg\\n]</td>\n",
       "    </tr>\n",
       "    <tr>\n",
       "      <th>Drive chain</th>\n",
       "      <td>[\\nfront\\n]</td>\n",
       "    </tr>\n",
       "    <tr>\n",
       "      <th>Fuel</th>\n",
       "      <td>[\\n, Diesel (Particulate Filter), \\n]</td>\n",
       "    </tr>\n",
       "    <tr>\n",
       "      <th>Consumption</th>\n",
       "      <td>[[3.8 l/100 km (comb)], [4.3 l/100 km (city)],...</td>\n",
       "    </tr>\n",
       "    <tr>\n",
       "      <th>CO2 Emission</th>\n",
       "      <td>[\\n99 g CO2/km (comb)\\n]</td>\n",
       "    </tr>\n",
       "    <tr>\n",
       "      <th>Emission Class</th>\n",
       "      <td>[\\nEuro 6\\n]</td>\n",
       "    </tr>\n",
       "    <tr>\n",
       "      <th>Comfort &amp; Convenience</th>\n",
       "      <td>[Air conditioning, Armrest, Automatic climate ...</td>\n",
       "    </tr>\n",
       "    <tr>\n",
       "      <th>Entertainment &amp; Media</th>\n",
       "      <td>[Bluetooth, Hands-free equipment, On-board com...</td>\n",
       "    </tr>\n",
       "    <tr>\n",
       "      <th>Extras</th>\n",
       "      <td>[Alloy wheels, Catalytic Converter, Voice Cont...</td>\n",
       "    </tr>\n",
       "    <tr>\n",
       "      <th>Safety &amp; Security</th>\n",
       "      <td>[ABS, Central door lock, Daytime running light...</td>\n",
       "    </tr>\n",
       "    <tr>\n",
       "      <th>description</th>\n",
       "      <td>[\\n, Sicherheit:,  , Deaktivierung für Beifahr...</td>\n",
       "    </tr>\n",
       "    <tr>\n",
       "      <th>Emission Label</th>\n",
       "      <td>NaN</td>\n",
       "    </tr>\n",
       "    <tr>\n",
       "      <th>Gears</th>\n",
       "      <td>NaN</td>\n",
       "    </tr>\n",
       "    <tr>\n",
       "      <th>Country version</th>\n",
       "      <td>NaN</td>\n",
       "    </tr>\n",
       "    <tr>\n",
       "      <th>Electricity consumption</th>\n",
       "      <td>NaN</td>\n",
       "    </tr>\n",
       "    <tr>\n",
       "      <th>Last Service Date</th>\n",
       "      <td>NaN</td>\n",
       "    </tr>\n",
       "    <tr>\n",
       "      <th>Other Fuel Types</th>\n",
       "      <td>NaN</td>\n",
       "    </tr>\n",
       "    <tr>\n",
       "      <th>Availability</th>\n",
       "      <td>NaN</td>\n",
       "    </tr>\n",
       "    <tr>\n",
       "      <th>Last Timing Belt Service Date</th>\n",
       "      <td>NaN</td>\n",
       "    </tr>\n",
       "    <tr>\n",
       "      <th>Available from</th>\n",
       "      <td>NaN</td>\n",
       "    </tr>\n",
       "  </tbody>\n",
       "</table>\n",
       "</div>"
      ],
      "text/plain": [
       "                                                                               0\n",
       "url                            https://www.autoscout24.com//offers/audi-a1-sp...\n",
       "make_model                                                               Audi A1\n",
       "short_description                    Sportback 1.4 TDI S-tronic Xenon Navi Klima\n",
       "body_type                                                                 Sedans\n",
       "price                                                                      15770\n",
       "vat                                                               VAT deductible\n",
       "km                                                                     56,013 km\n",
       "registration                                                             01/2016\n",
       "prev_owner                                                     2 previous owners\n",
       "kW                                                                           NaN\n",
       "hp                                                                         66 kW\n",
       "Type                                     [, Used, , Diesel (Particulate Filter)]\n",
       "Previous Owners                                                            \\n2\\n\n",
       "Next Inspection                            [\\n06/2021\\n, \\n99 g CO2/km (comb)\\n]\n",
       "Inspection new                                             [\\nYes\\n, \\nEuro 6\\n]\n",
       "Warranty                                                 [\\n, \\n, \\n4 (Green)\\n]\n",
       "Full Service                                                            [\\n, \\n]\n",
       "Non-smoking Vehicle                                                     [\\n, \\n]\n",
       "null                                                                          []\n",
       "Make                                                                    \\nAudi\\n\n",
       "Model                                                               [\\n, A1, \\n]\n",
       "Offer Number                                                     [\\nLR-062483\\n]\n",
       "First Registration                                                [\\n, 2016, \\n]\n",
       "Body Color                                                       [\\n, Black, \\n]\n",
       "Paint Type                                                        [\\nMetallic\\n]\n",
       "Body Color Original                                          [\\nMythosschwarz\\n]\n",
       "Upholstery                                                    [\\nCloth, Black\\n]\n",
       "Body                                                            [\\n, Sedans, \\n]\n",
       "Nr. of Doors                                                             [\\n5\\n]\n",
       "Nr. of Seats                                                             [\\n5\\n]\n",
       "Model Code                                                        [\\n0588/BDF\\n]\n",
       "Gearing Type                                                 [\\n, Automatic, \\n]\n",
       "Displacement                                                      [\\n1,422 cc\\n]\n",
       "Cylinders                                                                [\\n3\\n]\n",
       "Weight                                                            [\\n1,220 kg\\n]\n",
       "Drive chain                                                          [\\nfront\\n]\n",
       "Fuel                                       [\\n, Diesel (Particulate Filter), \\n]\n",
       "Consumption                    [[3.8 l/100 km (comb)], [4.3 l/100 km (city)],...\n",
       "CO2 Emission                                            [\\n99 g CO2/km (comb)\\n]\n",
       "Emission Class                                                      [\\nEuro 6\\n]\n",
       "Comfort & Convenience          [Air conditioning, Armrest, Automatic climate ...\n",
       "Entertainment & Media          [Bluetooth, Hands-free equipment, On-board com...\n",
       "Extras                         [Alloy wheels, Catalytic Converter, Voice Cont...\n",
       "Safety & Security              [ABS, Central door lock, Daytime running light...\n",
       "description                    [\\n, Sicherheit:,  , Deaktivierung für Beifahr...\n",
       "Emission Label                                                               NaN\n",
       "Gears                                                                        NaN\n",
       "Country version                                                              NaN\n",
       "Electricity consumption                                                      NaN\n",
       "Last Service Date                                                            NaN\n",
       "Other Fuel Types                                                             NaN\n",
       "Availability                                                                 NaN\n",
       "Last Timing Belt Service Date                                                NaN\n",
       "Available from                                                               NaN"
      ]
     },
     "execution_count": 9,
     "metadata": {},
     "output_type": "execute_result"
    }
   ],
   "source": [
    "df.head(1).T"
   ]
  },
  {
   "cell_type": "code",
   "execution_count": 10,
   "metadata": {},
   "outputs": [],
   "source": [
    "#!pip install skimpy\n",
    "#from skimpy import clean_columns   ##another way of cleaning the columns\n"
   ]
  },
  {
   "cell_type": "code",
   "execution_count": 11,
   "metadata": {
    "scrolled": true
   },
   "outputs": [],
   "source": [
    "#df= clean_columns(df)\n",
    "#df.head()"
   ]
  },
  {
   "cell_type": "markdown",
   "metadata": {},
   "source": [
    "# Dropping Columns that have more than 90% null"
   ]
  },
  {
   "cell_type": "code",
   "execution_count": 12,
   "metadata": {},
   "outputs": [],
   "source": [
    "def df_nan(df, limit):\n",
    "    missing = df.isnull().sum()*100 / df.shape[0]\n",
    "    return missing.loc[lambda x : x >= limit]\n",
    "\n",
    "def column_nan(serial):\n",
    "    return serial.isnull().sum()*100 / serial.shape[0]"
   ]
  },
  {
   "cell_type": "code",
   "execution_count": 13,
   "metadata": {},
   "outputs": [
    {
     "data": {
      "text/plain": [
       "kW                              100.000\n",
       "Electricity consumption          99.139\n",
       "Last Service Date                96.445\n",
       "Other Fuel Types                 94.472\n",
       "Availability                     96.011\n",
       "Last Timing Belt Service Date    99.899\n",
       "Available from                   98.291\n",
       "dtype: float64"
      ]
     },
     "execution_count": 13,
     "metadata": {},
     "output_type": "execute_result"
    }
   ],
   "source": [
    "df_nan(df, 90)"
   ]
  },
  {
   "cell_type": "markdown",
   "metadata": {},
   "source": [
    "# Working with Null Values"
   ]
  },
  {
   "cell_type": "code",
   "execution_count": 14,
   "metadata": {},
   "outputs": [
    {
     "data": {
      "text/plain": [
       "url                                  0\n",
       "make_model                           0\n",
       "short_description                   46\n",
       "body_type                           60\n",
       "price                                0\n",
       "vat                               4513\n",
       "km                                   0\n",
       "registration                         0\n",
       "prev_owner                        6828\n",
       "kW                               15919\n",
       "hp                                   0\n",
       "Type                                 2\n",
       "Previous Owners                   6640\n",
       "Next Inspection                  12384\n",
       "Inspection new                   11987\n",
       "Warranty                          5420\n",
       "Full Service                      7704\n",
       "Non-smoking Vehicle               8742\n",
       "null                                 0\n",
       "Make                                 0\n",
       "Model                                0\n",
       "Offer Number                      3175\n",
       "First Registration                1597\n",
       "Body Color                         597\n",
       "Paint Type                        5772\n",
       "Body Color Original               3759\n",
       "Upholstery                        3720\n",
       "Body                                60\n",
       "Nr. of Doors                       212\n",
       "Nr. of Seats                       977\n",
       "Model Code                       10941\n",
       "Gearing Type                         0\n",
       "Displacement                       496\n",
       "Cylinders                         5680\n",
       "Weight                            6974\n",
       "Drive chain                       6858\n",
       "Fuel                                 0\n",
       "Consumption                       1906\n",
       "CO2 Emission                      1808\n",
       "Emission Class                    3021\n",
       "Comfort & Convenience              920\n",
       "Entertainment & Media             1374\n",
       "Extras                            2962\n",
       "Safety & Security                  982\n",
       "description                          0\n",
       "Emission Label                   11934\n",
       "Gears                             4712\n",
       "Country version                   8333\n",
       "Electricity consumption          15782\n",
       "Last Service Date                15353\n",
       "Other Fuel Types                 15039\n",
       "Availability                     15284\n",
       "Last Timing Belt Service Date    15903\n",
       "Available from                   15647\n",
       "dtype: int64"
      ]
     },
     "execution_count": 14,
     "metadata": {},
     "output_type": "execute_result"
    }
   ],
   "source": [
    "df.isnull().sum()"
   ]
  },
  {
   "cell_type": "code",
   "execution_count": 15,
   "metadata": {},
   "outputs": [
    {
     "data": {
      "text/plain": [
       "url                               0.000\n",
       "make_model                        0.000\n",
       "short_description                 0.289\n",
       "body_type                         0.377\n",
       "price                             0.000\n",
       "vat                              28.350\n",
       "km                                0.000\n",
       "registration                      0.000\n",
       "prev_owner                       42.892\n",
       "kW                              100.000\n",
       "hp                                0.000\n",
       "Type                              0.013\n",
       "Previous Owners                  41.711\n",
       "Next Inspection                  77.794\n",
       "Inspection new                   75.300\n",
       "Warranty                         34.047\n",
       "Full Service                     48.395\n",
       "Non-smoking Vehicle              54.916\n",
       "null                              0.000\n",
       "Make                              0.000\n",
       "Model                             0.000\n",
       "Offer Number                     19.945\n",
       "First Registration               10.032\n",
       "Body Color                        3.750\n",
       "Paint Type                       36.259\n",
       "Body Color Original              23.613\n",
       "Upholstery                       23.368\n",
       "Body                              0.377\n",
       "Nr. of Doors                      1.332\n",
       "Nr. of Seats                      6.137\n",
       "Model Code                       68.729\n",
       "Gearing Type                      0.000\n",
       "Displacement                      3.116\n",
       "Cylinders                        35.681\n",
       "Weight                           43.809\n",
       "Drive chain                      43.081\n",
       "Fuel                              0.000\n",
       "Consumption                      11.973\n",
       "CO2 Emission                     11.357\n",
       "Emission Class                   18.977\n",
       "Comfort & Convenience             5.779\n",
       "Entertainment & Media             8.631\n",
       "Extras                           18.607\n",
       "Safety & Security                 6.169\n",
       "description                       0.000\n",
       "Emission Label                   74.967\n",
       "Gears                            29.600\n",
       "Country version                  52.346\n",
       "Electricity consumption          99.139\n",
       "Last Service Date                96.445\n",
       "Other Fuel Types                 94.472\n",
       "Availability                     96.011\n",
       "Last Timing Belt Service Date    99.899\n",
       "Available from                   98.291\n",
       "dtype: float64"
      ]
     },
     "execution_count": 15,
     "metadata": {},
     "output_type": "execute_result"
    }
   ],
   "source": [
    "df.isnull().sum()/len(df)*100"
   ]
  },
  {
   "cell_type": "code",
   "execution_count": 16,
   "metadata": {},
   "outputs": [
    {
     "data": {
      "text/plain": [
       "kW                              100.000\n",
       "Electricity consumption          99.139\n",
       "Last Service Date                96.445\n",
       "Other Fuel Types                 94.472\n",
       "Availability                     96.011\n",
       "Last Timing Belt Service Date    99.899\n",
       "Available from                   98.291\n",
       "dtype: float64"
      ]
     },
     "execution_count": 16,
     "metadata": {},
     "output_type": "execute_result"
    }
   ],
   "source": [
    "def show_null(df, limit):\n",
    "    missing = df.isnull().sum()*100/df.shape[0]\n",
    "    return missing.loc[lambda x : x >= limit]\n",
    "show_null(df,90)"
   ]
  },
  {
   "cell_type": "markdown",
   "metadata": {},
   "source": [
    "# Dropping columns that have missing values more than 90\n"
   ]
  },
  {
   "cell_type": "code",
   "execution_count": 17,
   "metadata": {},
   "outputs": [
    {
     "data": {
      "text/plain": [
       "Index(['kW', 'Electricity consumption', 'Last Service Date',\n",
       "       'Other Fuel Types', 'Availability', 'Last Timing Belt Service Date',\n",
       "       'Available from'],\n",
       "      dtype='object')"
      ]
     },
     "execution_count": 17,
     "metadata": {},
     "output_type": "execute_result"
    }
   ],
   "source": [
    "drop_columns = df_nan(df, 90).index\n",
    "drop_columns"
   ]
  },
  {
   "cell_type": "code",
   "execution_count": 18,
   "metadata": {},
   "outputs": [],
   "source": [
    "df.drop(drop_columns, axis=1, inplace=True)"
   ]
  },
  {
   "cell_type": "code",
   "execution_count": 19,
   "metadata": {},
   "outputs": [
    {
     "data": {
      "text/plain": [
       "Index(['url', 'make_model', 'short_description', 'body_type', 'price', 'vat',\n",
       "       'km', 'registration', 'prev_owner', 'hp', 'Type', 'Previous Owners',\n",
       "       'Next Inspection', 'Inspection new', 'Warranty', 'Full Service',\n",
       "       'Non-smoking Vehicle', 'null', 'Make', 'Model', 'Offer Number',\n",
       "       'First Registration', 'Body Color', 'Paint Type', 'Body Color Original',\n",
       "       'Upholstery', 'Body', 'Nr. of Doors', 'Nr. of Seats', 'Model Code',\n",
       "       'Gearing Type', 'Displacement', 'Cylinders', 'Weight', 'Drive chain',\n",
       "       'Fuel', 'Consumption', 'CO2 Emission', 'Emission Class',\n",
       "       'Comfort & Convenience', 'Entertainment & Media', 'Extras',\n",
       "       'Safety & Security', 'description', 'Emission Label', 'Gears',\n",
       "       'Country version'],\n",
       "      dtype='object')"
      ]
     },
     "execution_count": 19,
     "metadata": {},
     "output_type": "execute_result"
    }
   ],
   "source": [
    "df.columns"
   ]
  },
  {
   "cell_type": "code",
   "execution_count": 20,
   "metadata": {},
   "outputs": [],
   "source": [
    "df.drop(\"null\", axis=1, inplace=True)"
   ]
  },
  {
   "cell_type": "code",
   "execution_count": 21,
   "metadata": {},
   "outputs": [
    {
     "data": {
      "text/html": [
       "<div>\n",
       "<style scoped>\n",
       "    .dataframe tbody tr th:only-of-type {\n",
       "        vertical-align: middle;\n",
       "    }\n",
       "\n",
       "    .dataframe tbody tr th {\n",
       "        vertical-align: top;\n",
       "    }\n",
       "\n",
       "    .dataframe thead th {\n",
       "        text-align: right;\n",
       "    }\n",
       "</style>\n",
       "<table border=\"1\" class=\"dataframe\">\n",
       "  <thead>\n",
       "    <tr style=\"text-align: right;\">\n",
       "      <th></th>\n",
       "      <th>0</th>\n",
       "      <th>1</th>\n",
       "    </tr>\n",
       "  </thead>\n",
       "  <tbody>\n",
       "    <tr>\n",
       "      <th>url</th>\n",
       "      <td>https://www.autoscout24.com//offers/audi-a1-sp...</td>\n",
       "      <td>https://www.autoscout24.com//offers/audi-a1-1-...</td>\n",
       "    </tr>\n",
       "    <tr>\n",
       "      <th>make_model</th>\n",
       "      <td>Audi A1</td>\n",
       "      <td>Audi A1</td>\n",
       "    </tr>\n",
       "    <tr>\n",
       "      <th>short_description</th>\n",
       "      <td>Sportback 1.4 TDI S-tronic Xenon Navi Klima</td>\n",
       "      <td>1.8 TFSI sport</td>\n",
       "    </tr>\n",
       "    <tr>\n",
       "      <th>body_type</th>\n",
       "      <td>Sedans</td>\n",
       "      <td>Sedans</td>\n",
       "    </tr>\n",
       "    <tr>\n",
       "      <th>price</th>\n",
       "      <td>15770</td>\n",
       "      <td>14500</td>\n",
       "    </tr>\n",
       "    <tr>\n",
       "      <th>vat</th>\n",
       "      <td>VAT deductible</td>\n",
       "      <td>Price negotiable</td>\n",
       "    </tr>\n",
       "    <tr>\n",
       "      <th>km</th>\n",
       "      <td>56,013 km</td>\n",
       "      <td>80,000 km</td>\n",
       "    </tr>\n",
       "    <tr>\n",
       "      <th>registration</th>\n",
       "      <td>01/2016</td>\n",
       "      <td>03/2017</td>\n",
       "    </tr>\n",
       "    <tr>\n",
       "      <th>prev_owner</th>\n",
       "      <td>2 previous owners</td>\n",
       "      <td>None</td>\n",
       "    </tr>\n",
       "    <tr>\n",
       "      <th>hp</th>\n",
       "      <td>66 kW</td>\n",
       "      <td>141 kW</td>\n",
       "    </tr>\n",
       "    <tr>\n",
       "      <th>Type</th>\n",
       "      <td>[, Used, , Diesel (Particulate Filter)]</td>\n",
       "      <td>[, Used, , Gasoline]</td>\n",
       "    </tr>\n",
       "    <tr>\n",
       "      <th>Previous Owners</th>\n",
       "      <td>\\n2\\n</td>\n",
       "      <td>NaN</td>\n",
       "    </tr>\n",
       "    <tr>\n",
       "      <th>Next Inspection</th>\n",
       "      <td>[\\n06/2021\\n, \\n99 g CO2/km (comb)\\n]</td>\n",
       "      <td>NaN</td>\n",
       "    </tr>\n",
       "    <tr>\n",
       "      <th>Inspection new</th>\n",
       "      <td>[\\nYes\\n, \\nEuro 6\\n]</td>\n",
       "      <td>NaN</td>\n",
       "    </tr>\n",
       "    <tr>\n",
       "      <th>Warranty</th>\n",
       "      <td>[\\n, \\n, \\n4 (Green)\\n]</td>\n",
       "      <td>NaN</td>\n",
       "    </tr>\n",
       "    <tr>\n",
       "      <th>Full Service</th>\n",
       "      <td>[\\n, \\n]</td>\n",
       "      <td>NaN</td>\n",
       "    </tr>\n",
       "    <tr>\n",
       "      <th>Non-smoking Vehicle</th>\n",
       "      <td>[\\n, \\n]</td>\n",
       "      <td>NaN</td>\n",
       "    </tr>\n",
       "    <tr>\n",
       "      <th>Make</th>\n",
       "      <td>\\nAudi\\n</td>\n",
       "      <td>\\nAudi\\n</td>\n",
       "    </tr>\n",
       "    <tr>\n",
       "      <th>Model</th>\n",
       "      <td>[\\n, A1, \\n]</td>\n",
       "      <td>[\\n, A1, \\n]</td>\n",
       "    </tr>\n",
       "    <tr>\n",
       "      <th>Offer Number</th>\n",
       "      <td>[\\nLR-062483\\n]</td>\n",
       "      <td>NaN</td>\n",
       "    </tr>\n",
       "    <tr>\n",
       "      <th>First Registration</th>\n",
       "      <td>[\\n, 2016, \\n]</td>\n",
       "      <td>[\\n, 2017, \\n]</td>\n",
       "    </tr>\n",
       "    <tr>\n",
       "      <th>Body Color</th>\n",
       "      <td>[\\n, Black, \\n]</td>\n",
       "      <td>[\\n, Red, \\n]</td>\n",
       "    </tr>\n",
       "    <tr>\n",
       "      <th>Paint Type</th>\n",
       "      <td>[\\nMetallic\\n]</td>\n",
       "      <td>NaN</td>\n",
       "    </tr>\n",
       "    <tr>\n",
       "      <th>Body Color Original</th>\n",
       "      <td>[\\nMythosschwarz\\n]</td>\n",
       "      <td>NaN</td>\n",
       "    </tr>\n",
       "    <tr>\n",
       "      <th>Upholstery</th>\n",
       "      <td>[\\nCloth, Black\\n]</td>\n",
       "      <td>[\\nCloth, Grey\\n]</td>\n",
       "    </tr>\n",
       "    <tr>\n",
       "      <th>Body</th>\n",
       "      <td>[\\n, Sedans, \\n]</td>\n",
       "      <td>[\\n, Sedans, \\n]</td>\n",
       "    </tr>\n",
       "    <tr>\n",
       "      <th>Nr. of Doors</th>\n",
       "      <td>[\\n5\\n]</td>\n",
       "      <td>[\\n3\\n]</td>\n",
       "    </tr>\n",
       "    <tr>\n",
       "      <th>Nr. of Seats</th>\n",
       "      <td>[\\n5\\n]</td>\n",
       "      <td>[\\n4\\n]</td>\n",
       "    </tr>\n",
       "    <tr>\n",
       "      <th>Model Code</th>\n",
       "      <td>[\\n0588/BDF\\n]</td>\n",
       "      <td>[\\n0588/BCY\\n]</td>\n",
       "    </tr>\n",
       "    <tr>\n",
       "      <th>Gearing Type</th>\n",
       "      <td>[\\n, Automatic, \\n]</td>\n",
       "      <td>[\\n, Automatic, \\n]</td>\n",
       "    </tr>\n",
       "    <tr>\n",
       "      <th>Displacement</th>\n",
       "      <td>[\\n1,422 cc\\n]</td>\n",
       "      <td>[\\n1,798 cc\\n]</td>\n",
       "    </tr>\n",
       "    <tr>\n",
       "      <th>Cylinders</th>\n",
       "      <td>[\\n3\\n]</td>\n",
       "      <td>[\\n4\\n]</td>\n",
       "    </tr>\n",
       "    <tr>\n",
       "      <th>Weight</th>\n",
       "      <td>[\\n1,220 kg\\n]</td>\n",
       "      <td>[\\n1,255 kg\\n]</td>\n",
       "    </tr>\n",
       "    <tr>\n",
       "      <th>Drive chain</th>\n",
       "      <td>[\\nfront\\n]</td>\n",
       "      <td>[\\nfront\\n]</td>\n",
       "    </tr>\n",
       "    <tr>\n",
       "      <th>Fuel</th>\n",
       "      <td>[\\n, Diesel (Particulate Filter), \\n]</td>\n",
       "      <td>[\\n, Gasoline, \\n]</td>\n",
       "    </tr>\n",
       "    <tr>\n",
       "      <th>Consumption</th>\n",
       "      <td>[[3.8 l/100 km (comb)], [4.3 l/100 km (city)],...</td>\n",
       "      <td>[[5.6 l/100 km (comb)], [7.1 l/100 km (city)],...</td>\n",
       "    </tr>\n",
       "    <tr>\n",
       "      <th>CO2 Emission</th>\n",
       "      <td>[\\n99 g CO2/km (comb)\\n]</td>\n",
       "      <td>[\\n129 g CO2/km (comb)\\n]</td>\n",
       "    </tr>\n",
       "    <tr>\n",
       "      <th>Emission Class</th>\n",
       "      <td>[\\nEuro 6\\n]</td>\n",
       "      <td>[\\nEuro 6\\n]</td>\n",
       "    </tr>\n",
       "    <tr>\n",
       "      <th>Comfort &amp; Convenience</th>\n",
       "      <td>[Air conditioning, Armrest, Automatic climate ...</td>\n",
       "      <td>[Air conditioning, Automatic climate control, ...</td>\n",
       "    </tr>\n",
       "    <tr>\n",
       "      <th>Entertainment &amp; Media</th>\n",
       "      <td>[Bluetooth, Hands-free equipment, On-board com...</td>\n",
       "      <td>[Bluetooth, Hands-free equipment, On-board com...</td>\n",
       "    </tr>\n",
       "    <tr>\n",
       "      <th>Extras</th>\n",
       "      <td>[Alloy wheels, Catalytic Converter, Voice Cont...</td>\n",
       "      <td>[Alloy wheels, Sport seats, Sport suspension, ...</td>\n",
       "    </tr>\n",
       "    <tr>\n",
       "      <th>Safety &amp; Security</th>\n",
       "      <td>[ABS, Central door lock, Daytime running light...</td>\n",
       "      <td>[ABS, Central door lock, Central door lock wit...</td>\n",
       "    </tr>\n",
       "    <tr>\n",
       "      <th>description</th>\n",
       "      <td>[\\n, Sicherheit:,  , Deaktivierung für Beifahr...</td>\n",
       "      <td>[\\nLangstreckenfahrzeug daher die hohe Kilomet...</td>\n",
       "    </tr>\n",
       "    <tr>\n",
       "      <th>Emission Label</th>\n",
       "      <td>NaN</td>\n",
       "      <td>[\\n4 (Green)\\n]</td>\n",
       "    </tr>\n",
       "    <tr>\n",
       "      <th>Gears</th>\n",
       "      <td>NaN</td>\n",
       "      <td>[\\n7\\n]</td>\n",
       "    </tr>\n",
       "    <tr>\n",
       "      <th>Country version</th>\n",
       "      <td>NaN</td>\n",
       "      <td>NaN</td>\n",
       "    </tr>\n",
       "  </tbody>\n",
       "</table>\n",
       "</div>"
      ],
      "text/plain": [
       "                                                                       0  \\\n",
       "url                    https://www.autoscout24.com//offers/audi-a1-sp...   \n",
       "make_model                                                       Audi A1   \n",
       "short_description            Sportback 1.4 TDI S-tronic Xenon Navi Klima   \n",
       "body_type                                                         Sedans   \n",
       "price                                                              15770   \n",
       "vat                                                       VAT deductible   \n",
       "km                                                             56,013 km   \n",
       "registration                                                     01/2016   \n",
       "prev_owner                                             2 previous owners   \n",
       "hp                                                                 66 kW   \n",
       "Type                             [, Used, , Diesel (Particulate Filter)]   \n",
       "Previous Owners                                                    \\n2\\n   \n",
       "Next Inspection                    [\\n06/2021\\n, \\n99 g CO2/km (comb)\\n]   \n",
       "Inspection new                                     [\\nYes\\n, \\nEuro 6\\n]   \n",
       "Warranty                                         [\\n, \\n, \\n4 (Green)\\n]   \n",
       "Full Service                                                    [\\n, \\n]   \n",
       "Non-smoking Vehicle                                             [\\n, \\n]   \n",
       "Make                                                            \\nAudi\\n   \n",
       "Model                                                       [\\n, A1, \\n]   \n",
       "Offer Number                                             [\\nLR-062483\\n]   \n",
       "First Registration                                        [\\n, 2016, \\n]   \n",
       "Body Color                                               [\\n, Black, \\n]   \n",
       "Paint Type                                                [\\nMetallic\\n]   \n",
       "Body Color Original                                  [\\nMythosschwarz\\n]   \n",
       "Upholstery                                            [\\nCloth, Black\\n]   \n",
       "Body                                                    [\\n, Sedans, \\n]   \n",
       "Nr. of Doors                                                     [\\n5\\n]   \n",
       "Nr. of Seats                                                     [\\n5\\n]   \n",
       "Model Code                                                [\\n0588/BDF\\n]   \n",
       "Gearing Type                                         [\\n, Automatic, \\n]   \n",
       "Displacement                                              [\\n1,422 cc\\n]   \n",
       "Cylinders                                                        [\\n3\\n]   \n",
       "Weight                                                    [\\n1,220 kg\\n]   \n",
       "Drive chain                                                  [\\nfront\\n]   \n",
       "Fuel                               [\\n, Diesel (Particulate Filter), \\n]   \n",
       "Consumption            [[3.8 l/100 km (comb)], [4.3 l/100 km (city)],...   \n",
       "CO2 Emission                                    [\\n99 g CO2/km (comb)\\n]   \n",
       "Emission Class                                              [\\nEuro 6\\n]   \n",
       "Comfort & Convenience  [Air conditioning, Armrest, Automatic climate ...   \n",
       "Entertainment & Media  [Bluetooth, Hands-free equipment, On-board com...   \n",
       "Extras                 [Alloy wheels, Catalytic Converter, Voice Cont...   \n",
       "Safety & Security      [ABS, Central door lock, Daytime running light...   \n",
       "description            [\\n, Sicherheit:,  , Deaktivierung für Beifahr...   \n",
       "Emission Label                                                       NaN   \n",
       "Gears                                                                NaN   \n",
       "Country version                                                      NaN   \n",
       "\n",
       "                                                                       1  \n",
       "url                    https://www.autoscout24.com//offers/audi-a1-1-...  \n",
       "make_model                                                       Audi A1  \n",
       "short_description                                         1.8 TFSI sport  \n",
       "body_type                                                         Sedans  \n",
       "price                                                              14500  \n",
       "vat                                                     Price negotiable  \n",
       "km                                                             80,000 km  \n",
       "registration                                                     03/2017  \n",
       "prev_owner                                                          None  \n",
       "hp                                                                141 kW  \n",
       "Type                                                [, Used, , Gasoline]  \n",
       "Previous Owners                                                      NaN  \n",
       "Next Inspection                                                      NaN  \n",
       "Inspection new                                                       NaN  \n",
       "Warranty                                                             NaN  \n",
       "Full Service                                                         NaN  \n",
       "Non-smoking Vehicle                                                  NaN  \n",
       "Make                                                            \\nAudi\\n  \n",
       "Model                                                       [\\n, A1, \\n]  \n",
       "Offer Number                                                         NaN  \n",
       "First Registration                                        [\\n, 2017, \\n]  \n",
       "Body Color                                                 [\\n, Red, \\n]  \n",
       "Paint Type                                                           NaN  \n",
       "Body Color Original                                                  NaN  \n",
       "Upholstery                                             [\\nCloth, Grey\\n]  \n",
       "Body                                                    [\\n, Sedans, \\n]  \n",
       "Nr. of Doors                                                     [\\n3\\n]  \n",
       "Nr. of Seats                                                     [\\n4\\n]  \n",
       "Model Code                                                [\\n0588/BCY\\n]  \n",
       "Gearing Type                                         [\\n, Automatic, \\n]  \n",
       "Displacement                                              [\\n1,798 cc\\n]  \n",
       "Cylinders                                                        [\\n4\\n]  \n",
       "Weight                                                    [\\n1,255 kg\\n]  \n",
       "Drive chain                                                  [\\nfront\\n]  \n",
       "Fuel                                                  [\\n, Gasoline, \\n]  \n",
       "Consumption            [[5.6 l/100 km (comb)], [7.1 l/100 km (city)],...  \n",
       "CO2 Emission                                   [\\n129 g CO2/km (comb)\\n]  \n",
       "Emission Class                                              [\\nEuro 6\\n]  \n",
       "Comfort & Convenience  [Air conditioning, Automatic climate control, ...  \n",
       "Entertainment & Media  [Bluetooth, Hands-free equipment, On-board com...  \n",
       "Extras                 [Alloy wheels, Sport seats, Sport suspension, ...  \n",
       "Safety & Security      [ABS, Central door lock, Central door lock wit...  \n",
       "description            [\\nLangstreckenfahrzeug daher die hohe Kilomet...  \n",
       "Emission Label                                           [\\n4 (Green)\\n]  \n",
       "Gears                                                            [\\n7\\n]  \n",
       "Country version                                                      NaN  "
      ]
     },
     "execution_count": 21,
     "metadata": {},
     "output_type": "execute_result"
    }
   ],
   "source": [
    "df.head(2).T"
   ]
  },
  {
   "cell_type": "code",
   "execution_count": 22,
   "metadata": {},
   "outputs": [
    {
     "data": {
      "text/plain": [
       "(15919, 46)"
      ]
     },
     "execution_count": 22,
     "metadata": {},
     "output_type": "execute_result"
    }
   ],
   "source": [
    "df.shape"
   ]
  },
  {
   "cell_type": "code",
   "execution_count": 23,
   "metadata": {},
   "outputs": [
    {
     "name": "stdout",
     "output_type": "stream",
     "text": [
      "<class 'pandas.core.frame.DataFrame'>\n",
      "RangeIndex: 15919 entries, 0 to 15918\n",
      "Data columns (total 46 columns):\n",
      " #   Column                 Non-Null Count  Dtype \n",
      "---  ------                 --------------  ----- \n",
      " 0   url                    15919 non-null  object\n",
      " 1   make_model             15919 non-null  object\n",
      " 2   short_description      15873 non-null  object\n",
      " 3   body_type              15859 non-null  object\n",
      " 4   price                  15919 non-null  int64 \n",
      " 5   vat                    11406 non-null  object\n",
      " 6   km                     15919 non-null  object\n",
      " 7   registration           15919 non-null  object\n",
      " 8   prev_owner             9091 non-null   object\n",
      " 9   hp                     15919 non-null  object\n",
      " 10  Type                   15917 non-null  object\n",
      " 11  Previous Owners        9279 non-null   object\n",
      " 12  Next Inspection        3535 non-null   object\n",
      " 13  Inspection new         3932 non-null   object\n",
      " 14  Warranty               10499 non-null  object\n",
      " 15  Full Service           8215 non-null   object\n",
      " 16  Non-smoking Vehicle    7177 non-null   object\n",
      " 17  Make                   15919 non-null  object\n",
      " 18  Model                  15919 non-null  object\n",
      " 19  Offer Number           12744 non-null  object\n",
      " 20  First Registration     14322 non-null  object\n",
      " 21  Body Color             15322 non-null  object\n",
      " 22  Paint Type             10147 non-null  object\n",
      " 23  Body Color Original    12160 non-null  object\n",
      " 24  Upholstery             12199 non-null  object\n",
      " 25  Body                   15859 non-null  object\n",
      " 26  Nr. of Doors           15707 non-null  object\n",
      " 27  Nr. of Seats           14942 non-null  object\n",
      " 28  Model Code             4978 non-null   object\n",
      " 29  Gearing Type           15919 non-null  object\n",
      " 30  Displacement           15423 non-null  object\n",
      " 31  Cylinders              10239 non-null  object\n",
      " 32  Weight                 8945 non-null   object\n",
      " 33  Drive chain            9061 non-null   object\n",
      " 34  Fuel                   15919 non-null  object\n",
      " 35  Consumption            14013 non-null  object\n",
      " 36  CO2 Emission           14111 non-null  object\n",
      " 37  Emission Class         12898 non-null  object\n",
      " 38  Comfort & Convenience  14999 non-null  object\n",
      " 39  Entertainment & Media  14545 non-null  object\n",
      " 40  Extras                 12957 non-null  object\n",
      " 41  Safety & Security      14937 non-null  object\n",
      " 42  description            15919 non-null  object\n",
      " 43  Emission Label         3985 non-null   object\n",
      " 44  Gears                  11207 non-null  object\n",
      " 45  Country version        7586 non-null   object\n",
      "dtypes: int64(1), object(45)\n",
      "memory usage: 5.6+ MB\n"
     ]
    }
   ],
   "source": [
    "df.info()"
   ]
  },
  {
   "cell_type": "markdown",
   "metadata": {},
   "source": [
    "### <p style=\"background-color:#9d4f8c; font-family:newtimeroman; color:#FFF9ED; font-size:150%; text-align:left; border-radius:10px 10px;\">The Examination of Columns</p>"
   ]
  },
  {
   "cell_type": "markdown",
   "metadata": {},
   "source": [
    "# URL"
   ]
  },
  {
   "cell_type": "code",
   "execution_count": 24,
   "metadata": {},
   "outputs": [
    {
     "data": {
      "text/plain": [
       "https://www.autoscout24.com//offers/audi-a1-sportback-1-4-tdi-s-tronic-xenon-navi-klima-diesel-black-bdab349a-caa5-41b0-98eb-c1345b84445e                  1\n",
       "https://www.autoscout24.com//offers/opel-insignia-bus-inno-2-0-cdti-aut-navi-bi-xe-led-e6-diesel-black-8710b253-dd98-4ed0-9d46-cbad2d79532b                1\n",
       "https://www.autoscout24.com//offers/opel-insignia-sport-tourer-opel-sport-tourer-1-6-cdti-136-ch-a-c-diesel-silver-10b7463b-9f56-4348-af35-df3432b2b585    1\n",
       "https://www.autoscout24.com//offers/opel-insignia-2-0cdti-st-business-innovation-navi-bt-diesel-black-ba5a3368-dedc-4e51-9127-3976b26e93c2                 1\n",
       "https://www.autoscout24.com//offers/opel-insignia-sport-tourer-opel-sport-tourer-1-6-cdti-136-ch-a-c-diesel-silver-7b52f054-78d3-4d5e-9370-8a7d081d7edd    1\n",
       "                                                                                                                                                          ..\n",
       "https://www.autoscout24.com//offers/audi-a3-sb-30-1-6-tdi-business-116cv-s-tronic-diesel-black-cf50f7b1-4d7b-466f-93a2-4e11ec0b4107                        1\n",
       "https://www.autoscout24.com//offers/audi-a3-sb-30-1-6-tdi-business-116cv-s-tronic-diesel-grey-3f47eb34-15c4-4763-860d-78fcbbd2c9ff                         1\n",
       "https://www.autoscout24.com//offers/audi-a3-sb-30-1-6-tdi-business-116cv-s-tronic-diesel-silver-f7a4bc95-b2ef-4bac-9497-6bcbcd05db0b                       1\n",
       "https://www.autoscout24.com//offers/audi-a3-sb-30-1-6-tdi-business-116cv-s-tronic-diesel-silver-1c94c7a2-67b5-49ca-ae42-42a6800fb3f5                       1\n",
       "https://www.autoscout24.com//offers/renault-espace-initiale-paris-tce-225-edc-gpf-navi-shz-aux-gasoline-grey-0bd690d9-7e93-4cab-bc5a-9d5b63402481          1\n",
       "Name: url, Length: 15919, dtype: int64"
      ]
     },
     "execution_count": 24,
     "metadata": {},
     "output_type": "execute_result"
    }
   ],
   "source": [
    "df.url.value_counts(dropna=False)"
   ]
  },
  {
   "cell_type": "code",
   "execution_count": 25,
   "metadata": {},
   "outputs": [],
   "source": [
    "df.drop(\"url\", axis=1, inplace=True)"
   ]
  },
  {
   "cell_type": "markdown",
   "metadata": {},
   "source": [
    "# make_model"
   ]
  },
  {
   "cell_type": "code",
   "execution_count": 26,
   "metadata": {},
   "outputs": [
    {
     "data": {
      "text/plain": [
       "Audi A3           3097\n",
       "Audi A1           2614\n",
       "Opel Insignia     2598\n",
       "Opel Astra        2526\n",
       "Opel Corsa        2219\n",
       "Renault Clio      1839\n",
       "Renault Espace     991\n",
       "Renault Duster      34\n",
       "Audi A2              1\n",
       "Name: make_model, dtype: int64"
      ]
     },
     "execution_count": 26,
     "metadata": {},
     "output_type": "execute_result"
    }
   ],
   "source": [
    "df.make_model.value_counts(dropna=False)"
   ]
  },
  {
   "cell_type": "markdown",
   "metadata": {},
   "source": [
    "# make"
   ]
  },
  {
   "cell_type": "code",
   "execution_count": 27,
   "metadata": {},
   "outputs": [
    {
     "data": {
      "text/plain": [
       "\\nOpel\\n       7343\n",
       "\\nAudi\\n       5712\n",
       "\\nRenault\\n    2864\n",
       "Name: Make, dtype: int64"
      ]
     },
     "execution_count": 27,
     "metadata": {},
     "output_type": "execute_result"
    }
   ],
   "source": [
    "df.Make.value_counts(dropna=False)"
   ]
  },
  {
   "cell_type": "code",
   "execution_count": 28,
   "metadata": {},
   "outputs": [],
   "source": [
    "df[\"Make\"] = df.Make.str.strip('\\n')"
   ]
  },
  {
   "cell_type": "code",
   "execution_count": 29,
   "metadata": {},
   "outputs": [
    {
     "data": {
      "text/plain": [
       "Opel       7343\n",
       "Audi       5712\n",
       "Renault    2864\n",
       "Name: Make, dtype: int64"
      ]
     },
     "execution_count": 29,
     "metadata": {},
     "output_type": "execute_result"
    }
   ],
   "source": [
    "df.Make.value_counts(dropna=False)"
   ]
  },
  {
   "cell_type": "markdown",
   "metadata": {},
   "source": [
    "# model"
   ]
  },
  {
   "cell_type": "code",
   "execution_count": 30,
   "metadata": {},
   "outputs": [
    {
     "ename": "TypeError",
     "evalue": "unhashable type: 'list'",
     "output_type": "error",
     "traceback": [
      "\u001b[1;31m---------------------------------------------------------------------------\u001b[0m",
      "\u001b[1;31mTypeError\u001b[0m                                 Traceback (most recent call last)",
      "\u001b[1;32mpandas\\_libs\\hashtable_class_helper.pxi\u001b[0m in \u001b[0;36mpandas._libs.hashtable.PyObjectHashTable.map_locations\u001b[1;34m()\u001b[0m\n",
      "\u001b[1;31mTypeError\u001b[0m: unhashable type: 'list'"
     ]
    },
    {
     "name": "stderr",
     "output_type": "stream",
     "text": [
      "Exception ignored in: 'pandas._libs.index.IndexEngine._call_map_locations'\n",
      "Traceback (most recent call last):\n",
      "  File \"pandas\\_libs\\hashtable_class_helper.pxi\", line 5231, in pandas._libs.hashtable.PyObjectHashTable.map_locations\n",
      "TypeError: unhashable type: 'list'\n"
     ]
    },
    {
     "data": {
      "text/plain": [
       "[\\n, A3, \\n]          3097\n",
       "[\\n, A1, \\n]          2614\n",
       "[\\n, Insignia, \\n]    2598\n",
       "[\\n, Astra, \\n]       2526\n",
       "[\\n, Corsa, \\n]       2219\n",
       "[\\n, Clio, \\n]        1839\n",
       "[\\n, Espace, \\n]       991\n",
       "[\\n, Duster, \\n]        34\n",
       "[\\n, A2, \\n]             1\n",
       "Name: Model, dtype: int64"
      ]
     },
     "execution_count": 30,
     "metadata": {},
     "output_type": "execute_result"
    }
   ],
   "source": [
    "df.Model.value_counts(dropna=False)"
   ]
  },
  {
   "cell_type": "code",
   "execution_count": 31,
   "metadata": {},
   "outputs": [
    {
     "data": {
      "text/plain": [
       "['\\n', 'A3', '\\n']          3097\n",
       "['\\n', 'A1', '\\n']          2614\n",
       "['\\n', 'Insignia', '\\n']    2598\n",
       "['\\n', 'Astra', '\\n']       2526\n",
       "['\\n', 'Corsa', '\\n']       2219\n",
       "['\\n', 'Clio', '\\n']        1839\n",
       "['\\n', 'Espace', '\\n']       991\n",
       "['\\n', 'Duster', '\\n']        34\n",
       "['\\n', 'A2', '\\n']             1\n",
       "Name: Model, dtype: int64"
      ]
     },
     "execution_count": 31,
     "metadata": {},
     "output_type": "execute_result"
    }
   ],
   "source": [
    "df.Model.astype(\"str\").value_counts(dropna=False)"
   ]
  },
  {
   "cell_type": "code",
   "execution_count": 32,
   "metadata": {},
   "outputs": [
    {
     "data": {
      "text/plain": [
       "['\\n', 'A1', '\\n']"
      ]
     },
     "execution_count": 32,
     "metadata": {},
     "output_type": "execute_result"
    }
   ],
   "source": [
    "df[\"Model\"][0]"
   ]
  },
  {
   "cell_type": "code",
   "execution_count": 33,
   "metadata": {},
   "outputs": [
    {
     "data": {
      "text/plain": [
       "'A1'"
      ]
     },
     "execution_count": 33,
     "metadata": {},
     "output_type": "execute_result"
    }
   ],
   "source": [
    "df[\"Model\"][0][1]"
   ]
  },
  {
   "cell_type": "code",
   "execution_count": 34,
   "metadata": {},
   "outputs": [
    {
     "data": {
      "text/plain": [
       "0            A1\n",
       "1            A1\n",
       "2            A1\n",
       "3            A1\n",
       "4            A1\n",
       "          ...  \n",
       "15914    Espace\n",
       "15915    Espace\n",
       "15916    Espace\n",
       "15917    Espace\n",
       "15918    Espace\n",
       "Name: Model, Length: 15919, dtype: object"
      ]
     },
     "execution_count": 34,
     "metadata": {},
     "output_type": "execute_result"
    }
   ],
   "source": [
    "df[\"Model\"].apply(lambda x: x[1])"
   ]
  },
  {
   "cell_type": "code",
   "execution_count": 35,
   "metadata": {},
   "outputs": [
    {
     "data": {
      "text/plain": [
       "0            A1\n",
       "1            A1\n",
       "2            A1\n",
       "3            A1\n",
       "4            A1\n",
       "          ...  \n",
       "15914    Espace\n",
       "15915    Espace\n",
       "15916    Espace\n",
       "15917    Espace\n",
       "15918    Espace\n",
       "Name: Model, Length: 15919, dtype: object"
      ]
     },
     "execution_count": 35,
     "metadata": {},
     "output_type": "execute_result"
    }
   ],
   "source": [
    "df.Model.str[1]"
   ]
  },
  {
   "cell_type": "code",
   "execution_count": 36,
   "metadata": {},
   "outputs": [],
   "source": [
    "df[\"Model\"] = df.Model.str[1]"
   ]
  },
  {
   "cell_type": "code",
   "execution_count": 37,
   "metadata": {},
   "outputs": [
    {
     "data": {
      "text/plain": [
       "A3          3097\n",
       "A1          2614\n",
       "Insignia    2598\n",
       "Astra       2526\n",
       "Corsa       2219\n",
       "Clio        1839\n",
       "Espace       991\n",
       "Duster        34\n",
       "A2             1\n",
       "Name: Model, dtype: int64"
      ]
     },
     "execution_count": 37,
     "metadata": {},
     "output_type": "execute_result"
    }
   ],
   "source": [
    "df.Model.value_counts(dropna=False)"
   ]
  },
  {
   "cell_type": "code",
   "execution_count": 38,
   "metadata": {},
   "outputs": [],
   "source": [
    "df.drop([\"Make\", \"Model\"], axis=1, inplace=True)"
   ]
  },
  {
   "cell_type": "markdown",
   "metadata": {},
   "source": [
    "# short_description"
   ]
  },
  {
   "cell_type": "code",
   "execution_count": 39,
   "metadata": {},
   "outputs": [
    {
     "data": {
      "text/plain": [
       "SPB 1.6 TDI 116 CV S tronic Sport                 64\n",
       "NaN                                               46\n",
       "1.4 66kW (90CV) Selective                         40\n",
       "MOVE KLIMA CD USB ALLWETTER BLUETOOTH             38\n",
       "SPB 30 TDI S tronic Business                      35\n",
       "                                                  ..\n",
       "K Sports Tourer Business **Navi*Voll**             1\n",
       "1.0 Turbo ecoFLEX Automatic Elective Park Navi     1\n",
       "1.6 CDTI Business *Navi*Automatik*Spurh.*          1\n",
       "1.6 136 CV Automatica Navi E 6 Garanzia Full       1\n",
       "TCe 225 EDC GPF LIM Deluxe Pano,RFK                1\n",
       "Name: short_description, Length: 10002, dtype: int64"
      ]
     },
     "execution_count": 39,
     "metadata": {},
     "output_type": "execute_result"
    }
   ],
   "source": [
    "df.short_description.value_counts(dropna=False)"
   ]
  },
  {
   "cell_type": "code",
   "execution_count": 40,
   "metadata": {},
   "outputs": [],
   "source": [
    "df.drop(\"short_description\", axis=1, inplace=True)"
   ]
  },
  {
   "cell_type": "markdown",
   "metadata": {},
   "source": [
    "# description"
   ]
  },
  {
   "cell_type": "code",
   "execution_count": 41,
   "metadata": {},
   "outputs": [
    {
     "data": {
      "text/plain": [
       "0        [\\n, Sicherheit:,  , Deaktivierung für Beifahr...\n",
       "1        [\\nLangstreckenfahrzeug daher die hohe Kilomet...\n",
       "2        [\\n, Fahrzeug-Nummer: AM-95365,  , Ehem. UPE 2...\n",
       "3        [\\nAudi A1: , - 1e eigenaar , - Perfecte staat...\n",
       "4        [\\n, Technik & Sicherheit:, Xenon plus, Klimaa...\n",
       "                               ...                        \n",
       "15914    [\\nVettura visionabile nella sede in Via Roma ...\n",
       "15915    [\\nDach: Panorama-Glas-Schiebedach, Lackierung...\n",
       "15916    [\\n, Getriebe:,  Automatik, Technik:,  Bordcom...\n",
       "15917    [\\nDEK:[2691331], Renault Espace Blue dCi 200C...\n",
       "15918    [\\n, Sicherheit Airbags:,  , Seitenairbag,  , ...\n",
       "Name: description, Length: 15919, dtype: object"
      ]
     },
     "execution_count": 41,
     "metadata": {},
     "output_type": "execute_result"
    }
   ],
   "source": [
    "df['description']"
   ]
  },
  {
   "cell_type": "code",
   "execution_count": 42,
   "metadata": {
    "scrolled": true
   },
   "outputs": [
    {
     "data": {
      "text/plain": [
       "[]                                                                                                                                                                                                                                                                                                                                                                                                                                                                                                                                                                                                                                                                                                                                                                                                                                                                                                                                                                                                                                                                                                                                                                                                                                                                                                                                                                                                                                                                                                                                                                                                                                                                                                                                                                                                                                                                                                                                                                                                                                                                                                                                                                                                                                                                                                                                                                                                                                                                                                                                                                                                                                                                                                                                                                                                                                                                                               636\n",
       "['\\n', '\\n']                                                                                                                                                                                                                                                                                                                                                                                                                                                                                                                                                                                                                                                                                                                                                                                                                                                                                                                                                                                                                                                                                                                                                                                                                                                                                                                                                                                                                                                                                                                                                                                                                                                                                                                                                                                                                                                                                                                                                                                                                                                                                                                                                                                                                                                                                                                                                                                                                                                                                                                                                                                                                                                                                                                                                                                                                                                                                      30\n",
       "['\\n', 'Fahrzeugbeschreibung', ' Sichern Sie sich diesen Renault Clio 1.6 TCE Energy Sport Trophy zum Top-Preis inklusive dem ', 'AUTOHERO-RUNDUM-SORGLOS-PAKET', ' ', 'Infos:', ' 1.Hand, deutsche Auslieferung, Unfallfrei, scheckheftgepflegt', ' ', 'Highlights', ' ', 'Audio-Navigationssystem R-Link Evolution mit Touchscreen und Carminat TomTom', ' ', 'Sportsitze ', ' ', 'Sportfahrwerk', ' ', 'Scheinwerfer Full-LED ', 'Komfort', ' ', 'Geschwindigkeits-Regelanlage (Tempomat) ', ' ', 'Klimaanlage', ' ', 'Einparkhilfe hinten', ' ', 'Multifunktionslenkrad (Sport/Leder) mit Schaltwippen/-tasten ', ' ', 'Fensterheber elektr. mit Impulsgeber links/rechts vorn', ' ', 'Zentralverriegelung / Startanlage Handsfree Entry & Drive ', ' ', 'Berganfahr-Assistent (HSA) ', 'Multimedia', ' ', 'Audiosystem: Radio R & GO (Bluetooth, DAB-Tuner)', ' ', 'Bordcomputer', ' ', 'Freisprecheinrichtung Bluetooth ', ' ', 'USB-Anschluss inkl. AUX-IN-Anschluss (Plug & Music) ', 'Licht und Sicht', ' ', 'Außenspiegel elektr. verstell- und heizbar ', ' ', 'Licht- und Regensensor ', ' ', 'Tagfahrlicht LED ', ' ', 'Nebelscheinwerfer LED ', ' ', 'Coming-Home-Lichtfunktion ', ' ', 'Heckleuchten LED ', 'Sicherheit', ' ', 'Isofix-Aufnahmen für Kindersitz ', ' ', 'Seitenairbag vorn', ' ', 'Wegfahrsperre', ' ', 'Differentialsperre', ' ', 'Bremsassistent ', ' ', 'Elektron. Stabilitäts-Programm (ESP)', ' ', 'Anti-Blockier-System (ABS)', ' ', 'Anti-Submarining-Airbag im Fond', ' ', 'Airbag Fahrer-/Beifahrerseite ', ' ', 'Differentialsperre ', ' ', 'Reifendruck-Kontrollsystem ', ' ', 'Untersteuerungskontrolle (USC) ', ' ', 'Antischlupfregelung (ASR) ', 'Weiteres', ' ', 'Start/Stop-Anlage ', ' ', 'Servolenkung geschwindigkeitsabhängig', ' ', 'R.S. Drive (Fahrmodusschalter) ', ' ', 'Gepäckraumabdeckung / Rollo ', ' ', 'Heckdiffusor ', ' ', 'LM-Felgen ', ' ', 'Heckspoiler (Renault Sport) ', ' ', 'Pedale Aluminium ', ' ', 'Energierückgewinnung (Energy Smart Management) ', ' ', 'Elektr. Bremskraftverteilung ', ' ', 'Reifen-Reparaturkit ', ' ', 'Sitzbezug / Polsterung: Stoff ', ' Ihr ', 'AUTOHERO-RUNDUM-SORGLOS-PAKET', ' beinhaltet:', 'Kostenlose Lieferung in Ihre Nähe', 'Optische & technische Aufbereitung', 'Mindestens 12 Monate gültige HU und AU', '1-Jahr-Premium-Garantie', 'Zulassung inklusive ', '14-Tage-Rückgaberecht', 'Markenunabhängige Inzahlungnahme ', 'Individuelle Finanzierungen zu fairen Konditionen', ' ', 'HIER GEHT ES ZUR 360° - ANSICHT DES FAHRZEUGES:', ':', 'https://www.autohero.com/de/renault-clio-1-6-tce-energy-renault-sport-trophy/id/f7ca29bf-e005-453f-bbc9-8c6fe892dec6/', ' ', 'Haftungsausschluss', ':', 'Für Angaben vom Verkäufer, des Herstellers oder von Datenbankabfragen übernimmt Autohero keine Haftung. Änderungen, Zwischenverkauf und Irrtümer sind vorbehalten.\\n']     27\n",
       "['\\nPosibilidad de prueba del vehículo hasta 5 días. Consultar condiciones. PVP para particulares. Varias unidades y colores disponibles. Precios publicados para vehículos industriales (furgonetas) válidos para compradores autónomos o empresas, consultar condiciones para particulares. Las imágenes y kilómetros pueden no corresponder con el modelo anunciado. Para confirmar póngase en contacto con nuestro departamento comercial. Consulta las excepcionales condiciones de financiación que tenemos disponibles. Precio de venta final IVA y gastos de transferencia incluidos. Horario de atención al cliente: Lunes a Viernes de 09:00 a 18:00.\\n']                                                                                                                                                                                                                                                                                                                                                                                                                                                                                                                                                                                                                                                                                                                                                                                                                                                                                                                                                                                                                                                                                                                                                                                                                                                                                                                                                                                                                                                                                                                                                                                                                                                                                                                                                                                                                                                                                                                                                                                                                                                                                                                                                                                                                               27\n",
       "['\\nSichern Sie sich diesen RENAULT CLIO 1.2 LIMITED zum Top-Preis inklusive dem', 'AUTOHERO-RUNDUM-SORGLOS-PAKET', ' ', 'Infos:', ' 2.Hand, mindestens 12 Monate gültige HU und AU, deutsche Ausführung, unfallfrei ', ' ', 'Highlights', ' ', 'Audio-Navigationssystem mit Touchscreen-Farbdisplay', 'Komfort', ' ', 'Klimaanlage ', ' ', 'Multifunktionslenkrad in Leder ', ' ', 'Berganfahr-Assistent (HSA)', ' ', 'Fensterheber elektrisch vorn ', ' ', 'Geschwindigkeits-Regelanlage (Tempomat) ', ' ', 'Heckscheibe heizbar ', ' ', 'Sitz vorn links höhenverstellbar', ' ', 'Sitz vorn rechts umklappbar ', ' ', 'Stau-/Ablagefach im Laderaumboden ', ' ', 'Zentralverriegelung mit Fernbedienung ', 'Multimedia', ' ', 'Radio R&GO', ' ', 'Bluetooth Freisprechanlage ', ' ', 'USB-/AUX-Schnittstelle ', ' ', 'Bordcomputer', ' ', 'Licht und Sicht', ' ', 'Tagfahrlicht LED ', ' ', 'Außenspiegel elektrisch verstell- und heizbar', 'Sicherheit', ' ', 'Airbag für Fahrer und Beifahrer', ' ', 'Beifahrerairbag deaktivierbar ', ' ', 'Seitenairbags vorn ', ' ', 'Kopfairbagsystem', ' ', 'Anti-Blockier-System (ABS)', ' ', 'Elektronische Bremskraftverteilung ', ' ', 'Elektronische Stabilitäts-Programm (ESP) ', ' ', 'Reifen-Reparaturkit ', ' ', 'Reifendruck-Kontrollsystem ', ' ', 'Untersteuerungskontrolle (USC) ', ' ', 'ISOFIX Kindersitzverankerung ', 'Weiteres', ' ', 'Dachreling silber ', ' ', 'Look-Paket Chrom (außen) ', ' ', 'Look-Paket Grau (innen) ', ' ', 'R&GO-Paket ', ' ', 'Style-Paket ', ' Ihr ', 'AUTOHERO-RUNDUM-SORGLOS-PAKET', ' beinhaltet:', 'Kostenlose Lieferung in Ihre Nähe', 'Optische & technische Aufbereitung', 'Mindestens 12 Monate gültige HU und AU', '1-Jahr-Premium-Garantie', 'Zulassung inklusive ', '14-Tage-Rückgaberecht', 'Markenunabhängige Inzahlungnahme ', 'Individuelle Finanzierungen zu fairen Konditionen', ' ', 'HIER GEHT ES ZUR 360° - ANSICHT DES FAHRZEUGES:', ':', 'https://www.autohero.com/de/renault-clio-1-2-limited/id/30f99516-8785-47e7-a4a3-6cdac4d8e633/', ' ', 'Haftungsausschluss', ':', 'Für Angaben vom Verkäufer, des Herstellers oder von Datenbankabfragen übernimmt Autohero keine Haftung. Änderungen, Zwischenverkauf und Irrtümer sind vorbehalten.\\n']                                                                                                                                                                                                                                                                                                                                                                                                                                                                                                                                                                                                                                   27\n",
       "                                                                                                                                                                                                                                                                                                                                                                                                                                                                                                                                                                                                                                                                                                                                                                                                                                                                                                                                                                                                                                                                                                                                                                                                                                                                                                                                                                                                                                                                                                                                                                                                                                                                                                                                                                                                                                                                                                                                                                                                                                                                                                                                                                                                                                                                                                                                                                                                                                                                                                                                                                                                                                                                                                                                                                                                                                                                                                ... \n",
       "['\\nPratica\\xa067374', 'Airbag fullsize per conducente e passeggero, Alzacristalli elettrici ant. e post. con funzione attivaz. a pressione, Assetto dinamico, Audi drive select, Inserti in micrometallic argento, Kit riparazione pneumatici, Pacchetto di navigazione, Piano di copertura del vano bagagli estraibile, Presa AUX-IN, Proiettori allo Xenon Plus con reg. aut. prof. fari, Lavafari, Rivestimenti dei sedili in tessuto, Serbatoio AdBlue, Sistema controllo pressione pneumatici, Sistema di ancoraggio ISOFIX e 3° punto di ancoraggio Top Tether sui sedili post. laterali, Sistema di informazioni per il conducente con display monocromatico, Tappetini anteriori e posteriori, Versione Business, Volante sportivo multifunzionale in pelle 3 razze, ABS, EBV (Ripartitore elettronico della forza frenante), Airbag laterali anteriori integrati negli schienali dei sedili, Airbag per la testa, Airbag per le ginocchia (lato conducente), Appoggiatesta anteriori (2) e posteriori (3) regolabili, Radio MMI plus, Interfaccia Bluetooth, Appoggiabraccia centrale anteriore, Cambio manuale, Cerchi in lega 7 J x 16\" a 5 razze a stella, Chiusura centralizzata con telecomando, Regolatore di velocità, ESC - Sistema elettronico di controllo della stabilizzazione con bloccaggio trasversale elettronico, ASR - Dispositivo di controllo della trazione, EDS (Dispositivo antislittamento in partenza), Filtro anti particolato, Cinture di sicurezza con pretensionatore, Specchietti retrovisivi esterni riscaldabili e ripiegabili elettricamente, Schienale del sedile posteriore ribaltabile (divisibile in rapporto 40:60 o ribaltabile completam.), Sistema di ausilio al parcheggio posteriore, Servosterzo elettromeccanico, Tergilunotto\\n']                                                                                                                                                                                                                                                                                                                                                                                                                                                                                                                                                                                                                                                                                                                                                                                                                                                                                                                                                                                                                                                                                                          1\n",
       "['\\n', 'Getriebe:', ' Schaltgetriebe', 'Technik:', ' Bordcomputer, Start-Stop-Automatik', 'Assistenten:', ' Regensensor, Lichtsensor, Berganfahrassistent', 'Komfort:', ' Servolenkung, Zentralverriegelung, Elektrischer Fensterheber, Sitzheizung, Elektrische Aussenspiegel, Teilbare Ruecksitzlehne, Tempomat, Park Distance Control, Multifunktionslenkrad, Innenspiegel autom. abblendbar, Mittelarmlehne, Innenraumfilter, Lenksaeule einstellbar, Sportsitze, Klimaautomatik-2-Zonen', 'Sicht:', ' Xenon Scheinwerfer, Colorverglasung, Scheinwerferreinigung, Aussenspiegel beheizbar, Privacyverglasung', 'Sicherheit:', ' ABS, Airbag, Beifahrer-Airbag, Wegfahrsperre, Seitenairbags, ESP, Antriebsschlupfregelung, Reifendruckkontrolle, Traktionskontrolle, Kopfairbag, Knieairbag, Kindersitzbefestigung, Pannenkit', 'Entertainment:', ' CD, Radio, AUX-In, USB-Anschluss, MP3, Bluetooth, Freisprecheinrichtung', 'Umwelt:', ' Grüne Umweltplakette, ', 'Energieeffizienzklasse B', 'Qualität:', ' Garantie, Scheckheftgepflegt, HUAU neu, Nichtraucherfahrzeug', 'Sonstiges:', ' Metallic, Alufelgen, Dachreling, Gepaeckraumabdeckung, Stossfaenger in Wagenfarbe, Sportfahrwerk', 'Weiteres:', ' Connectivity-Paket inkl. Bluetooth-Schnittstelle, Klimaautomatik 2-Zonen, Optik-Paket schwarz Audi exclusive, Einparkhilfe (APS), Verglasung hinten abgedunkelt, Sitzheizung vorn, Dachreling (Aluminium), Soundsystem DSP / Audi Sound-System, Ablage- und Gepäckraum-Paket, Audi music interface, Scheibenwaschdüsen heizbar, Vorbereitung Navigationssystem, Adaptives Bremslicht, Anfahr-Assistent (hold assist), Antriebsart: Frontantrieb, Audi Drive Select, Außenspiegel Wagenfarbe, Blinkleuchten LED in Außenspiegel integriert, Bremsanlage mit Rekuperation - Bremsenergierückgewinnung, Bremsassistent, Dachspoiler, Dekoreinlagen Aluminium Mistral, Einstiegsleisten Aluminium, Elektron. Differentialsperre (EDS), Elektron. Stabilitätskontrolle (ESC), Elektron. Stabilitäts-Programm, Euro 6, Fahrer-Informations-System (FIS), Fensterheber elektrisch vorn und hinten, Frontscheibe Akustikglas, Fußmatten Velours, Getriebe 6-Gang, Heckscheibe heizbar, Interieur Aluminium-Optik, Isofix-Aufnahmen für Kindersitz, Kopfstützen hinten, Multi-Media-Interface MMI, Parkbremse elektro-mechanisch, Polster: Stoff Rallye, Servolenkung elektro-mechanisch, Sitze vorn mit ausziehbarer Oberschenkelauflage, Sitzhöhenverstellung, Sport/Lederlenkrad, Sport-Fahrwerk, Start/Stop-Anlage, Telefon-Vorbereitung mit Bluetooth-Schnittstelle, Wagenheber, Wärmeschutzverglasung, Xenon Plus, ZV mit Fernbedienung', '... Änderungen, Zwischenverkauf und Irrtümer vorbehalten.', ' by CG360.de\\n']                                                                                                                                                         1\n",
       "['\\n', 'Getriebe', '6-Gang', 'Licht und Sicht', 'Xenon-Scheinwerfer Plus (Abblend- und Fernlicht)', 'Technik und Sicherheit', 'Fahrerairbag', 'Airbag Fahrer-/Beifahrerseite', 'Seitenairbag vorn', 'Kopfairbags', 'Anti-Blockier-System (ABS)', 'Elektron. Stabilitätskontrolle (ESC)', 'Elektron. Differentialsperre (EDS)', 'Zentralverriegelung mit Fernbedienung', 'Schließ-/Startsystem Advanced Key (Komfortschlüssel)', 'Servolenkung elektro-mechanisch', 'Geschwindigkeits-Regelanlage (Tempomat)', 'Elektronische Wegfahrsperre', 'Bordcomputer', 'Reifendruck-Kontrollsystem', 'Assistenzsysteme', 'Fahrassistenz-System: Anfahr-Assistent (hold assist)', 'Multimedia', 'Multi-Media-Interface MMI Basic Plus / MMI Radio Plus', 'Audi Smartphone Interface', 'Komfort', 'Komfort-Klimaautomatik 2-Zonen', 'Einparkhilfe hinten (APS)', 'Fensterheber elektrisch', 'Licht- und Regensensor', 'Außenspiegel elektr. verstellbar beide', 'Scheibenwaschdüsen und Außenspiegel beheizt', 'Wärmeschutzverglasung grün getönt', 'Innenausstattung', 'Sitzheizung vorn', 'Lenkrad (Sport/Leder - 3-Speichen) mit Multifunktion', 'Mittelarmlehne vorn', 'Rücksitzlehne geteilt/klappbar', 'Aussenausstattung', 'LM-Felgen', 'Pakete', 'Komfort-Paket', 'Sonstiges', 'Rußpartikelfilter', 'Scheckheftgepflegt', 'Nichtraucherfahrzeug', 'Weitere Informationen', 'Schadstoffklasse: EURO 6D-TEMP', 'Connectivity-Paket', 'Glanz-Paket', 'LM-Felgen 7.5x17 (5-Speichen Y-Design)', 'Progressivlenkung', 'Antriebs-Schlupfregelung (ASR)', 'Elektron. Stabilitäts-Programm (ESP)', 'Getriebe 6-Gang', 'Lenkrad (Sport - 3-Speichen)', 'Parkbremse elektro-mechanisch', 'Sitze vorn höhenverstellbar', 'Vorrüstung Mobiltelefon/Handy mit Bluetooth-Schnittstelle', 'Audi music interface', 'Außenspiegel elektr. verstell- und heizbar beide', 'Vorbereitung Navigationssystem', 'Irrtümer und Änderungen vorbehalten.', 'Die im Internet angebotene Ausstattung ist kein Vertragsbestandteil.', 'Die Ausstattung muss vor Ort geprüft werden.', 'Das angebotene Fahrzeug kann von einer Rückrufaktion betroffen sein. Co2 Angaben können abweichen.', '\\n']                                                                                                                                                                                                                                                                                                                                                                                                                                                                                                                                                                                                                                                                                                                                   1\n",
       "['\\n', 'Aluminium-Gussräder im 5-Speichen-Stern-Design Größe 7 J x 16 mit Reifen 205/55 R 16', 'Dachreling eloxiert', 'Einparkhilfe hinten', 'Fahrerinformationssystem mit Farbdisplay', 'Lederlenkrad im 3-Speichen-Design mit Multifunktion plus', 'Ablage-/Gepäckraumpaket mit erweitertem USB-Buchsen-Angebot', 'Lichtpaket', \"Reifen 16'\", 'Anlaufvariante RdW', 'Vorbereitung für Anhängevorrichtung', 'Audi sound system', 'Reifen 205/55 R16 91W', 'Xenon plus', 'Allwetterlicht', 'Kopfstützen hinten (3 Stück)', 'MMI Radio plus', 'Zentralverriegelung mit Funkschlüssel', 'Bluetooth-Schnittstelle', 'Innenspiegel abblendbar', 'elektronische Stabilisierungskontrolle (ESC)', 'Airbags', '6-Gang-Schaltgetriebe', 'Seitenairbags vorn und Kopfairbagsystem', 'elektromechanische Servolenkung', 'Leuchtweitenregulierung automatisch-statisch', 'Scheibenwaschdüsen beheizbar vorn', 'Reifendruck-Kontrollanzeige', 'Tagfahrlicht', 'Start-Stop-System', 'AUX-IN-Anschluss', 'Kindersitzverankerung ISOFIX und Top Tether für die äußeren Fondsitze', 'Sitzbezüge in Stoff Index', 'Wärmeschutzverglasung', 'Akustikfrontscheibe', 'Außenspiegel links asphärisch', 'Außen-Sound Standard', 'Außenspiegel rechts (großes Sichtfeld) konvex', 'elektromechanische Parkbremse', 'Dachhimmel in Stoff felsgrau', 'Kraftstoffsystem Otto-Einspritzer', 'Linkslenker', 'Reifenreparaturset', 'Heckleuchten', 'Scheibenwaschanlage', 'Entriegelung Hintersitz Standard', 'Waschwasserstandsanzeige', 'Abgaskonzept EU6 AG/H/I', 'Frontantrieb', 'A3', 'Außenspiegelgehäuse in Wagenfarbe', 'Ohne erweitertem Sicherheitssystem', 'Geschwindigkeitsbegrenzungsanlage', 'Dachkantenspoiler', 'Heckscheibenwischer', 'Sportback', 'Kindersicherung manuell', 'Ohne Kamerasysteme/Umfeldsensorik', '4-Zyl. Ottomotor 1 5 L/110KW TSI Grundmotor ist: TJ7/N09/T9F', 'Nebelschlussleuchten', 'Nichtraucherausführung', 'Radstand', 'Doppeltonfanfare', 'Serienfahrwerk', '4 Türen', 'Modellbezeichnung gemäß neuer Leistungskennzeichnung', 'Warnleuchten', 'Zierleisten schwarz', 'Nichtraucherfahrzeug', 'Irrtümer Änderungen und Zwischenverkauf vorbehalten', 'sehr guter Zustand', 'Komfortklima', 'Aussenspiegel heizbar', 'elektrische Aussenspiegel', 'geteilte Rückbank', 'Scheckheft gepflegt', 'Fahrersitz höhenverstellbar', 'Beifahrersitz höhenverstellbar', '\\n']                                                                                                                                                                                                                                                                                                                                                                                                                                                                                                                 1\n",
       "['\\nDEK:[2691331]', 'Renault Espace Blue dCi 200CV EDC Business', 'Nuova da Immatricolare', 'COLORE: Grigio Titanio', 'INTERNO: Pelle+Tessuto', 'TRASMISSIONE: Cambio Automatico EDC', '---', 'ACCESSORI: ', '7 Posti', ', ', 'Cerchi in Lega 17, Navigatore con Display 8.7, Clima Automatico, Sensori di Parcheggio Anteriori e Posteriori con Retrocamera, Fari Full LED Pure Vision, Cruise Control, Renault Multisense', '---', 'Listino Nuovo 44.300 Euro', 'Prezzo Gruppo Carmeli: 39.700 Euro (Esclusa IPT e Messa in Strada)', 'IVA Esposta', 'In caso di Adesione alla PROMO GRUPPO CARMELI puoi Averla a 36.000 Euro', 'Contattaci per scoprire tutti i vantaggi della PROMO GRUPPO CARMELI', '____________________________________', 'Gruppo Carmeli S.p.A. è Concessionaria e Service ufficiale dei Marchi Renault, Dacia, Nissan, Mercedes e Smart per la provincia di Brescia e Bergamo ed opera nel mercato dell’auto da più di 40 anni.', 'Nelle sedi di Brescia (Nissan e Renault-Dacia Autospazio), di Coccaglio (Renault-Dacia e Nissan) e di Bergamo (Nissan) oltre a tutta la gamma di veicoli dei Marchi rappresentati, propone anche 2.000 auto a Km Zero e Aziendali di tutte le marche.', 'Offriamo Servizi:', '-VALUTAZIONE e PERMUTA del tuo USATO', '-ACQUISTO con pagamento immediato del tuo USATO', '-FINANZIAMENTI e LEASING agevolati', '-NOLEGGIO A LUNGO TERMINE di veicoli di tutte le marche', '-PACCHETTI ASSICURATIVI su misura con possibilità di garanzia del valore a Nuovo', '____________________________________', \"Sebbene sia stato fatto ogni ragionevole sforzo per assicurare l'esattezza delle informazioni riportate, vi potrebbero essere involontarie incongruenze riguardanti le immagini e la descrizione degli accessori, che pertanto non rappresentano vincolo contrattuale. Per ulteriori informazioni sulle condizioni economiche ti invitiamo a contattarci.\", '\\n']                                                                                                                                                                                                                                                                                                                                                                                                                                                                                                                                                                                                                                                                                                                                                                                                                                                                                                                                                                1\n",
       "Name: description, Length: 12874, dtype: int64"
      ]
     },
     "execution_count": 42,
     "metadata": {},
     "output_type": "execute_result"
    }
   ],
   "source": [
    "df['description'].astype('str').value_counts(dropna=False)"
   ]
  },
  {
   "cell_type": "code",
   "execution_count": 43,
   "metadata": {},
   "outputs": [],
   "source": [
    "df.drop(\"description\", axis=1, inplace=True)"
   ]
  },
  {
   "cell_type": "markdown",
   "metadata": {},
   "source": [
    "# body_type"
   ]
  },
  {
   "cell_type": "code",
   "execution_count": 44,
   "metadata": {},
   "outputs": [
    {
     "data": {
      "text/plain": [
       "Sedans           7903\n",
       "Station wagon    3553\n",
       "Compact          3153\n",
       "Van               783\n",
       "Other             290\n",
       "Transporter        88\n",
       "NaN                60\n",
       "Off-Road           56\n",
       "Coupe              25\n",
       "Convertible         8\n",
       "Name: body_type, dtype: int64"
      ]
     },
     "execution_count": 44,
     "metadata": {},
     "output_type": "execute_result"
    }
   ],
   "source": [
    "df.body_type.value_counts(dropna=False)"
   ]
  },
  {
   "cell_type": "markdown",
   "metadata": {},
   "source": [
    "# body"
   ]
  },
  {
   "cell_type": "code",
   "execution_count": 45,
   "metadata": {},
   "outputs": [
    {
     "data": {
      "text/plain": [
       "['\\n', 'Sedans', '\\n']           7903\n",
       "['\\n', 'Station wagon', '\\n']    3553\n",
       "['\\n', 'Compact', '\\n']          3153\n",
       "['\\n', 'Van', '\\n']               783\n",
       "['\\n', 'Other', '\\n']             290\n",
       "['\\n', 'Transporter', '\\n']        88\n",
       "nan                                60\n",
       "['\\n', 'Off-Road', '\\n']           56\n",
       "['\\n', 'Coupe', '\\n']              25\n",
       "['\\n', 'Convertible', '\\n']         8\n",
       "Name: Body, dtype: int64"
      ]
     },
     "execution_count": 45,
     "metadata": {},
     "output_type": "execute_result"
    }
   ],
   "source": [
    "df.Body.astype('str').value_counts(dropna=False)"
   ]
  },
  {
   "cell_type": "code",
   "execution_count": 46,
   "metadata": {},
   "outputs": [],
   "source": [
    "df.drop(\"Body\", axis = 1, inplace = True)"
   ]
  },
  {
   "cell_type": "markdown",
   "metadata": {},
   "source": [
    "# price (target column)"
   ]
  },
  {
   "cell_type": "code",
   "execution_count": 47,
   "metadata": {},
   "outputs": [
    {
     "data": {
      "text/plain": [
       "14990    154\n",
       "15990    151\n",
       "10990    139\n",
       "15900    106\n",
       "17990    102\n",
       "        ... \n",
       "17559      1\n",
       "17560      1\n",
       "17570      1\n",
       "17575      1\n",
       "39875      1\n",
       "Name: price, Length: 2956, dtype: int64"
      ]
     },
     "execution_count": 47,
     "metadata": {},
     "output_type": "execute_result"
    }
   ],
   "source": [
    "df.price.value_counts(dropna=False)"
   ]
  },
  {
   "cell_type": "code",
   "execution_count": 48,
   "metadata": {},
   "outputs": [
    {
     "data": {
      "text/plain": [
       "0"
      ]
     },
     "execution_count": 48,
     "metadata": {},
     "output_type": "execute_result"
    }
   ],
   "source": [
    "df.price.isnull().sum()"
   ]
  },
  {
   "cell_type": "code",
   "execution_count": 49,
   "metadata": {},
   "outputs": [
    {
     "data": {
      "image/png": "[encoded data removed]",
      "text/plain": [
       "<Figure size 720x432 with 1 Axes>"
      ]
     },
     "metadata": {},
     "output_type": "display_data"
    }
   ],
   "source": [
    "sns.boxplot(df.price);"
   ]
  },
  {
   "cell_type": "code",
   "execution_count": 50,
   "metadata": {},
   "outputs": [
    {
     "data": {
      "image/png": "[encoded data removed]",
      "text/plain": [
       "<Figure size 720x432 with 1 Axes>"
      ]
     },
     "metadata": {},
     "output_type": "display_data"
    }
   ],
   "source": [
    "sns.distplot(df.price);"
   ]
  },
  {
   "cell_type": "markdown",
   "metadata": {},
   "source": [
    "# vat"
   ]
  },
  {
   "cell_type": "code",
   "execution_count": 51,
   "metadata": {},
   "outputs": [
    {
     "data": {
      "text/plain": [
       "VAT deductible      10980\n",
       "NaN                  4513\n",
       "Price negotiable      426\n",
       "Name: vat, dtype: int64"
      ]
     },
     "execution_count": 51,
     "metadata": {},
     "output_type": "execute_result"
    }
   ],
   "source": [
    "df.vat.value_counts(dropna=False)"
   ]
  },
  {
   "cell_type": "markdown",
   "metadata": {},
   "source": [
    "# km"
   ]
  },
  {
   "cell_type": "code",
   "execution_count": 52,
   "metadata": {},
   "outputs": [
    {
     "data": {
      "text/plain": [
       "10 km        1045\n",
       "- km         1024\n",
       "1 km          367\n",
       "5 km          170\n",
       "50 km         148\n",
       "             ... \n",
       "67,469 km       1\n",
       "43,197 km       1\n",
       "10,027 km       1\n",
       "35,882 km       1\n",
       "57 km           1\n",
       "Name: km, Length: 6690, dtype: int64"
      ]
     },
     "execution_count": 52,
     "metadata": {},
     "output_type": "execute_result"
    }
   ],
   "source": [
    "df.km.value_counts(dropna=False)"
   ]
  },
  {
   "cell_type": "code",
   "execution_count": 53,
   "metadata": {},
   "outputs": [],
   "source": [
    "df[\"km\"] = df.km.str.replace(',', '').str.extract('(\\d{1,8})').astype('float')"
   ]
  },
  {
   "cell_type": "code",
   "execution_count": 54,
   "metadata": {},
   "outputs": [
    {
     "data": {
      "text/plain": [
       "10.000       1045\n",
       "NaN          1024\n",
       "1.000         367\n",
       "5.000         170\n",
       "50.000        148\n",
       "             ... \n",
       "67469.000       1\n",
       "43197.000       1\n",
       "10027.000       1\n",
       "35882.000       1\n",
       "57.000          1\n",
       "Name: km, Length: 6690, dtype: int64"
      ]
     },
     "execution_count": 54,
     "metadata": {},
     "output_type": "execute_result"
    }
   ],
   "source": [
    "df.km.value_counts(dropna=False)"
   ]
  },
  {
   "cell_type": "code",
   "execution_count": 55,
   "metadata": {},
   "outputs": [
    {
     "data": {
      "text/plain": [
       "make_model                object\n",
       "body_type                 object\n",
       "price                      int64\n",
       "vat                       object\n",
       "km                       float64\n",
       "registration              object\n",
       "prev_owner                object\n",
       "hp                        object\n",
       "Type                      object\n",
       "Previous Owners           object\n",
       "Next Inspection           object\n",
       "Inspection new            object\n",
       "Warranty                  object\n",
       "Full Service              object\n",
       "Non-smoking Vehicle       object\n",
       "Offer Number              object\n",
       "First Registration        object\n",
       "Body Color                object\n",
       "Paint Type                object\n",
       "Body Color Original       object\n",
       "Upholstery                object\n",
       "Nr. of Doors              object\n",
       "Nr. of Seats              object\n",
       "Model Code                object\n",
       "Gearing Type              object\n",
       "Displacement              object\n",
       "Cylinders                 object\n",
       "Weight                    object\n",
       "Drive chain               object\n",
       "Fuel                      object\n",
       "Consumption               object\n",
       "CO2 Emission              object\n",
       "Emission Class            object\n",
       "Comfort & Convenience     object\n",
       "Entertainment & Media     object\n",
       "Extras                    object\n",
       "Safety & Security         object\n",
       "Emission Label            object\n",
       "Gears                     object\n",
       "Country version           object\n",
       "dtype: object"
      ]
     },
     "execution_count": 55,
     "metadata": {},
     "output_type": "execute_result"
    }
   ],
   "source": [
    "df.dtypes"
   ]
  },
  {
   "cell_type": "markdown",
   "metadata": {},
   "source": [
    "# registration & first_registration"
   ]
  },
  {
   "cell_type": "code",
   "execution_count": 56,
   "metadata": {
    "scrolled": true
   },
   "outputs": [
    {
     "data": {
      "text/plain": [
       "-/-        1597\n",
       "03/2018     695\n",
       "02/2019     585\n",
       "05/2018     572\n",
       "03/2019     543\n",
       "01/2019     541\n",
       "04/2018     541\n",
       "02/2018     539\n",
       "03/2016     536\n",
       "04/2016     532\n",
       "06/2018     532\n",
       "01/2018     511\n",
       "04/2019     506\n",
       "02/2016     472\n",
       "03/2017     471\n",
       "05/2016     459\n",
       "06/2016     452\n",
       "05/2019     440\n",
       "06/2017     409\n",
       "05/2017     404\n",
       "07/2018     396\n",
       "04/2017     380\n",
       "01/2016     376\n",
       "02/2017     368\n",
       "01/2017     306\n",
       "08/2018     285\n",
       "06/2019     224\n",
       "07/2017     215\n",
       "11/2017     180\n",
       "07/2016     176\n",
       "10/2016     160\n",
       "10/2017     154\n",
       "09/2017     149\n",
       "11/2016     142\n",
       "09/2018     141\n",
       "09/2016     141\n",
       "12/2016     134\n",
       "12/2017     123\n",
       "08/2017     114\n",
       "11/2018     110\n",
       "12/2018     103\n",
       "10/2018      97\n",
       "08/2016      94\n",
       "07/2019       6\n",
       "09/2019       5\n",
       "08/2019       1\n",
       "11/2019       1\n",
       "12/2019       1\n",
       "Name: registration, dtype: int64"
      ]
     },
     "execution_count": 56,
     "metadata": {},
     "output_type": "execute_result"
    }
   ],
   "source": [
    "df.registration.value_counts(dropna=False)"
   ]
  },
  {
   "cell_type": "code",
   "execution_count": 57,
   "metadata": {},
   "outputs": [
    {
     "data": {
      "text/plain": [
       "['\\n', '2018', '\\n']    4522\n",
       "['\\n', '2016', '\\n']    3674\n",
       "['\\n', '2017', '\\n']    3273\n",
       "['\\n', '2019', '\\n']    2853\n",
       "nan                     1597\n",
       "Name: First Registration, dtype: int64"
      ]
     },
     "execution_count": 57,
     "metadata": {},
     "output_type": "execute_result"
    }
   ],
   "source": [
    "df[\"First Registration\"].astype('str').value_counts(dropna=False)"
   ]
  },
  {
   "cell_type": "code",
   "execution_count": 58,
   "metadata": {},
   "outputs": [],
   "source": [
    "df['First Registration'] = df['First Registration'].str[1]"
   ]
  },
  {
   "cell_type": "code",
   "execution_count": 59,
   "metadata": {},
   "outputs": [
    {
     "data": {
      "text/plain": [
       "2018    4522\n",
       "2016    3674\n",
       "2017    3273\n",
       "2019    2853\n",
       "NaN     1597\n",
       "Name: First Registration, dtype: int64"
      ]
     },
     "execution_count": 59,
     "metadata": {},
     "output_type": "execute_result"
    }
   ],
   "source": [
    "df[\"First Registration\"].value_counts(dropna=False)"
   ]
  },
  {
   "cell_type": "code",
   "execution_count": 60,
   "metadata": {},
   "outputs": [
    {
     "data": {
      "text/plain": [
       "registration             0\n",
       "First Registration    1597\n",
       "dtype: int64"
      ]
     },
     "execution_count": 60,
     "metadata": {},
     "output_type": "execute_result"
    }
   ],
   "source": [
    "df[['registration', \"First Registration\"]].isnull().sum()"
   ]
  },
  {
   "cell_type": "code",
   "execution_count": 61,
   "metadata": {},
   "outputs": [
    {
     "data": {
      "text/plain": [
       "0        01/2016\n",
       "1        03/2017\n",
       "2        02/2016\n",
       "3        08/2016\n",
       "4        05/2016\n",
       "          ...   \n",
       "15914        NaN\n",
       "15915    01/2019\n",
       "15916    03/2019\n",
       "15917    06/2019\n",
       "15918    01/2019\n",
       "Name: registration, Length: 15919, dtype: object"
      ]
     },
     "execution_count": 61,
     "metadata": {},
     "output_type": "execute_result"
    }
   ],
   "source": [
    "df['registration']=df['registration'].replace('-/-',np.nan,regex=True)\n",
    "df['registration']"
   ]
  },
  {
   "cell_type": "code",
   "execution_count": 62,
   "metadata": {},
   "outputs": [
    {
     "data": {
      "text/plain": [
       "1597"
      ]
     },
     "execution_count": 62,
     "metadata": {},
     "output_type": "execute_result"
    }
   ],
   "source": [
    "df['registration'].isnull().sum() "
   ]
  },
  {
   "cell_type": "code",
   "execution_count": 63,
   "metadata": {},
   "outputs": [],
   "source": [
    "df.drop([\"registration\", \"First Registration\"], axis=1, inplace=True)"
   ]
  },
  {
   "cell_type": "markdown",
   "metadata": {},
   "source": [
    "# prev_owner & Previous Owners"
   ]
  },
  {
   "cell_type": "code",
   "execution_count": 64,
   "metadata": {},
   "outputs": [
    {
     "data": {
      "text/plain": [
       "1 previous owner     8294\n",
       "NaN                  6828\n",
       "2 previous owners     778\n",
       "3 previous owners      17\n",
       "4 previous owners       2\n",
       "Name: prev_owner, dtype: int64"
      ]
     },
     "execution_count": 64,
     "metadata": {},
     "output_type": "execute_result"
    }
   ],
   "source": [
    "df.prev_owner.value_counts(dropna=False)"
   ]
  },
  {
   "cell_type": "code",
   "execution_count": 65,
   "metadata": {
    "scrolled": true
   },
   "outputs": [
    {
     "data": {
      "text/plain": [
       "\\n1\\n                                                                                                        8101\n",
       "nan                                                                                                          6640\n",
       "\\n2\\n                                                                                                         766\n",
       "\\n0\\n                                                                                                         163\n",
       "\\n3\\n                                                                                                          17\n",
       "['\\n1\\n', '\\n168 g CO2/km (comb)\\n']                                                                           13\n",
       "['\\n1\\n', '\\n139 g CO2/km (comb)\\n']                                                                           12\n",
       "['\\n1\\n', '\\n110 g CO2/km (comb)\\n']                                                                           12\n",
       "['\\n1\\n', '\\n135 g CO2/km (comb)\\n']                                                                            9\n",
       "['\\n1\\n', '\\n120 g CO2/km (comb)\\n']                                                                            8\n",
       "['\\n1\\n', '\\n', '6.3 l/100 km (comb)', '\\n', '7.8 l/100 km (city)', '\\n', '5.4 l/100 km (country)', '\\n']       7\n",
       "['\\n1\\n', '\\n153 g CO2/km (comb)\\n']                                                                            6\n",
       "['\\n1\\n', '\\n113 g CO2/km (comb)\\n']                                                                            5\n",
       "['\\n1\\n', '\\n107 g CO2/km (comb)\\n']                                                                            5\n",
       "['\\n1\\n', '\\n140 g CO2/km (comb)\\n']                                                                            5\n",
       "['\\n1\\n', '\\n114 g CO2/km (comb)\\n']                                                                            5\n",
       "['\\n0\\n', '\\n139 g CO2/km (comb)\\n']                                                                            4\n",
       "['\\n1\\n', '\\n128 g CO2/km (comb)\\n']                                                                            4\n",
       "['\\n1\\n', '\\n127 g CO2/km (comb)\\n']                                                                            4\n",
       "['\\n1\\n', '\\n', '6 l/100 km (comb)', '\\n', '7.8 l/100 km (city)', '\\n', '4.9 l/100 km (country)', '\\n']         4\n",
       "['\\n1\\n', '\\n124 g CO2/km (comb)\\n']                                                                            3\n",
       "['\\n1\\n', '\\n', '5.7 l/100 km (comb)', '\\n', '7.3 l/100 km (city)', '\\n', '4.7 l/100 km (country)', '\\n']       3\n",
       "['\\n1\\n', '\\n150 g CO2/km (comb)\\n']                                                                            3\n",
       "['\\n1\\n', '\\n129 g CO2/km (comb)\\n']                                                                            3\n",
       "['\\n1\\n', '\\n149 g CO2/km (comb)\\n']                                                                            3\n",
       "['\\n1\\n', '\\n147 g CO2/km (comb)\\n']                                                                            3\n",
       "['\\n1\\n', '\\n136 g CO2/km (comb)\\n']                                                                            3\n",
       "['\\n1\\n', '\\n119 g CO2/km (comb)\\n']                                                                            3\n",
       "['\\n1\\n', '\\n123 g CO2/km (comb)\\n']                                                                            3\n",
       "['\\n0\\n', '\\n114 g CO2/km (comb)\\n']                                                                            3\n",
       "['\\n0\\n', '\\n0 kWh/100 km (comb)\\n']                                                                            2\n",
       "['\\n0\\n', '\\n', '5.4 l/100 km (comb)', '\\n', '7.1 l/100 km (city)', '\\n', '4.4 l/100 km (country)', '\\n']       2\n",
       "['\\n1\\n', '\\n145 g CO2/km (comb)\\n']                                                                            2\n",
       "['\\n0\\n', '\\n120 g CO2/km (comb)\\n']                                                                            2\n",
       "['\\n0\\n', '\\n126 g CO2/km (comb)\\n']                                                                            2\n",
       "['\\n0\\n', '\\n136 g CO2/km (comb)\\n']                                                                            2\n",
       "['\\n1\\n', '\\n', '5.8 l/100 km (comb)', '\\n', '7.3 l/100 km (city)', '\\n', '4.9 l/100 km (country)', '\\n']       2\n",
       "['\\n1\\n', '\\n', '6.6 l/100 km (comb)', '\\n', '8.2 l/100 km (city)', '\\n', '5.7 l/100 km (country)', '\\n']       2\n",
       "['\\n1\\n', '\\n', '5.9 l/100 km (comb)', '\\n', '7.5 l/100 km (city)', '\\n', '5 l/100 km (country)', '\\n']         2\n",
       "['\\n2\\n', '\\n129 g CO2/km (comb)\\n']                                                                            2\n",
       "['\\n2\\n', '\\n', '5.6 l/100 km (comb)', '\\n', '7.3 l/100 km (city)', '\\n', '4.7 l/100 km (country)', '\\n']       2\n",
       "['\\n1\\n', '\\n', '6 l/100 km (comb)', '\\n', '7.7 l/100 km (city)', '\\n', '4.9 l/100 km (country)', '\\n']         2\n",
       "['\\n1\\n', '\\n133 g CO2/km (comb)\\n']                                                                            2\n",
       "['\\n1\\n', '\\n', '4.8 l/100 km (comb)', '\\n', '5.9 l/100 km (city)', '\\n', '4.2 l/100 km (country)', '\\n']       2\n",
       "['\\n1\\n', '\\n', '5 l/100 km (comb)', '\\n', '5.9 l/100 km (city)', '\\n', '4.5 l/100 km (country)', '\\n']         2\n",
       "['\\n1\\n', '\\n126 g CO2/km (comb)\\n']                                                                            2\n",
       "['\\n1\\n', '\\n109 g CO2/km (comb)\\n']                                                                            2\n",
       "['\\n1\\n', '\\n', '5.4 l/100 km (comb)', '\\n', '7.1 l/100 km (city)', '\\n', '4.4 l/100 km (country)', '\\n']       2\n",
       "['\\n1\\n']                                                                                                       2\n",
       "['\\n1\\n', '\\n116 g CO2/km (comb)\\n']                                                                            2\n",
       "['\\n1\\n', '\\n', '6.3 l/100 km (comb)', '\\n', '8.6 l/100 km (city)', '\\n', '5 l/100 km (country)', '\\n']         2\n",
       "['\\n1\\n', '\\n', '7.4 l/100 km (comb)', '\\n', '9.2 l/100 km (city)', '\\n', '6.3 l/100 km (country)', '\\n']       2\n",
       "['\\n2\\n', '\\n125 g CO2/km (comb)\\n']                                                                            2\n",
       "['\\n1\\n', '\\n105 g CO2/km (comb)\\n']                                                                            2\n",
       "\\n4\\n                                                                                                           2\n",
       "['\\n1\\n', '\\n', '5 l/100 km (comb)', '\\n', '6.3 l/100 km (city)', '\\n', '4.2 l/100 km (country)', '\\n']         2\n",
       "['\\n1\\n', '\\n181 g CO2/km (comb)\\n']                                                                            1\n",
       "['\\n0\\n', '\\n104 g CO2/km (comb)\\n']                                                                            1\n",
       "['\\n0\\n', '\\n', '4.6 l/100 km (comb)', '\\n', '5.8 l/100 km (city)', '\\n', '3.9 l/100 km (country)', '\\n']       1\n",
       "['\\n1\\n', '\\n141 g CO2/km (comb)\\n']                                                                            1\n",
       "['\\n0\\n', '\\n106 g CO2/km (comb)\\n']                                                                            1\n",
       "['\\n1\\n', '\\n102 g CO2/km (comb)\\n']                                                                            1\n",
       "['\\n1\\n', '\\n', '5.9 l/100 km (comb)', '\\n', '7.6 l/100 km (city)', '\\n', '4.9 l/100 km (country)', '\\n']       1\n",
       "['\\n1\\n', '\\n', '6.1 l/100 km (comb)', '\\n', '7.7 l/100 km (city)', '\\n', '5.2 l/100 km (country)', '\\n']       1\n",
       "['\\n1\\n', '\\n', '6.7 l/100 km (comb)', '\\n', '8.6 l/100 km (city)', '\\n', '5.6 l/100 km (country)', '\\n']       1\n",
       "['\\n0\\n', '\\n187 g CO2/km (comb)\\n']                                                                            1\n",
       "['\\n1\\n', '\\n', '6.8 l/100 km (comb)', '\\n', '8.7 l/100 km (city)', '\\n', '5.7 l/100 km (country)', '\\n']       1\n",
       "['\\n2\\n', '\\n123 g CO2/km (comb)\\n']                                                                            1\n",
       "['\\n0\\n', '\\n105 g CO2/km (comb)\\n']                                                                            1\n",
       "['\\n1\\n', '\\n188 g CO2/km (comb)\\n']                                                                            1\n",
       "['\\n1\\n', '\\n187 g CO2/km (comb)\\n']                                                                            1\n",
       "['\\n1\\n', '\\n85 g CO2/km (comb)\\n']                                                                             1\n",
       "['\\n1\\n', '\\n', '5.9 l/100 km (comb)', '\\n', '7.6 l/100 km (city)', '\\n', '5.1 l/100 km (country)', '\\n']       1\n",
       "['\\n1\\n', '\\n125 g CO2/km (comb)\\n']                                                                            1\n",
       "['\\n0\\n', '\\n', '6.6 l/100 km (comb)', '\\n', '8.2 l/100 km (city)', '\\n', '5.7 l/100 km (country)', '\\n']       1\n",
       "['\\n1\\n', '\\n159 g CO2/km (comb)\\n']                                                                            1\n",
       "['\\n1\\n', '\\n', '5.6 l/100 km (comb)', '\\n', '7.3 l/100 km (city)', '\\n', '4.7 l/100 km (country)', '\\n']       1\n",
       "['\\n2\\n', '\\n124 g CO2/km (comb)\\n']                                                                            1\n",
       "['\\n0\\n', '\\n107 g CO2/km (comb)\\n']                                                                            1\n",
       "['\\n0\\n', '\\n117 g CO2/km (comb)\\n']                                                                            1\n",
       "['\\n1\\n', '\\n96 g CO2/km (comb)\\n']                                                                             1\n",
       "['\\n1\\n', '\\n104 g CO2/km (comb)\\n']                                                                            1\n",
       "['\\n1\\n', '\\n', '5.2 l/100 km (comb)', '\\n', '6 l/100 km (city)', '\\n', '4.8 l/100 km (country)', '\\n']         1\n",
       "['\\n1\\n', '\\n134 g CO2/km (comb)\\n']                                                                            1\n",
       "['\\n1\\n', '\\n', '6.5 l/100 km (comb)', '\\n', '8.5 l/100 km (city)', '\\n', '5.4 l/100 km (country)', '\\n']       1\n",
       "['\\n1\\n', '\\n', '5.9 l/100 km (comb)', '\\n', '7.4 l/100 km (city)', '\\n', '5 l/100 km (country)', '\\n']         1\n",
       "['\\n2\\n', '\\n122 g CO2/km (comb)\\n']                                                                            1\n",
       "['\\n1\\n', '\\n0 g CO2/km (comb)\\n']                                                                              1\n",
       "['\\n1\\n', '\\n137 g CO2/km (comb)\\n']                                                                            1\n",
       "['\\n1\\n', '\\n99 g CO2/km (comb)\\n']                                                                             1\n",
       "['\\n1\\n', '\\n142 g CO2/km (comb)\\n']                                                                            1\n",
       "['\\n1\\n', '\\n84 g CO2/km (comb)\\n']                                                                             1\n",
       "['\\n2\\n', '\\n127 g CO2/km (comb)\\n']                                                                            1\n",
       "['\\n1\\n', '\\n', '6.6 l/100 km (comb)', '\\n', '8.2 l/100 km (city)', '\\n', '5.6 l/100 km (country)', '\\n']       1\n",
       "['\\n1\\n', '\\n', '6 l/100 km (comb)', '\\n', '8 l/100 km (city)', '\\n', '4.9 l/100 km (country)', '\\n']           1\n",
       "['\\n1\\n', '\\n', '5.9 l/100 km (comb)', '\\n', '7.9 l/100 km (city)', '\\n', '4.8 l/100 km (country)', '\\n']       1\n",
       "['\\n1\\n', '\\n', '4.9 l/100 km (comb)', '\\n', '6 l/100 km (city)', '\\n', '4.2 l/100 km (country)', '\\n']         1\n",
       "['\\n1\\n', '\\n', '6.2 l/100 km (comb)', '\\n', '7.9 l/100 km (city)', '\\n', '5.3 l/100 km (country)', '\\n']       1\n",
       "['\\n1\\n', '\\n111 g CO2/km (comb)\\n']                                                                            1\n",
       "['\\n1\\n', '\\nEuro 6\\n']                                                                                         1\n",
       "['\\n2\\n', '\\n119 g CO2/km (comb)\\n']                                                                            1\n",
       "['\\n1\\n', '\\n', '6.6 l/100 km (comb)', '\\n', '8.1 l/100 km (city)', '\\n', '5.7 l/100 km (country)', '\\n']       1\n",
       "['\\n2\\n', '\\n137 g CO2/km (comb)\\n']                                                                            1\n",
       "Name: Previous Owners, dtype: int64"
      ]
     },
     "execution_count": 65,
     "metadata": {},
     "output_type": "execute_result"
    }
   ],
   "source": [
    "df[\"Previous Owners\"].astype('str').value_counts(dropna=False)"
   ]
  },
  {
   "cell_type": "code",
   "execution_count": 66,
   "metadata": {},
   "outputs": [
    {
     "data": {
      "text/plain": [
       "0        \\n2\\n\n",
       "1          NaN\n",
       "2        \\n1\\n\n",
       "3        \\n1\\n\n",
       "4        \\n1\\n\n",
       "         ...  \n",
       "15914      NaN\n",
       "15915    \\n1\\n\n",
       "15916    \\n1\\n\n",
       "15917      NaN\n",
       "15918    \\n1\\n\n",
       "Name: Previous_Owners, Length: 15919, dtype: object"
      ]
     },
     "execution_count": 66,
     "metadata": {},
     "output_type": "execute_result"
    }
   ],
   "source": [
    "df[\"Previous_Owners\"] = [item[0] if type(item) == list else item for item in df[\"Previous Owners\"]]\n",
    "df[\"Previous_Owners\"]"
   ]
  },
  {
   "cell_type": "code",
   "execution_count": 67,
   "metadata": {},
   "outputs": [],
   "source": [
    "df[\"Previous_Owners\"] = df[\"Previous_Owners\"].str.strip(\"\\n\").astype('float')"
   ]
  },
  {
   "cell_type": "code",
   "execution_count": 68,
   "metadata": {},
   "outputs": [
    {
     "data": {
      "text/plain": [
       "1.000    8294\n",
       "NaN      6640\n",
       "2.000     778\n",
       "0.000     188\n",
       "3.000      17\n",
       "4.000       2\n",
       "Name: Previous_Owners, dtype: int64"
      ]
     },
     "execution_count": 68,
     "metadata": {},
     "output_type": "execute_result"
    }
   ],
   "source": [
    "df[\"Previous_Owners\"].value_counts(dropna=False)"
   ]
  },
  {
   "cell_type": "code",
   "execution_count": 69,
   "metadata": {},
   "outputs": [],
   "source": [
    "df[\"prev_owner\"] = df[\"prev_owner\"].str.extract(\"(\\d*)\").astype('float')"
   ]
  },
  {
   "cell_type": "code",
   "execution_count": 70,
   "metadata": {},
   "outputs": [
    {
     "data": {
      "text/plain": [
       "1.000    8294\n",
       "NaN      6828\n",
       "2.000     778\n",
       "3.000      17\n",
       "4.000       2\n",
       "Name: prev_owner, dtype: int64"
      ]
     },
     "execution_count": 70,
     "metadata": {},
     "output_type": "execute_result"
    }
   ],
   "source": [
    "df[\"prev_owner\"].value_counts(dropna=False)"
   ]
  },
  {
   "cell_type": "code",
   "execution_count": 71,
   "metadata": {},
   "outputs": [],
   "source": [
    "df[\"Previous_Owners\"].fillna(df[\"prev_owner\"], inplace=True)"
   ]
  },
  {
   "cell_type": "code",
   "execution_count": 72,
   "metadata": {},
   "outputs": [
    {
     "data": {
      "text/plain": [
       "1.000    8294\n",
       "NaN      6640\n",
       "2.000     778\n",
       "0.000     188\n",
       "3.000      17\n",
       "4.000       2\n",
       "Name: Previous_Owners, dtype: int64"
      ]
     },
     "execution_count": 72,
     "metadata": {},
     "output_type": "execute_result"
    }
   ],
   "source": [
    "df[\"Previous_Owners\"].value_counts(dropna=False)"
   ]
  },
  {
   "cell_type": "code",
   "execution_count": 73,
   "metadata": {},
   "outputs": [],
   "source": [
    "df[\"Previous_Owners\"].fillna(df[\"prev_owner\"], inplace=True)"
   ]
  },
  {
   "cell_type": "code",
   "execution_count": 74,
   "metadata": {},
   "outputs": [
    {
     "data": {
      "text/plain": [
       "1.000    8294\n",
       "NaN      6640\n",
       "2.000     778\n",
       "0.000     188\n",
       "3.000      17\n",
       "4.000       2\n",
       "Name: Previous_Owners, dtype: int64"
      ]
     },
     "execution_count": 74,
     "metadata": {},
     "output_type": "execute_result"
    }
   ],
   "source": [
    "df[\"Previous_Owners\"].value_counts(dropna=False)"
   ]
  },
  {
   "cell_type": "code",
   "execution_count": 75,
   "metadata": {},
   "outputs": [],
   "source": [
    "df.drop([\"prev_owner\", \"Previous Owners\"], axis=1, inplace=True)"
   ]
  },
  {
   "cell_type": "markdown",
   "metadata": {},
   "source": [
    "# hp"
   ]
  },
  {
   "cell_type": "code",
   "execution_count": 76,
   "metadata": {
    "scrolled": true
   },
   "outputs": [
    {
     "data": {
      "text/plain": [
       "85 kW     2542\n",
       "66 kW     2122\n",
       "81 kW     1402\n",
       "100 kW    1308\n",
       "110 kW    1112\n",
       "70 kW      888\n",
       "125 kW     707\n",
       "51 kW      695\n",
       "55 kW      569\n",
       "118 kW     516\n",
       "92 kW      466\n",
       "121 kW     392\n",
       "147 kW     380\n",
       "77 kW      345\n",
       "56 kW      286\n",
       "54 kW      276\n",
       "103 kW     253\n",
       "87 kW      232\n",
       "165 kW     194\n",
       "88 kW      177\n",
       "60 kW      160\n",
       "162 kW      98\n",
       "- kW        88\n",
       "74 kW       81\n",
       "96 kW       72\n",
       "71 kW       59\n",
       "101 kW      47\n",
       "67 kW       40\n",
       "154 kW      39\n",
       "122 kW      35\n",
       "119 kW      30\n",
       "164 kW      27\n",
       "135 kW      24\n",
       "82 kW       22\n",
       "52 kW       22\n",
       "78 kW       20\n",
       "1 kW        20\n",
       "294 kW      18\n",
       "146 kW      18\n",
       "141 kW      16\n",
       "57 kW       10\n",
       "104 kW       8\n",
       "120 kW       8\n",
       "191 kW       7\n",
       "112 kW       7\n",
       "155 kW       6\n",
       "117 kW       6\n",
       "184 kW       5\n",
       "90 kW        4\n",
       "76 kW        4\n",
       "65 kW        4\n",
       "149 kW       3\n",
       "80 kW        3\n",
       "168 kW       3\n",
       "98 kW        3\n",
       "93 kW        3\n",
       "228 kW       2\n",
       "270 kW       2\n",
       "53 kW        2\n",
       "140 kW       2\n",
       "86 kW        2\n",
       "167 kW       2\n",
       "127 kW       2\n",
       "89 kW        2\n",
       "143 kW       2\n",
       "63 kW        2\n",
       "40 kW        2\n",
       "150 kW       2\n",
       "163 kW       1\n",
       "115 kW       1\n",
       "132 kW       1\n",
       "75 kW        1\n",
       "4 kW         1\n",
       "137 kW       1\n",
       "123 kW       1\n",
       "133 kW       1\n",
       "84 kW        1\n",
       "195 kW       1\n",
       "44 kW        1\n",
       "239 kW       1\n",
       "9 kW         1\n",
       "Name: hp, dtype: int64"
      ]
     },
     "execution_count": 76,
     "metadata": {},
     "output_type": "execute_result"
    }
   ],
   "source": [
    "df.hp.value_counts(dropna=False)"
   ]
  },
  {
   "cell_type": "code",
   "execution_count": 77,
   "metadata": {},
   "outputs": [],
   "source": [
    "df[\"hp_kW\"] = df.hp.str.extract('(\\d{1,4})').astype('float')"
   ]
  },
  {
   "cell_type": "code",
   "execution_count": 78,
   "metadata": {
    "scrolled": true
   },
   "outputs": [
    {
     "data": {
      "text/plain": [
       "85.000     2542\n",
       "66.000     2122\n",
       "81.000     1402\n",
       "100.000    1308\n",
       "110.000    1112\n",
       "70.000      888\n",
       "125.000     707\n",
       "51.000      695\n",
       "55.000      569\n",
       "118.000     516\n",
       "92.000      466\n",
       "121.000     392\n",
       "147.000     380\n",
       "77.000      345\n",
       "56.000      286\n",
       "54.000      276\n",
       "103.000     253\n",
       "87.000      232\n",
       "165.000     194\n",
       "88.000      177\n",
       "60.000      160\n",
       "162.000      98\n",
       "NaN          88\n",
       "74.000       81\n",
       "96.000       72\n",
       "71.000       59\n",
       "101.000      47\n",
       "67.000       40\n",
       "154.000      39\n",
       "122.000      35\n",
       "119.000      30\n",
       "164.000      27\n",
       "135.000      24\n",
       "82.000       22\n",
       "52.000       22\n",
       "78.000       20\n",
       "1.000        20\n",
       "294.000      18\n",
       "146.000      18\n",
       "141.000      16\n",
       "57.000       10\n",
       "104.000       8\n",
       "120.000       8\n",
       "191.000       7\n",
       "112.000       7\n",
       "155.000       6\n",
       "117.000       6\n",
       "184.000       5\n",
       "90.000        4\n",
       "76.000        4\n",
       "65.000        4\n",
       "149.000       3\n",
       "80.000        3\n",
       "168.000       3\n",
       "98.000        3\n",
       "93.000        3\n",
       "228.000       2\n",
       "270.000       2\n",
       "53.000        2\n",
       "140.000       2\n",
       "86.000        2\n",
       "167.000       2\n",
       "127.000       2\n",
       "89.000        2\n",
       "143.000       2\n",
       "63.000        2\n",
       "40.000        2\n",
       "150.000       2\n",
       "163.000       1\n",
       "115.000       1\n",
       "132.000       1\n",
       "75.000        1\n",
       "4.000         1\n",
       "137.000       1\n",
       "123.000       1\n",
       "133.000       1\n",
       "84.000        1\n",
       "195.000       1\n",
       "44.000        1\n",
       "239.000       1\n",
       "9.000         1\n",
       "Name: hp_kW, dtype: int64"
      ]
     },
     "execution_count": 78,
     "metadata": {},
     "output_type": "execute_result"
    }
   ],
   "source": [
    "df.hp_kW.value_counts(dropna=False)"
   ]
  },
  {
   "cell_type": "code",
   "execution_count": 79,
   "metadata": {},
   "outputs": [],
   "source": [
    "df.drop('hp', axis=1, inplace=True)"
   ]
  },
  {
   "cell_type": "markdown",
   "metadata": {},
   "source": [
    "# Type"
   ]
  },
  {
   "cell_type": "code",
   "execution_count": 80,
   "metadata": {
    "scrolled": true
   },
   "outputs": [
    {
     "data": {
      "text/plain": [
       "['', 'Used', '', 'Diesel (Particulate Filter)']                                                                                 3475\n",
       "['', 'Used', '', 'Diesel']                                                                                                      2516\n",
       "['', 'Used', '', 'Gasoline']                                                                                                    2367\n",
       "['', 'Used', '', 'Super 95']                                                                                                    1818\n",
       "['', 'Pre-registered', '', 'Super 95']                                                                                           500\n",
       "                                                                                                                                ... \n",
       "['', 'New', '', 'Regular/Benzine 91 / Super 95 / Super Plus 98 / Regular/Benzine E10 91 / Super Plus E10 98 / Super E10 95']       1\n",
       "['', 'Used', '', 'Super 95 / Super Plus 98 / Super E10 95 / Super Plus E10 98 (Particulate Filter)']                               1\n",
       "['', 'Demonstration', '', 'Super Plus 98']                                                                                         1\n",
       "['', 'New', '', 'Super Plus E10 98']                                                                                               1\n",
       "['', 'Demonstration', '', 'Regular/Benzine E10 91']                                                                                1\n",
       "Name: Type, Length: 170, dtype: int64"
      ]
     },
     "execution_count": 80,
     "metadata": {},
     "output_type": "execute_result"
    }
   ],
   "source": [
    "df.Type.astype('str').value_counts()"
   ]
  },
  {
   "cell_type": "code",
   "execution_count": 81,
   "metadata": {},
   "outputs": [],
   "source": [
    "df[\"Type\"] = df.Type.str[1]"
   ]
  },
  {
   "cell_type": "code",
   "execution_count": 82,
   "metadata": {},
   "outputs": [
    {
     "data": {
      "text/plain": [
       "Used              11096\n",
       "New                1650\n",
       "Pre-registered     1364\n",
       "Employee's car     1011\n",
       "Demonstration       796\n",
       "NaN                   2\n",
       "Name: Type, dtype: int64"
      ]
     },
     "execution_count": 82,
     "metadata": {},
     "output_type": "execute_result"
    }
   ],
   "source": [
    "df['Type'].value_counts(dropna=False)"
   ]
  },
  {
   "cell_type": "markdown",
   "metadata": {},
   "source": [
    "# Next Inspection & Inspection new"
   ]
  },
  {
   "cell_type": "code",
   "execution_count": 83,
   "metadata": {},
   "outputs": [
    {
     "data": {
      "text/plain": [
       "nan                                           12384\n",
       "\\n04/2022\\n                                      62\n",
       "\\n03/2021\\n                                      38\n",
       "\\n03/2022\\n                                      36\n",
       "\\n06/2021\\n                                      34\n",
       "                                              ...  \n",
       "['\\n12/2018\\n', '\\n97 g CO2/km (comb)\\n']         1\n",
       "['\\n03/2022\\n', '\\n1 (No sticker)\\n']             1\n",
       "['\\n05/2021\\n', '\\n93 g CO2/km (comb)\\n']         1\n",
       "['\\n06/2021\\n', '\\n93 g CO2/km (comb)\\n']         1\n",
       "['\\n01/2022\\n', '\\n168 g CO2/km (comb)\\n']        1\n",
       "Name: Next Inspection, Length: 1400, dtype: int64"
      ]
     },
     "execution_count": 83,
     "metadata": {},
     "output_type": "execute_result"
    }
   ],
   "source": [
    "df[\"Next Inspection\"].astype('str').value_counts(dropna=False)"
   ]
  },
  {
   "cell_type": "code",
   "execution_count": 84,
   "metadata": {},
   "outputs": [
    {
     "data": {
      "text/plain": [
       "nan                                                                                                            11987\n",
       "['\\nYes\\n', '\\nEuro 6\\n']                                                                                        523\n",
       "\\nYes\\n                                                                                                          362\n",
       "['\\nYes\\n', '\\n102 g CO2/km (comb)\\n']                                                                           174\n",
       "['\\nYes\\n', '\\n4 (Green)\\n']                                                                                     166\n",
       "                                                                                                               ...  \n",
       "['\\nYes\\n', '\\n', '6 l/100 km (comb)', '\\n', '8 l/100 km (city)', '\\n', '4.9 l/100 km (country)', '\\n']            1\n",
       "['\\nYes\\n', '\\n', '6.8 l/100 km (comb)', '\\n', '8.5 l/100 km (city)', '\\n', '6.1 l/100 km (country)', '\\n']        1\n",
       "['\\nYes\\n', '\\n', '4.1 l/100 km (comb)', '\\n', '7.5 l/100 km (city)', '\\n', '5.2 l/100 km (country)', '\\n']        1\n",
       "['\\nYes\\n', '\\n', '5.2 l/100 km (comb)', '\\n', '6.8 l/100 km (city)', '\\n', '4.3 l/100 km (country)', '\\n']        1\n",
       "['\\nYes\\n', '\\n172 g CO2/km (comb)\\n']                                                                             1\n",
       "Name: Inspection new, Length: 203, dtype: int64"
      ]
     },
     "execution_count": 84,
     "metadata": {},
     "output_type": "execute_result"
    }
   ],
   "source": [
    "df[\"Inspection new\"].astype('str').value_counts(dropna=False)"
   ]
  },
  {
   "cell_type": "code",
   "execution_count": 85,
   "metadata": {},
   "outputs": [],
   "source": [
    "df[\"Inspection_new\"] = [item[0] if type(item) == list else item for item in df[\"Inspection new\"]]\n",
    "\n",
    "df[\"Inspection_new\"] = df[\"Inspection_new\"].str.strip(\"\\n\")"
   ]
  },
  {
   "cell_type": "code",
   "execution_count": 86,
   "metadata": {},
   "outputs": [
    {
     "data": {
      "text/plain": [
       "NaN    11987\n",
       "Yes     3932\n",
       "Name: Inspection_new, dtype: int64"
      ]
     },
     "execution_count": 86,
     "metadata": {},
     "output_type": "execute_result"
    }
   ],
   "source": [
    "df[\"Inspection_new\"].value_counts(dropna=False)"
   ]
  },
  {
   "cell_type": "code",
   "execution_count": 87,
   "metadata": {},
   "outputs": [],
   "source": [
    "df.drop([\"Next Inspection\", \"Inspection new\"], axis=1, inplace=True)"
   ]
  },
  {
   "cell_type": "markdown",
   "metadata": {},
   "source": [
    "# Warranty"
   ]
  },
  {
   "cell_type": "code",
   "execution_count": 88,
   "metadata": {},
   "outputs": [
    {
     "data": {
      "text/plain": [
       "nan                                                                                                                5420\n",
       "['\\n', '\\n', '\\nEuro 6\\n']                                                                                         1868\n",
       "\\n12 months\\n                                                                                                      1177\n",
       "\\n                                                                                                                  979\n",
       "\\n24 months\\n                                                                                                       566\n",
       "                                                                                                                   ... \n",
       "['\\n72 months\\n', '\\n125 g CO2/km (comb)\\n']                                                                          1\n",
       "['\\n60 months\\n', '\\n14 g CO2/km (comb)\\n']                                                                           1\n",
       "['\\n24 months\\n', '\\n121 g CO2/km (comb)\\n']                                                                          1\n",
       "['\\n12 months\\n', '\\nEuro 6d\\n']                                                                                      1\n",
       "['\\n36 months\\n', '\\n', '7.4 l/100 km (comb)', '\\n', '9.6 l/100 km (city)', '\\n', '6 l/100 km (country)', '\\n']       1\n",
       "Name: Warranty, Length: 516, dtype: int64"
      ]
     },
     "execution_count": 88,
     "metadata": {},
     "output_type": "execute_result"
    }
   ],
   "source": [
    "df.Warranty.astype('str').value_counts(dropna=False)"
   ]
  },
  {
   "cell_type": "code",
   "execution_count": 89,
   "metadata": {},
   "outputs": [],
   "source": [
    "df[\"Warranty\"] = df.Warranty.apply(lambda x : x[0] if type(x)==list else x)\n",
    "\n",
    "df[\"Warranty\"] = df.Warranty.str.strip(\"\\n\").str.extract('(\\d{1,2})').astype(\"float\")"
   ]
  },
  {
   "cell_type": "code",
   "execution_count": 90,
   "metadata": {},
   "outputs": [
    {
     "data": {
      "text/plain": [
       "NaN       11066\n",
       "12.000     2594\n",
       "24.000     1118\n",
       "60.000      401\n",
       "36.000      279\n",
       "48.000      149\n",
       "6.000       125\n",
       "72.000       59\n",
       "3.000        33\n",
       "23.000       11\n",
       "18.000       10\n",
       "20.000        7\n",
       "25.000        6\n",
       "2.000         5\n",
       "50.000        4\n",
       "26.000        4\n",
       "16.000        4\n",
       "4.000         3\n",
       "1.000         3\n",
       "19.000        3\n",
       "34.000        3\n",
       "13.000        3\n",
       "28.000        2\n",
       "22.000        2\n",
       "14.000        2\n",
       "11.000        2\n",
       "46.000        2\n",
       "21.000        2\n",
       "9.000         2\n",
       "17.000        2\n",
       "45.000        2\n",
       "33.000        1\n",
       "40.000        1\n",
       "65.000        1\n",
       "10.000        1\n",
       "15.000        1\n",
       "7.000         1\n",
       "8.000         1\n",
       "56.000        1\n",
       "49.000        1\n",
       "47.000        1\n",
       "30.000        1\n",
       "Name: Warranty, dtype: int64"
      ]
     },
     "execution_count": 90,
     "metadata": {},
     "output_type": "execute_result"
    }
   ],
   "source": [
    "df.Warranty.value_counts(dropna=False)"
   ]
  },
  {
   "cell_type": "markdown",
   "metadata": {},
   "source": [
    "# Full Service"
   ]
  },
  {
   "cell_type": "code",
   "execution_count": 91,
   "metadata": {},
   "outputs": [
    {
     "data": {
      "text/plain": [
       "nan                                                                                                             7704\n",
       "['\\n', '\\n', '\\n4 (Green)\\n']                                                                                   2235\n",
       "['\\n', '\\n', '\\nEuro 6\\n']                                                                                      2097\n",
       "['\\n', '\\n']                                                                                                    1702\n",
       "['\\n', '\\n', '\\nEuro 6d-TEMP\\n']                                                                                 399\n",
       "\\n                                                                                                               283\n",
       "['\\n', '\\n', '\\n120 g CO2/km (comb)\\n']                                                                          105\n",
       "['\\n', '\\n', '\\n126 g CO2/km (comb)\\n']                                                                           84\n",
       "['\\n', '\\n', '\\n104 g CO2/km (comb)\\n']                                                                           77\n",
       "['\\n', '\\n', '\\n97 g CO2/km (comb)\\n']                                                                            76\n",
       "['\\n', '\\n', '\\n124 g CO2/km (comb)\\n']                                                                           61\n",
       "['\\n', '\\n', '\\n99 g CO2/km (comb)\\n']                                                                            60\n",
       "['\\n', '\\n', '\\n128 g CO2/km (comb)\\n']                                                                           53\n",
       "['\\n', '\\n', '\\n119 g CO2/km (comb)\\n']                                                                           49\n",
       "['\\n', '\\n', '\\n140 g CO2/km (comb)\\n']                                                                           39\n",
       "['\\n', '\\n', '\\n106 g CO2/km (comb)\\n']                                                                           38\n",
       "['\\n', '\\n', '\\n92 g CO2/km (comb)\\n']                                                                            33\n",
       "['\\n', '\\n', '\\n107 g CO2/km (comb)\\n']                                                                           32\n",
       "['\\n', '\\n', '\\n114 g CO2/km (comb)\\n']                                                                           31\n",
       "['\\n', '\\n', '\\n103 g CO2/km (comb)\\n']                                                                           29\n",
       "['\\n', '\\n', '\\n102 g CO2/km (comb)\\n']                                                                           29\n",
       "['\\n', '\\n', '\\n1 (No sticker)\\n']                                                                                29\n",
       "['\\n', '\\n', '\\nEuro 6c\\n']                                                                                       28\n",
       "['\\n', '\\n', '\\n117 g CO2/km (comb)\\n']                                                                           24\n",
       "['\\n', '\\n', '\\n139 g CO2/km (comb)\\n']                                                                           24\n",
       "['\\n', '\\n', '\\n127 g CO2/km (comb)\\n']                                                                           23\n",
       "['\\n', '\\n', '\\n141 g CO2/km (comb)\\n']                                                                           22\n",
       "['\\n', '\\n', '\\n125 g CO2/km (comb)\\n']                                                                           20\n",
       "['\\n', '\\n', '\\n136 g CO2/km (comb)\\n']                                                                           20\n",
       "['\\n', '\\n', '\\n85 g CO2/km (comb)\\n']                                                                            20\n",
       "['\\n', '\\n', '\\n108 g CO2/km (comb)\\n']                                                                           19\n",
       "['\\n', '\\n', '\\n112 g CO2/km (comb)\\n']                                                                           18\n",
       "['\\n', '\\n', '\\n5 (Blue)\\n']                                                                                      17\n",
       "['\\n', '\\n', '\\n109 g CO2/km (comb)\\n']                                                                           17\n",
       "['\\n', '\\n', '\\n129 g CO2/km (comb)\\n']                                                                           16\n",
       "['\\n', '\\n', '\\n150 g CO2/km (comb)\\n']                                                                           16\n",
       "['\\n', '\\n', '\\n154 g CO2/km (comb)\\n']                                                                           15\n",
       "['\\n', '\\n', '\\n113 g CO2/km (comb)\\n']                                                                           15\n",
       "['\\n', '\\n', '\\n130 g CO2/km (comb)\\n']                                                                           15\n",
       "['\\n', '\\n', '\\n133 g CO2/km (comb)\\n']                                                                           15\n",
       "['\\n', '\\n', '\\n135 g CO2/km (comb)\\n']                                                                           14\n",
       "['\\n', '\\n', '\\n116 g CO2/km (comb)\\n']                                                                           13\n",
       "['\\n', '\\n', '\\n110 g CO2/km (comb)\\n']                                                                           13\n",
       "['\\n', '\\n', '\\n143 g CO2/km (comb)\\n']                                                                           12\n",
       "['\\n', '\\n', '\\n123 g CO2/km (comb)\\n']                                                                           12\n",
       "['\\n', '\\n', '\\n137 g CO2/km (comb)\\n']                                                                           12\n",
       "['\\n', '\\n', '\\n105 g CO2/km (comb)\\n']                                                                           11\n",
       "['\\n', '\\n', '\\nEuro 6d\\n']                                                                                       11\n",
       "['\\n', '\\n', '\\n132 g CO2/km (comb)\\n']                                                                           10\n",
       "['\\n', '\\n', '\\n95 g CO2/km (comb)\\n']                                                                            10\n",
       "['\\n', '\\n', '\\n118 g CO2/km (comb)\\n']                                                                           10\n",
       "['\\n', '\\n', '\\n101 g CO2/km (comb)\\n']                                                                           10\n",
       "['\\n', '\\n', '\\n147 g CO2/km (comb)\\n']                                                                            9\n",
       "['\\n', '\\n', '\\n111 g CO2/km (comb)\\n']                                                                            9\n",
       "['\\n', '\\n', '\\n149 g CO2/km (comb)\\n']                                                                            9\n",
       "['\\n', '\\n', '\\n91 g CO2/km (comb)\\n']                                                                             9\n",
       "['\\n', '\\n', '\\nEuro 5\\n']                                                                                         8\n",
       "['\\n', '\\n', '\\n145 g CO2/km (comb)\\n']                                                                            8\n",
       "['\\n', '\\n', '\\n121 g CO2/km (comb)\\n']                                                                            7\n",
       "['\\n', '\\n', '\\n96 g CO2/km (comb)\\n']                                                                             6\n",
       "['\\n', '\\n', '\\n142 g CO2/km (comb)\\n']                                                                            5\n",
       "['\\n', '\\n', '\\n82 g CO2/km (comb)\\n']                                                                             5\n",
       "['\\n', '\\n', '\\n134 g CO2/km (comb)\\n']                                                                            5\n",
       "['\\n', '\\n', '\\n138 g CO2/km (comb)\\n']                                                                            5\n",
       "['\\n', '\\n', '\\n148 g CO2/km (comb)\\n']                                                                            4\n",
       "['\\n', '\\n', '\\n189 g CO2/km (comb)\\n']                                                                            4\n",
       "['\\n', '\\n', '\\n89 g CO2/km (comb)\\n']                                                                             4\n",
       "['\\n', '\\n', '\\n131 g CO2/km (comb)\\n']                                                                            4\n",
       "['\\n', '\\n', '\\n152 g CO2/km (comb)\\n']                                                                            3\n",
       "['\\n', '\\n', '\\n98 g CO2/km (comb)\\n']                                                                             3\n",
       "['\\n', '\\n', '\\n', '6.6 l/100 km (comb)', '\\n', '8.2 l/100 km (city)', '\\n', '5.6 l/100 km (country)', '\\n']       3\n",
       "['\\n', '\\n', '\\n', '4.9 l/100 km (comb)', '\\n', '6 l/100 km (city)', '\\n', '4.2 l/100 km (country)', '\\n']         3\n",
       "['\\n', '\\n', '\\n122 g CO2/km (comb)\\n']                                                                            3\n",
       "['\\n', '\\n', '\\n115 g CO2/km (comb)\\n']                                                                            3\n",
       "['\\n', '\\n', '\\n151 g CO2/km (comb)\\n']                                                                            3\n",
       "['\\n', '\\n', '\\n94 g CO2/km (comb)\\n']                                                                             3\n",
       "['\\n', '\\n', '\\n153 g CO2/km (comb)\\n']                                                                            3\n",
       "['\\n', '\\n', '\\n', '6.3 l/100 km (comb)', '\\n', '7.8 l/100 km (city)', '\\n', '5.4 l/100 km (country)', '\\n']       2\n",
       "['\\n', '\\n', '\\n', '5.4 l/100 km (comb)', '\\n', '\\n', '\\n']                                                        2\n",
       "['\\n', '\\n', '\\n', '5.4 l/100 km (comb)', '\\n', '6.7 l/100 km (city)', '\\n', '4.6 l/100 km (country)', '\\n']       2\n",
       "['\\n', '\\n', '\\n157 g CO2/km (comb)\\n']                                                                            2\n",
       "['\\n', '\\n', '\\n', '5.7 l/100 km (comb)', '\\n', '7.3 l/100 km (city)', '\\n', '4.8 l/100 km (country)', '\\n']       2\n",
       "['\\n', '\\n', '\\n169 g CO2/km (comb)\\n']                                                                            2\n",
       "['\\n', '\\n', '\\n', '5.7 l/100 km (comb)', '\\n', '7.2 l/100 km (city)', '\\n', '4.8 l/100 km (country)', '\\n']       2\n",
       "['\\n', '\\n', '\\n166 g CO2/km (comb)\\n']                                                                            2\n",
       "['\\n', '\\n', '\\n88 g CO2/km (comb)\\n']                                                                             2\n",
       "['\\n', '\\n', '\\n', '4.8 l/100 km (comb)', '\\n', '5.9 l/100 km (city)', '\\n', '4.2 l/100 km (country)', '\\n']       2\n",
       "['\\n', '\\n', '\\n', '5.9 l/100 km (comb)', '\\n', '7.8 l/100 km (city)', '\\n', '4.8 l/100 km (country)', '\\n']       2\n",
       "['\\n', '\\n', '\\n93 g CO2/km (comb)\\n']                                                                             2\n",
       "['\\n', '\\n', '\\n', '4.4 l/100 km (comb)', '\\n', '5.2 l/100 km (city)', '\\n', '3.9 l/100 km (country)', '\\n']       2\n",
       "['\\n', '\\n', '\\n188 g CO2/km (comb)\\n']                                                                            2\n",
       "['\\n', '\\n', '\\n146 g CO2/km (comb)\\n']                                                                            2\n",
       "['\\n', '\\n', '\\n144 g CO2/km (comb)\\n']                                                                            2\n",
       "['\\n', '\\n', '\\n90 g CO2/km (comb)\\n']                                                                             2\n",
       "['\\n', '\\n', '\\n0 kWh/100 km (comb)\\n']                                                                            2\n",
       "['\\n', '\\n', '\\n', '5 l/100 km (comb)', '\\n', '5.9 l/100 km (city)', '\\n', '4.5 l/100 km (country)', '\\n']         1\n",
       "['\\n', '\\n', '\\n164 g CO2/km (comb)\\n']                                                                            1\n",
       "['\\n', '\\n', '\\n', '4.6 l/100 km (comb)', '\\n', '5.8 l/100 km (city)', '\\n', '3.9 l/100 km (country)', '\\n']       1\n",
       "['\\n', '\\n', '\\n', '6.5 l/100 km (comb)', '\\n', '8.1 l/100 km (city)', '\\n', '5.5 l/100 km (country)', '\\n']       1\n",
       "['\\n', '\\n', '\\n13,983 g CO2/km (comb)\\n']                                                                         1\n",
       "['\\n', '\\n', '\\n197 g CO2/km (comb)\\n']                                                                            1\n",
       "['\\n', '\\n', '\\n', '6.6 l/100 km (comb)', '\\n', '8.3 l/100 km (city)', '\\n', '5.6 l/100 km (country)', '\\n']       1\n",
       "['\\n', '\\n', '\\n', '6.6 l/100 km (comb)', '\\n', '8.4 l/100 km (city)', '\\n', '5.6 l/100 km (country)', '\\n']       1\n",
       "['\\n', '\\n', '\\n', '5.9 l/100 km (comb)', '\\n', '7.6 l/100 km (city)', '\\n', '4.9 l/100 km (country)', '\\n']       1\n",
       "['\\n', '\\n', '\\n', '5.9 l/100 km (comb)', '\\n', '7.6 l/100 km (city)', '\\n', '5.1 l/100 km (country)', '\\n']       1\n",
       "['\\n', '\\n', '\\n253 g CO2/km (comb)\\n']                                                                            1\n",
       "['\\n', '\\n', '\\n156 g CO2/km (comb)\\n']                                                                            1\n",
       "['\\n', '\\n', '\\n', '5.4 l/100 km (comb)', '\\n', '7.3 l/100 km (city)', '\\n', '4.2 l/100 km (country)', '\\n']       1\n",
       "['\\n', '\\n', '\\n159 g CO2/km (comb)\\n']                                                                            1\n",
       "['\\n', '\\n', '\\n', '4.7 l/100 km (comb)', '\\n', '5.4 l/100 km (city)', '\\n', '4.2 l/100 km (country)', '\\n']       1\n",
       "['\\n', '\\n', '\\n', '4.3 l/100 km (comb)', '\\n', '5.2 l/100 km (city)', '\\n', '3.9 l/100 km (country)', '\\n']       1\n",
       "['\\n', '\\n', '\\n', '6.2 l/100 km (comb)', '\\n', '7.7 l/100 km (city)', '\\n', '5.4 l/100 km (country)', '\\n']       1\n",
       "['\\n', '\\n', '\\n', '5.4 l/100 km (comb)', '\\n', '7 l/100 km (city)', '\\n', '4.5 l/100 km (country)', '\\n']         1\n",
       "['\\n', '\\n', '\\n', '5.7 l/100 km (comb)', '\\n', '7.3 l/100 km (city)', '\\n', '4.9 l/100 km (country)', '\\n']       1\n",
       "['\\n', '\\n', '\\n', '5.8 l/100 km (comb)', '\\n', '7.4 l/100 km (city)', '\\n', '4.9 l/100 km (country)', '\\n']       1\n",
       "['\\n', '\\n', '\\n', '5.5 l/100 km (comb)', '\\n', '7.2 l/100 km (city)', '\\n', '4.5 l/100 km (country)', '\\n']       1\n",
       "['\\n', '\\n', '\\n', '6 l/100 km (comb)', '\\n', '7.5 l/100 km (city)', '\\n', '5.2 l/100 km (country)', '\\n']         1\n",
       "['\\n', '\\n', '\\n87 g CO2/km (comb)\\n']                                                                             1\n",
       "['\\n', '\\n', '\\n80 g CO2/km (comb)\\n']                                                                             1\n",
       "['\\n', '\\n', '\\n84 g CO2/km (comb)\\n']                                                                             1\n",
       "['\\n', '\\n', '\\n', '6 l/100 km (comb)', '\\n', '8 l/100 km (city)', '\\n', '4.9 l/100 km (country)', '\\n']           1\n",
       "['\\n', '\\n', '\\n', '4.9 l/100 km (comb)', '\\n', '6.2 l/100 km (city)', '\\n', '4.1 l/100 km (country)', '\\n']       1\n",
       "['\\n', '\\n', '\\nEuro 4\\n']                                                                                         1\n",
       "Name: Full Service, dtype: int64"
      ]
     },
     "execution_count": 91,
     "metadata": {},
     "output_type": "execute_result"
    }
   ],
   "source": [
    "df['Full Service'].astype('str').value_counts(dropna=False)"
   ]
  },
  {
   "cell_type": "code",
   "execution_count": 92,
   "metadata": {},
   "outputs": [],
   "source": [
    "df.drop(\"Full Service\", axis=1, inplace=True)"
   ]
  },
  {
   "cell_type": "markdown",
   "metadata": {},
   "source": [
    "# Non-smoking Vehicle"
   ]
  },
  {
   "cell_type": "code",
   "execution_count": 93,
   "metadata": {},
   "outputs": [
    {
     "data": {
      "text/plain": [
       "0                       [\\n, \\n]\n",
       "1                            NaN\n",
       "2                            NaN\n",
       "3           [\\n, \\n, \\nEuro 6\\n]\n",
       "4                       [\\n, \\n]\n",
       "                  ...           \n",
       "15914                        NaN\n",
       "15915    [\\n, \\n, \\n4 (Green)\\n]\n",
       "15916                   [\\n, \\n]\n",
       "15917                        NaN\n",
       "15918                        NaN\n",
       "Name: Non-smoking Vehicle, Length: 15919, dtype: object"
      ]
     },
     "execution_count": 93,
     "metadata": {},
     "output_type": "execute_result"
    }
   ],
   "source": [
    "df['Non-smoking Vehicle']"
   ]
  },
  {
   "cell_type": "code",
   "execution_count": 94,
   "metadata": {},
   "outputs": [
    {
     "data": {
      "text/plain": [
       "nan                                                                                                             8742\n",
       "['\\n', '\\n']                                                                                                    3647\n",
       "['\\n', '\\n', '\\n4 (Green)\\n']                                                                                   1240\n",
       "['\\n', '\\n', '\\nEuro 6\\n']                                                                                      1127\n",
       "['\\n', '\\n', '\\nEuro 6d-TEMP\\n']                                                                                 345\n",
       "\\n                                                                                                                70\n",
       "['\\n', '\\n', '\\n120 g CO2/km (comb)\\n']                                                                           63\n",
       "['\\n', '\\n', '\\n85 g CO2/km (comb)\\n']                                                                            46\n",
       "['\\n', '\\n', '\\n104 g CO2/km (comb)\\n']                                                                           36\n",
       "['\\n', '\\n', '\\n107 g CO2/km (comb)\\n']                                                                           36\n",
       "['\\n', '\\n', '\\n153 g CO2/km (comb)\\n']                                                                           31\n",
       "['\\n', '\\n', '\\n124 g CO2/km (comb)\\n']                                                                           29\n",
       "['\\n', '\\n', '\\n1 (No sticker)\\n']                                                                                24\n",
       "['\\n', '\\n', '\\n99 g CO2/km (comb)\\n']                                                                            23\n",
       "['\\n', '\\n', '\\n106 g CO2/km (comb)\\n']                                                                           20\n",
       "['\\n', '\\n', '\\n97 g CO2/km (comb)\\n']                                                                            20\n",
       "['\\n', '\\n', '\\n108 g CO2/km (comb)\\n']                                                                           19\n",
       "['\\n', '\\n', '\\n113 g CO2/km (comb)\\n']                                                                           18\n",
       "['\\n', '\\n', '\\n100 g CO2/km (comb)\\n']                                                                           18\n",
       "['\\n', '\\n', '\\n109 g CO2/km (comb)\\n']                                                                           18\n",
       "['\\n', '\\n', '\\n105 g CO2/km (comb)\\n']                                                                           18\n",
       "['\\n', '\\n', '\\nEuro 6c\\n']                                                                                       17\n",
       "['\\n', '\\n', '\\n98 g CO2/km (comb)\\n']                                                                            15\n",
       "['\\n', '\\n', '\\n129 g CO2/km (comb)\\n']                                                                           14\n",
       "['\\n', '\\n', '\\n131 g CO2/km (comb)\\n']                                                                           13\n",
       "['\\n', '\\n', '\\n133 g CO2/km (comb)\\n']                                                                           12\n",
       "['\\n', '\\n', '\\n103 g CO2/km (comb)\\n']                                                                           12\n",
       "['\\n', '\\n', '\\n114 g CO2/km (comb)\\n']                                                                           12\n",
       "['\\n', '\\n', '\\n116 g CO2/km (comb)\\n']                                                                           11\n",
       "['\\n', '\\n', '\\n135 g CO2/km (comb)\\n']                                                                           11\n",
       "['\\n', '\\n', '\\n102 g CO2/km (comb)\\n']                                                                           11\n",
       "['\\n', '\\n', '\\n127 g CO2/km (comb)\\n']                                                                           10\n",
       "['\\n', '\\n', '\\n143 g CO2/km (comb)\\n']                                                                           10\n",
       "['\\n', '\\n', '\\n92 g CO2/km (comb)\\n']                                                                             9\n",
       "['\\n', '\\n', '\\nEuro 6d\\n']                                                                                        9\n",
       "['\\n', '\\n', '\\n112 g CO2/km (comb)\\n']                                                                            9\n",
       "['\\n', '\\n', '\\n5 (Blue)\\n']                                                                                       8\n",
       "['\\n', '\\n', '\\n118 g CO2/km (comb)\\n']                                                                            8\n",
       "['\\n', '\\n', '\\n139 g CO2/km (comb)\\n']                                                                            7\n",
       "['\\n', '\\n', '\\n128 g CO2/km (comb)\\n']                                                                            7\n",
       "['\\n', '\\n', '\\n147 g CO2/km (comb)\\n']                                                                            7\n",
       "['\\n', '\\n', '\\n126 g CO2/km (comb)\\n']                                                                            6\n",
       "['\\n', '\\n', '\\n137 g CO2/km (comb)\\n']                                                                            6\n",
       "['\\n', '\\n', '\\n117 g CO2/km (comb)\\n']                                                                            6\n",
       "['\\n', '\\n', '\\n140 g CO2/km (comb)\\n']                                                                            6\n",
       "['\\n', '\\n', '\\n130 g CO2/km (comb)\\n']                                                                            5\n",
       "['\\n', '\\n', '\\n115 g CO2/km (comb)\\n']                                                                            5\n",
       "['\\n', '\\n', '\\nEuro 5\\n']                                                                                         4\n",
       "['\\n', '\\n', '\\n', '5.2 l/100 km (comb)', '\\n', '5.8 l/100 km (city)', '\\n', '4.8 l/100 km (country)', '\\n']       4\n",
       "['\\n', '\\n', '\\n123 g CO2/km (comb)\\n']                                                                            4\n",
       "['\\n', '\\n', '\\n151 g CO2/km (comb)\\n']                                                                            4\n",
       "['\\n', '\\n', '\\n95 g CO2/km (comb)\\n']                                                                             3\n",
       "['\\n', '\\n', '\\n119 g CO2/km (comb)\\n']                                                                            3\n",
       "['\\n', '\\n', '\\n148 g CO2/km (comb)\\n']                                                                            3\n",
       "['\\n', '\\n', '\\n157 g CO2/km (comb)\\n']                                                                            3\n",
       "['\\n', '\\n', '\\n136 g CO2/km (comb)\\n']                                                                            3\n",
       "['\\n', '\\n', '\\n110 g CO2/km (comb)\\n']                                                                            3\n",
       "['\\n', '\\n', '\\n149 g CO2/km (comb)\\n']                                                                            3\n",
       "['\\n', '\\n', '\\n138 g CO2/km (comb)\\n']                                                                            2\n",
       "['\\n', '\\n', '\\n125 g CO2/km (comb)\\n']                                                                            2\n",
       "['\\n', '\\n', '\\n', '5.2 l/100 km (comb)', '\\n', '6.4 l/100 km (city)', '\\n', '4.4 l/100 km (country)', '\\n']       2\n",
       "['\\n', '\\n', '\\n166 g CO2/km (comb)\\n']                                                                            2\n",
       "['\\n', '\\n', '\\n121 g CO2/km (comb)\\n']                                                                            2\n",
       "['\\n', '\\n', '\\n142 g CO2/km (comb)\\n']                                                                            2\n",
       "['\\n', '\\n', '\\n90 g CO2/km (comb)\\n']                                                                             2\n",
       "['\\n', '\\n', '\\n111 g CO2/km (comb)\\n']                                                                            2\n",
       "['\\n', '\\n', '\\n134 g CO2/km (comb)\\n']                                                                            2\n",
       "['\\n', '\\n', '\\n', '6.5 l/100 km (comb)', '\\n', '8.5 l/100 km (city)', '\\n', '5.4 l/100 km (country)', '\\n']       1\n",
       "['\\n', '\\n', '\\n', '6.4 l/100 km (comb)', '\\n', '8.1 l/100 km (city)', '\\n', '5.4 l/100 km (country)', '\\n']       1\n",
       "['\\n', '\\n', '\\n161 g CO2/km (comb)\\n']                                                                            1\n",
       "['\\n', '\\n', '\\n172 g CO2/km (comb)\\n']                                                                            1\n",
       "['\\n', '\\n', '\\n189 g CO2/km (comb)\\n']                                                                            1\n",
       "['\\n', '\\n', '\\n82 g CO2/km (comb)\\n']                                                                             1\n",
       "['\\n', '\\n', '\\n154 g CO2/km (comb)\\n']                                                                            1\n",
       "['\\n', '\\n', '\\n', '6.5 l/100 km (comb)', '\\n', '7.9 l/100 km (city)', '\\n', '5.6 l/100 km (country)', '\\n']       1\n",
       "['\\n', '\\n', '\\n', '6.3 l/100 km (comb)', '\\n', '8 l/100 km (city)', '\\n', '5.3 l/100 km (country)', '\\n']         1\n",
       "['\\n', '\\n', '\\n146 g CO2/km (comb)\\n']                                                                            1\n",
       "['\\n', '\\n', '\\n', '5.7 l/100 km (comb)', '\\n', '7.3 l/100 km (city)', '\\n', '4.7 l/100 km (country)', '\\n']       1\n",
       "['\\n', '\\n', '\\n', '6.1 l/100 km (comb)', '\\n', '7.7 l/100 km (city)', '\\n', '5.2 l/100 km (country)', '\\n']       1\n",
       "['\\n', '\\n', '\\n156 g CO2/km (comb)\\n']                                                                            1\n",
       "['\\n', '\\n', '\\n', '6.1 l/100 km (comb)', '\\n', '7.8 l/100 km (city)', '\\n', '5.1 l/100 km (country)', '\\n']       1\n",
       "['\\n', '\\n', '\\n', '6.2 l/100 km (comb)', '\\n', '7.9 l/100 km (city)', '\\n', '5.3 l/100 km (country)', '\\n']       1\n",
       "['\\n', '\\n', '\\n152 g CO2/km (comb)\\n']                                                                            1\n",
       "['\\n', '\\n', '\\n144 g CO2/km (comb)\\n']                                                                            1\n",
       "['\\n', '\\n', '\\n132 g CO2/km (comb)\\n']                                                                            1\n",
       "['\\n', '\\n', '\\n', '1.6 l/100 km (comb)', '\\n', '\\n', '\\n']                                                        1\n",
       "['\\n', '\\n', '\\n169 g CO2/km (comb)\\n']                                                                            1\n",
       "['\\n', '\\n', '\\n101 g CO2/km (comb)\\n']                                                                            1\n",
       "['\\n', '\\n', '\\n159 g CO2/km (comb)\\n']                                                                            1\n",
       "['\\n', '\\n', '\\n91 g CO2/km (comb)\\n']                                                                             1\n",
       "['\\n', '\\n', '\\n', '5.6 l/100 km (comb)', '\\n', '7.3 l/100 km (city)', '\\n', '4.7 l/100 km (country)', '\\n']       1\n",
       "['\\n', '\\n', '\\n122 g CO2/km (comb)\\n']                                                                            1\n",
       "['\\n', '\\n', '\\n158 g CO2/km (comb)\\n']                                                                            1\n",
       "['\\n', '\\n', '\\n150 g CO2/km (comb)\\n']                                                                            1\n",
       "['\\n', '\\n', '\\n175 g CO2/km (comb)\\n']                                                                            1\n",
       "Name: Non-smoking Vehicle, dtype: int64"
      ]
     },
     "execution_count": 94,
     "metadata": {},
     "output_type": "execute_result"
    }
   ],
   "source": [
    "df['Non-smoking Vehicle'].astype('str').value_counts(dropna=False)"
   ]
  },
  {
   "cell_type": "code",
   "execution_count": 95,
   "metadata": {},
   "outputs": [],
   "source": [
    "df.drop(\"Non-smoking Vehicle\", axis=1, inplace=True)"
   ]
  },
  {
   "cell_type": "markdown",
   "metadata": {},
   "source": [
    "# Offer Number"
   ]
  },
  {
   "cell_type": "code",
   "execution_count": 96,
   "metadata": {},
   "outputs": [
    {
     "data": {
      "text/plain": [
       "nan                                                 3175\n",
       "['\\nLT67679\\n']                                       27\n",
       "['\\nUN89904\\n']                                       27\n",
       "['\\nXJ38068\\n']                                       27\n",
       "['\\nJV03654\\n']                                       27\n",
       "                                                    ... \n",
       "['\\n160_dcbb6c3e-a6da-43a3-8754-ccd994cec93b\\n']       1\n",
       "['\\n6701576\\n']                                        1\n",
       "['\\n6701569\\n']                                        1\n",
       "['\\n158121\\n']                                         1\n",
       "['\\nRe_30000008029\\n']                                 1\n",
       "Name: Offer Number, Length: 11441, dtype: int64"
      ]
     },
     "execution_count": 96,
     "metadata": {},
     "output_type": "execute_result"
    }
   ],
   "source": [
    "df['Offer Number'].astype('str').value_counts(dropna=False)"
   ]
  },
  {
   "cell_type": "code",
   "execution_count": 97,
   "metadata": {},
   "outputs": [],
   "source": [
    "df.drop(\"Offer Number\", axis=1, inplace=True)"
   ]
  },
  {
   "cell_type": "markdown",
   "metadata": {},
   "source": [
    "# Body Color"
   ]
  },
  {
   "cell_type": "code",
   "execution_count": 98,
   "metadata": {},
   "outputs": [
    {
     "data": {
      "text/plain": [
       "['\\n', 'Black', '\\n']     3745\n",
       "['\\n', 'Grey', '\\n']      3505\n",
       "['\\n', 'White', '\\n']     3406\n",
       "['\\n', 'Silver', '\\n']    1647\n",
       "['\\n', 'Blue', '\\n']      1431\n",
       "['\\n', 'Red', '\\n']        957\n",
       "nan                        597\n",
       "['\\n', 'Brown', '\\n']      289\n",
       "['\\n', 'Green', '\\n']      154\n",
       "['\\n', 'Beige', '\\n']      108\n",
       "['\\n', 'Yellow', '\\n']      51\n",
       "['\\n', 'Violet', '\\n']      18\n",
       "['\\n', 'Bronze', '\\n']       6\n",
       "['\\n', 'Orange', '\\n']       3\n",
       "['\\n', 'Gold', '\\n']         2\n",
       "Name: Body Color, dtype: int64"
      ]
     },
     "execution_count": 98,
     "metadata": {},
     "output_type": "execute_result"
    }
   ],
   "source": [
    "df['Body Color'].astype('str').value_counts(dropna=False)"
   ]
  },
  {
   "cell_type": "code",
   "execution_count": 99,
   "metadata": {},
   "outputs": [
    {
     "data": {
      "text/plain": [
       "Black     3745\n",
       "Grey      3505\n",
       "White     3406\n",
       "Silver    1647\n",
       "Blue      1431\n",
       "Red        957\n",
       "NaN        597\n",
       "Brown      289\n",
       "Green      154\n",
       "Beige      108\n",
       "Yellow      51\n",
       "Violet      18\n",
       "Bronze       6\n",
       "Orange       3\n",
       "Gold         2\n",
       "Name: Body Color, dtype: int64"
      ]
     },
     "execution_count": 99,
     "metadata": {},
     "output_type": "execute_result"
    }
   ],
   "source": [
    "df['Body Color'] = [item[1] if type(item) == list else item for item in df['Body Color']]\n",
    "df['Body Color'].value_counts(dropna = False)"
   ]
  },
  {
   "cell_type": "markdown",
   "metadata": {},
   "source": [
    "# Body Color Original"
   ]
  },
  {
   "cell_type": "code",
   "execution_count": 100,
   "metadata": {},
   "outputs": [
    {
     "data": {
      "text/plain": [
       "0                 [\\nMythosschwarz\\n]\n",
       "1                                 NaN\n",
       "2        [\\nmythosschwarz metallic\\n]\n",
       "3                                 NaN\n",
       "4        [\\nMythosschwarz Metallic\\n]\n",
       "                     ...             \n",
       "15914              [\\nGrigio scuro\\n]\n",
       "15915       [\\nStahl-Grau Metallic\\n]\n",
       "15916               [\\narktis-weiß\\n]\n",
       "15917                    [\\nGrigio\\n]\n",
       "15918    [\\nTitanium-Grau Metallic\\n]\n",
       "Name: Body Color Original, Length: 15919, dtype: object"
      ]
     },
     "execution_count": 100,
     "metadata": {},
     "output_type": "execute_result"
    }
   ],
   "source": [
    "df['Body Color Original']"
   ]
  },
  {
   "cell_type": "code",
   "execution_count": 101,
   "metadata": {},
   "outputs": [
    {
     "data": {
      "text/plain": [
       "nan                                      3759\n",
       "['\\nOnyx Schwarz\\n']                      338\n",
       "['\\nBianco\\n']                            282\n",
       "['\\nMythosschwarz Metallic\\n']            238\n",
       "['\\nBrillantschwarz\\n']                   216\n",
       "                                         ... \n",
       "['\\nRouge-Braun (G0Y)\\n']                   1\n",
       "['\\nVARI COLRI DISPONIBILI\\n']              1\n",
       "['\\nKokosnussbraun Metallic\\n']             1\n",
       "['\\nFarbe frei wählbar\\n']                  1\n",
       "['\\nPerlmutt-Weiß Metallic (Weiß)\\n']       1\n",
       "Name: Body Color Original, Length: 1928, dtype: int64"
      ]
     },
     "execution_count": 101,
     "metadata": {},
     "output_type": "execute_result"
    }
   ],
   "source": [
    "df['Body Color Original'].astype(str).value_counts(dropna = False)"
   ]
  },
  {
   "cell_type": "code",
   "execution_count": 102,
   "metadata": {},
   "outputs": [
    {
     "data": {
      "text/plain": [
       "NaN                              3759\n",
       "Onyx Schwarz                      338\n",
       "Bianco                            282\n",
       "Mythosschwarz Metallic            238\n",
       "Brillantschwarz                   216\n",
       "                                 ... \n",
       "Rouge-Braun (G0Y)                   1\n",
       "VARI COLRI DISPONIBILI              1\n",
       "Kokosnussbraun Metallic             1\n",
       "Farbe frei wählbar                  1\n",
       "Perlmutt-Weiß Metallic (Weiß)       1\n",
       "Name: Body Color Original, Length: 1928, dtype: int64"
      ]
     },
     "execution_count": 102,
     "metadata": {},
     "output_type": "execute_result"
    }
   ],
   "source": [
    "df['Body Color Original'] = [item[0] if type(item) == list else item for item in df['Body Color Original']]\n",
    "df['Body Color Original'] = df['Body Color Original'].str.strip(\"\\n\")\n",
    "df['Body Color Original'].value_counts(dropna = False)"
   ]
  },
  {
   "cell_type": "markdown",
   "metadata": {},
   "source": [
    "## Paint Type"
   ]
  },
  {
   "cell_type": "code",
   "execution_count": 200,
   "metadata": {},
   "outputs": [
    {
     "data": {
      "text/plain": [
       "['\\nMetallic\\n']       9794\n",
       "nan                    5772\n",
       "['\\nUni/basic\\n']       347\n",
       "['\\nPerl effect\\n']       6\n",
       "Name: Paint Type, dtype: int64"
      ]
     },
     "execution_count": 200,
     "metadata": {},
     "output_type": "execute_result"
    }
   ],
   "source": [
    "df['Paint Type'].astype('str').value_counts(dropna=True)"
   ]
  },
  {
   "cell_type": "code",
   "execution_count": 201,
   "metadata": {},
   "outputs": [
    {
     "data": {
      "text/plain": [
       "Metallic       9794\n",
       "NaN            5772\n",
       "Uni/basic       347\n",
       "Perl effect       6\n",
       "Name: Paint Type, dtype: int64"
      ]
     },
     "execution_count": 201,
     "metadata": {},
     "output_type": "execute_result"
    }
   ],
   "source": [
    "df['Paint Type'] = [item[0] if type(item) == list else item for item in df['Paint Type']]\n",
    "df['Paint Type'] = df['Paint Type'].str.strip(\"\\n\")\n",
    "df['Paint Type'].value_counts(dropna = False)"
   ]
  },
  {
   "cell_type": "markdown",
   "metadata": {},
   "source": [
    "## Upholstery"
   ]
  },
  {
   "cell_type": "code",
   "execution_count": 106,
   "metadata": {
    "scrolled": true
   },
   "outputs": [
    {
     "data": {
      "text/plain": [
       "['\\nCloth, Black\\n']           5821\n",
       "nan                            3720\n",
       "['\\nPart leather, Black\\n']    1121\n",
       "['\\nCloth\\n']                  1005\n",
       "['\\nCloth, Grey\\n']             891\n",
       "['\\nCloth, Other\\n']            639\n",
       "['\\nFull leather, Black\\n']     575\n",
       "['\\nBlack\\n']                   491\n",
       "['\\nGrey\\n']                    273\n",
       "['\\nOther, Other\\n']            182\n",
       "['\\nPart leather\\n']            140\n",
       "['\\nFull leather\\n']            139\n",
       "['\\nFull leather, Brown\\n']     116\n",
       "['\\nPart leather, Grey\\n']      116\n",
       "['\\nOther, Black\\n']            110\n",
       "['\\nFull leather, Other\\n']      72\n",
       "['\\nFull leather, Grey\\n']       67\n",
       "['\\nPart leather, Other\\n']      65\n",
       "['\\nOther\\n']                    56\n",
       "['\\nPart leather, Brown\\n']      50\n",
       "['\\nalcantara, Black\\n']         47\n",
       "['\\nVelour, Black\\n']            36\n",
       "['\\nFull leather, Beige\\n']      36\n",
       "['\\nCloth, Brown\\n']             28\n",
       "['\\nVelour\\n']                   16\n",
       "['\\nOther, Grey\\n']              15\n",
       "['\\nCloth, Beige\\n']             13\n",
       "['\\nBrown\\n']                    12\n",
       "['\\nCloth, Blue\\n']              12\n",
       "['\\nVelour, Grey\\n']              8\n",
       "['\\nCloth, White\\n']              8\n",
       "['\\nalcantara, Grey\\n']           6\n",
       "['\\nCloth, Red\\n']                5\n",
       "['\\nOther, Yellow\\n']             4\n",
       "['\\nPart leather, Red\\n']         3\n",
       "['\\nBeige\\n']                     3\n",
       "['\\nPart leather, White\\n']       2\n",
       "['\\nFull leather, Blue\\n']        2\n",
       "['\\nalcantara, Other\\n']          2\n",
       "['\\nalcantara\\n']                 2\n",
       "['\\nWhite\\n']                     2\n",
       "['\\nPart leather, Beige\\n']       2\n",
       "['\\nBlue\\n']                      2\n",
       "['\\nCloth, Orange\\n']             1\n",
       "['\\nFull leather, Red\\n']         1\n",
       "['\\nOther, Brown\\n']              1\n",
       "['\\nFull leather, White\\n']       1\n",
       "Name: Upholstery, dtype: int64"
      ]
     },
     "execution_count": 106,
     "metadata": {},
     "output_type": "execute_result"
    }
   ],
   "source": [
    "df['Upholstery'].astype('str').value_counts(dropna=False)"
   ]
  },
  {
   "cell_type": "code",
   "execution_count": 107,
   "metadata": {},
   "outputs": [],
   "source": [
    "df[\"Upholstery\"] = [item[0] if type(item) == list else item for item in df.Upholstery]"
   ]
  },
  {
   "cell_type": "code",
   "execution_count": 108,
   "metadata": {},
   "outputs": [
    {
     "data": {
      "text/plain": [
       "\\nCloth, Black\\n           5821\n",
       "NaN                        3720\n",
       "\\nPart leather, Black\\n    1121\n",
       "\\nCloth\\n                  1005\n",
       "\\nCloth, Grey\\n             891\n",
       "\\nCloth, Other\\n            639\n",
       "\\nFull leather, Black\\n     575\n",
       "\\nBlack\\n                   491\n",
       "\\nGrey\\n                    273\n",
       "\\nOther, Other\\n            182\n",
       "\\nPart leather\\n            140\n",
       "\\nFull leather\\n            139\n",
       "\\nFull leather, Brown\\n     116\n",
       "\\nPart leather, Grey\\n      116\n",
       "\\nOther, Black\\n            110\n",
       "\\nFull leather, Other\\n      72\n",
       "\\nFull leather, Grey\\n       67\n",
       "\\nPart leather, Other\\n      65\n",
       "\\nOther\\n                    56\n",
       "\\nPart leather, Brown\\n      50\n",
       "\\nalcantara, Black\\n         47\n",
       "\\nVelour, Black\\n            36\n",
       "\\nFull leather, Beige\\n      36\n",
       "\\nCloth, Brown\\n             28\n",
       "\\nVelour\\n                   16\n",
       "\\nOther, Grey\\n              15\n",
       "\\nCloth, Beige\\n             13\n",
       "\\nBrown\\n                    12\n",
       "\\nCloth, Blue\\n              12\n",
       "\\nVelour, Grey\\n              8\n",
       "\\nCloth, White\\n              8\n",
       "\\nalcantara, Grey\\n           6\n",
       "\\nCloth, Red\\n                5\n",
       "\\nOther, Yellow\\n             4\n",
       "\\nPart leather, Red\\n         3\n",
       "\\nBeige\\n                     3\n",
       "\\nPart leather, White\\n       2\n",
       "\\nFull leather, Blue\\n        2\n",
       "\\nalcantara, Other\\n          2\n",
       "\\nalcantara\\n                 2\n",
       "\\nWhite\\n                     2\n",
       "\\nPart leather, Beige\\n       2\n",
       "\\nBlue\\n                      2\n",
       "\\nCloth, Orange\\n             1\n",
       "\\nFull leather, Red\\n         1\n",
       "\\nOther, Brown\\n              1\n",
       "\\nFull leather, White\\n       1\n",
       "Name: Upholstery, dtype: int64"
      ]
     },
     "execution_count": 108,
     "metadata": {},
     "output_type": "execute_result"
    }
   ],
   "source": [
    "df[\"Upholstery\"].value_counts(dropna=False)"
   ]
  },
  {
   "cell_type": "code",
   "execution_count": 109,
   "metadata": {},
   "outputs": [],
   "source": [
    "df[\"Upholstery\"] = df.Upholstery.str.strip(\"\\n\").str.split(\", \")"
   ]
  },
  {
   "cell_type": "code",
   "execution_count": 110,
   "metadata": {
    "scrolled": true
   },
   "outputs": [
    {
     "data": {
      "text/plain": [
       "['Cloth', 'Black']           5821\n",
       "nan                          3720\n",
       "['Part leather', 'Black']    1121\n",
       "['Cloth']                    1005\n",
       "['Cloth', 'Grey']             891\n",
       "['Cloth', 'Other']            639\n",
       "['Full leather', 'Black']     575\n",
       "['Black']                     491\n",
       "['Grey']                      273\n",
       "['Other', 'Other']            182\n",
       "['Part leather']              140\n",
       "['Full leather']              139\n",
       "['Full leather', 'Brown']     116\n",
       "['Part leather', 'Grey']      116\n",
       "['Other', 'Black']            110\n",
       "['Full leather', 'Other']      72\n",
       "['Full leather', 'Grey']       67\n",
       "['Part leather', 'Other']      65\n",
       "['Other']                      56\n",
       "['Part leather', 'Brown']      50\n",
       "['alcantara', 'Black']         47\n",
       "['Velour', 'Black']            36\n",
       "['Full leather', 'Beige']      36\n",
       "['Cloth', 'Brown']             28\n",
       "['Velour']                     16\n",
       "['Other', 'Grey']              15\n",
       "['Cloth', 'Beige']             13\n",
       "['Brown']                      12\n",
       "['Cloth', 'Blue']              12\n",
       "['Velour', 'Grey']              8\n",
       "['Cloth', 'White']              8\n",
       "['alcantara', 'Grey']           6\n",
       "['Cloth', 'Red']                5\n",
       "['Other', 'Yellow']             4\n",
       "['Part leather', 'Red']         3\n",
       "['Beige']                       3\n",
       "['Part leather', 'White']       2\n",
       "['Full leather', 'Blue']        2\n",
       "['alcantara', 'Other']          2\n",
       "['alcantara']                   2\n",
       "['White']                       2\n",
       "['Part leather', 'Beige']       2\n",
       "['Blue']                        2\n",
       "['Cloth', 'Orange']             1\n",
       "['Full leather', 'Red']         1\n",
       "['Other', 'Brown']              1\n",
       "['Full leather', 'White']       1\n",
       "Name: Upholstery, dtype: int64"
      ]
     },
     "execution_count": 110,
     "metadata": {},
     "output_type": "execute_result"
    }
   ],
   "source": [
    "df[\"Upholstery\"].astype('str').value_counts(dropna=False)"
   ]
  },
  {
   "cell_type": "code",
   "execution_count": 111,
   "metadata": {},
   "outputs": [],
   "source": [
    "u_type = [\"Cloth\", 'Part leather', 'Full leather', 'Velour', 'alcantara']\n",
    "\n",
    "df[\"Upholstery_type\"] = df[\"Upholstery\"].apply(lambda x : x[0] if type(x) == list and x[0] in u_type else np.nan)"
   ]
  },
  {
   "cell_type": "code",
   "execution_count": 112,
   "metadata": {},
   "outputs": [
    {
     "data": {
      "text/plain": [
       "Cloth           8423\n",
       "NaN             4871\n",
       "Part leather    1499\n",
       "Full leather    1009\n",
       "Velour            60\n",
       "alcantara         57\n",
       "Name: Upholstery_type, dtype: int64"
      ]
     },
     "execution_count": 112,
     "metadata": {},
     "output_type": "execute_result"
    }
   ],
   "source": [
    "df[\"Upholstery_type\"].value_counts(dropna=False)"
   ]
  },
  {
   "cell_type": "code",
   "execution_count": 113,
   "metadata": {},
   "outputs": [],
   "source": [
    "color = ['Black', 'Grey', 'Brown', 'Beige', 'White', 'Blue', 'Red', 'Yellow', 'Orange']\n",
    "\n",
    "def color_finder(x):\n",
    "    if type(x) == list and len(x) == 2:\n",
    "        return x[1]\n",
    "    elif type(x) == list and x[0] in color:\n",
    "        return x[0]\n",
    "    else:\n",
    "        return np.nan\n",
    "    \n",
    "df['Upholstery_color'] = df.Upholstery.apply(color_finder)"
   ]
  },
  {
   "cell_type": "code",
   "execution_count": 114,
   "metadata": {},
   "outputs": [
    {
     "data": {
      "text/plain": [
       "Black     8201\n",
       "NaN       5078\n",
       "Grey      1376\n",
       "Other      960\n",
       "Brown      207\n",
       "Beige       54\n",
       "Blue        16\n",
       "White       13\n",
       "Red          9\n",
       "Yellow       4\n",
       "Orange       1\n",
       "Name: Upholstery_color, dtype: int64"
      ]
     },
     "execution_count": 114,
     "metadata": {},
     "output_type": "execute_result"
    }
   ],
   "source": [
    "df[\"Upholstery_color\"].value_counts(dropna=False)"
   ]
  },
  {
   "cell_type": "code",
   "execution_count": 115,
   "metadata": {},
   "outputs": [],
   "source": [
    "df.drop(\"Upholstery\", axis=1, inplace=True)"
   ]
  },
  {
   "cell_type": "markdown",
   "metadata": {},
   "source": [
    "## Nr. of Doors"
   ]
  },
  {
   "cell_type": "code",
   "execution_count": 116,
   "metadata": {},
   "outputs": [
    {
     "data": {
      "text/plain": [
       "['\\n5\\n']    11575\n",
       "['\\n4\\n']     3079\n",
       "['\\n3\\n']      832\n",
       "['\\n2\\n']      219\n",
       "nan            212\n",
       "['\\n1\\n']        1\n",
       "['\\n7\\n']        1\n",
       "Name: Nr. of Doors, dtype: int64"
      ]
     },
     "execution_count": 116,
     "metadata": {},
     "output_type": "execute_result"
    }
   ],
   "source": [
    "df[\"Nr. of Doors\"].astype('str').value_counts(dropna=False)"
   ]
  },
  {
   "cell_type": "code",
   "execution_count": 117,
   "metadata": {},
   "outputs": [],
   "source": [
    "df['Nr_of_Doors'] = df['Nr. of Doors'].str[0].str.strip('\\n').astype('float')"
   ]
  },
  {
   "cell_type": "code",
   "execution_count": 118,
   "metadata": {},
   "outputs": [
    {
     "data": {
      "text/plain": [
       "5.000    11575\n",
       "4.000     3079\n",
       "3.000      832\n",
       "2.000      219\n",
       "NaN        212\n",
       "1.000        1\n",
       "7.000        1\n",
       "Name: Nr_of_Doors, dtype: int64"
      ]
     },
     "execution_count": 118,
     "metadata": {},
     "output_type": "execute_result"
    }
   ],
   "source": [
    "df[\"Nr_of_Doors\"].value_counts(dropna=False)"
   ]
  },
  {
   "cell_type": "code",
   "execution_count": 119,
   "metadata": {},
   "outputs": [
    {
     "data": {
      "text/plain": [
       "5.000    11575\n",
       "4.000     3079\n",
       "3.000      832\n",
       "2.000      219\n",
       "1.000        1\n",
       "7.000        1\n",
       "Name: Nr_of_Doors, dtype: int64"
      ]
     },
     "execution_count": 119,
     "metadata": {},
     "output_type": "execute_result"
    }
   ],
   "source": [
    "df[\"Nr_of_Doors\"].value_counts(dropna=True)"
   ]
  },
  {
   "cell_type": "code",
   "execution_count": 120,
   "metadata": {},
   "outputs": [],
   "source": [
    "df.drop(\"Nr. of Doors\", axis=1, inplace=True)"
   ]
  },
  {
   "cell_type": "markdown",
   "metadata": {},
   "source": [
    "## Nr. of Seats"
   ]
  },
  {
   "cell_type": "code",
   "execution_count": 121,
   "metadata": {},
   "outputs": [
    {
     "data": {
      "text/plain": [
       "['\\n5\\n']    13336\n",
       "['\\n4\\n']     1125\n",
       "nan            977\n",
       "['\\n7\\n']      362\n",
       "['\\n2\\n']      116\n",
       "['\\n6\\n']        2\n",
       "['\\n3\\n']        1\n",
       "Name: Nr. of Seats, dtype: int64"
      ]
     },
     "execution_count": 121,
     "metadata": {},
     "output_type": "execute_result"
    }
   ],
   "source": [
    "df[\"Nr. of Seats\"].astype('str').value_counts(dropna=False)"
   ]
  },
  {
   "cell_type": "code",
   "execution_count": 122,
   "metadata": {},
   "outputs": [],
   "source": [
    "df['Nr_of_Seats'] = df['Nr. of Seats'].str[0].str.strip('\\n').astype('float')"
   ]
  },
  {
   "cell_type": "code",
   "execution_count": 123,
   "metadata": {
    "scrolled": true
   },
   "outputs": [
    {
     "data": {
      "text/plain": [
       "5.000    13336\n",
       "4.000     1125\n",
       "7.000      362\n",
       "2.000      116\n",
       "6.000        2\n",
       "3.000        1\n",
       "Name: Nr_of_Seats, dtype: int64"
      ]
     },
     "execution_count": 123,
     "metadata": {},
     "output_type": "execute_result"
    }
   ],
   "source": [
    "df[\"Nr_of_Seats\"].value_counts(dropna=True)"
   ]
  },
  {
   "cell_type": "code",
   "execution_count": 124,
   "metadata": {},
   "outputs": [],
   "source": [
    "df.drop(\"Nr. of Seats\", axis=1, inplace=True)"
   ]
  },
  {
   "cell_type": "markdown",
   "metadata": {},
   "source": [
    "## Model Code"
   ]
  },
  {
   "cell_type": "code",
   "execution_count": 125,
   "metadata": {},
   "outputs": [
    {
     "data": {
      "text/plain": [
       "nan                 10941\n",
       "['\\n0035/BCB\\n']      268\n",
       "['\\n0588/BNO\\n']      245\n",
       "['\\n0588/BDB\\n']      206\n",
       "['\\n0588/BHX\\n']      188\n",
       "                    ...  \n",
       "['\\n0035/AVN\\n']        1\n",
       "['\\n0035/BEM\\n']        1\n",
       "['\\n0035/BAG\\n']        1\n",
       "['\\n0035/BAA\\n']        1\n",
       "['\\n3333/BKG\\n']        1\n",
       "Name: Model Code, Length: 233, dtype: int64"
      ]
     },
     "execution_count": 125,
     "metadata": {},
     "output_type": "execute_result"
    }
   ],
   "source": [
    "df[\"Model Code\"].astype('str').value_counts(dropna=False)"
   ]
  },
  {
   "cell_type": "code",
   "execution_count": 126,
   "metadata": {},
   "outputs": [],
   "source": [
    "df.drop(\"Model Code\", axis=1, inplace=True)"
   ]
  },
  {
   "cell_type": "markdown",
   "metadata": {},
   "source": [
    "## Gearing Type"
   ]
  },
  {
   "cell_type": "code",
   "execution_count": 196,
   "metadata": {},
   "outputs": [
    {
     "data": {
      "text/plain": [
       "['\\n', 'Manual', '\\n']            8153\n",
       "['\\n', 'Automatic', '\\n']         7297\n",
       "['\\n', 'Semi-automatic', '\\n']     469\n",
       "Name: Gearing Type, dtype: int64"
      ]
     },
     "execution_count": 196,
     "metadata": {},
     "output_type": "execute_result"
    }
   ],
   "source": [
    "df[\"Gearing Type\"].astype('str').value_counts(dropna=False)"
   ]
  },
  {
   "cell_type": "code",
   "execution_count": 198,
   "metadata": {},
   "outputs": [
    {
     "data": {
      "text/plain": [
       "Manual            8153\n",
       "Automatic         7297\n",
       "Semi-automatic     469\n",
       "Name: Gearing Type, dtype: int64"
      ]
     },
     "execution_count": 198,
     "metadata": {},
     "output_type": "execute_result"
    }
   ],
   "source": [
    "df[\"Gearing Type\"] = [item[1] if type(item) == list else item for item in df[\"Gearing Type\"]]\n",
    "df[\"Gearing Type\"].value_counts(dropna = False)"
   ]
  },
  {
   "cell_type": "markdown",
   "metadata": {},
   "source": [
    "## Displacement"
   ]
  },
  {
   "cell_type": "code",
   "execution_count": 130,
   "metadata": {
    "scrolled": true
   },
   "outputs": [
    {
     "data": {
      "text/plain": [
       "['\\n1,598 cc\\n']     4761\n",
       "['\\n999 cc\\n']       2438\n",
       "['\\n1,398 cc\\n']     1314\n",
       "['\\n1,399 cc\\n']      749\n",
       "['\\n1,229 cc\\n']      677\n",
       "['\\n1,956 cc\\n']      670\n",
       "['\\n1,461 cc\\n']      595\n",
       "['\\n1,490 cc\\n']      559\n",
       "nan                   496\n",
       "['\\n1,422 cc\\n']      467\n",
       "['\\n1,197 cc\\n']      353\n",
       "['\\n898 cc\\n']        351\n",
       "['\\n1,395 cc\\n']      320\n",
       "['\\n1,968 cc\\n']      301\n",
       "['\\n1,149 cc\\n']      288\n",
       "['\\n1,618 cc\\n']      212\n",
       "['\\n1,798 cc\\n']      210\n",
       "['\\n1,498 cc\\n']      196\n",
       "['\\n1,600 cc\\n']      130\n",
       "['\\n1,248 cc\\n']      110\n",
       "['\\n1,997 cc\\n']      103\n",
       "['\\n1,364 cc\\n']      102\n",
       "['\\n1,400 cc\\n']       90\n",
       "['\\n998 cc\\n']         72\n",
       "['\\n1,500 cc\\n']       50\n",
       "['\\n2,000 cc\\n']       46\n",
       "['\\n1,000 cc\\n']       40\n",
       "['\\n1 cc\\n']           36\n",
       "['\\n1,998 cc\\n']       25\n",
       "['\\n2,480 cc\\n']       20\n",
       "['\\n1,200 cc\\n']       18\n",
       "['\\n1,984 cc\\n']       18\n",
       "['\\n1,397 cc\\n']       11\n",
       "['\\n899 cc\\n']         11\n",
       "['\\n160 cc\\n']          6\n",
       "['\\n929 cc\\n']          5\n",
       "['\\n1,499 cc\\n']        5\n",
       "['\\n997 cc\\n']          4\n",
       "['\\n1,596 cc\\n']        4\n",
       "['\\n139 cc\\n']          4\n",
       "['\\n900 cc\\n']          4\n",
       "['\\n1,599 cc\\n']        3\n",
       "['\\n1,199 cc\\n']        3\n",
       "['\\n1,396 cc\\n']        3\n",
       "['\\n1,495 cc\\n']        2\n",
       "['\\n1,589 cc\\n']        2\n",
       "['\\n1,300 cc\\n']        2\n",
       "['\\n2 cc\\n']            2\n",
       "['\\n995 cc\\n']          2\n",
       "['\\n1,496 cc\\n']        1\n",
       "['\\n890 cc\\n']          1\n",
       "['\\n1,580 cc\\n']        1\n",
       "['\\n1,995 cc\\n']        1\n",
       "['\\n1,333 cc\\n']        1\n",
       "['\\n54 cc\\n']           1\n",
       "['\\n1,533 cc\\n']        1\n",
       "['\\n1,100 cc\\n']        1\n",
       "['\\n1,350 cc\\n']        1\n",
       "['\\n16,000 cc\\n']       1\n",
       "['\\n1,856 cc\\n']        1\n",
       "['\\n1,568 cc\\n']        1\n",
       "['\\n1,896 cc\\n']        1\n",
       "['\\n1,584 cc\\n']        1\n",
       "['\\n996 cc\\n']          1\n",
       "['\\n1,696 cc\\n']        1\n",
       "['\\n1,686 cc\\n']        1\n",
       "['\\n15,898 cc\\n']       1\n",
       "['\\n1,368 cc\\n']        1\n",
       "['\\n140 cc\\n']          1\n",
       "['\\n973 cc\\n']          1\n",
       "['\\n1,239 cc\\n']        1\n",
       "['\\n1,369 cc\\n']        1\n",
       "['\\n1,390 cc\\n']        1\n",
       "['\\n122 cc\\n']          1\n",
       "['\\n1,198 cc\\n']        1\n",
       "['\\n1,195 cc\\n']        1\n",
       "['\\n2,967 cc\\n']        1\n",
       "['\\n1,800 cc\\n']        1\n",
       "Name: Displacement, dtype: int64"
      ]
     },
     "execution_count": 130,
     "metadata": {},
     "output_type": "execute_result"
    }
   ],
   "source": [
    "df[\"Displacement\"].astype('str').value_counts(dropna=False)"
   ]
  },
  {
   "cell_type": "code",
   "execution_count": 131,
   "metadata": {},
   "outputs": [],
   "source": [
    "df[\"Displacement_cc\"] = df.Displacement.str[0].str.strip('\\n').str.replace(',', '').str.extract('(\\d{1,5})').astype(\"float\")"
   ]
  },
  {
   "cell_type": "code",
   "execution_count": 132,
   "metadata": {},
   "outputs": [
    {
     "data": {
      "text/plain": [
       "1598.000     4761\n",
       "999.000      2438\n",
       "1398.000     1314\n",
       "1399.000      749\n",
       "1229.000      677\n",
       "1956.000      670\n",
       "1461.000      595\n",
       "1490.000      559\n",
       "NaN           496\n",
       "1422.000      467\n",
       "1197.000      353\n",
       "898.000       351\n",
       "1395.000      320\n",
       "1968.000      301\n",
       "1149.000      288\n",
       "1618.000      212\n",
       "1798.000      210\n",
       "1498.000      196\n",
       "1600.000      130\n",
       "1248.000      110\n",
       "1997.000      103\n",
       "1364.000      102\n",
       "1400.000       90\n",
       "998.000        72\n",
       "1500.000       50\n",
       "2000.000       46\n",
       "1000.000       40\n",
       "1.000          36\n",
       "1998.000       25\n",
       "2480.000       20\n",
       "1200.000       18\n",
       "1984.000       18\n",
       "1397.000       11\n",
       "899.000        11\n",
       "160.000         6\n",
       "929.000         5\n",
       "1499.000        5\n",
       "997.000         4\n",
       "1596.000        4\n",
       "139.000         4\n",
       "900.000         4\n",
       "1599.000        3\n",
       "1199.000        3\n",
       "1396.000        3\n",
       "1495.000        2\n",
       "1589.000        2\n",
       "1300.000        2\n",
       "2.000           2\n",
       "995.000         2\n",
       "1496.000        1\n",
       "890.000         1\n",
       "1580.000        1\n",
       "1995.000        1\n",
       "1333.000        1\n",
       "54.000          1\n",
       "1533.000        1\n",
       "1100.000        1\n",
       "1350.000        1\n",
       "16000.000       1\n",
       "1856.000        1\n",
       "1568.000        1\n",
       "1896.000        1\n",
       "1584.000        1\n",
       "996.000         1\n",
       "1696.000        1\n",
       "1686.000        1\n",
       "15898.000       1\n",
       "1368.000        1\n",
       "140.000         1\n",
       "973.000         1\n",
       "1239.000        1\n",
       "1369.000        1\n",
       "1390.000        1\n",
       "122.000         1\n",
       "1198.000        1\n",
       "1195.000        1\n",
       "2967.000        1\n",
       "1800.000        1\n",
       "Name: Displacement_cc, dtype: int64"
      ]
     },
     "execution_count": 132,
     "metadata": {},
     "output_type": "execute_result"
    }
   ],
   "source": [
    "df[\"Displacement_cc\"].value_counts(dropna=False)"
   ]
  },
  {
   "cell_type": "code",
   "execution_count": 133,
   "metadata": {},
   "outputs": [],
   "source": [
    "df.drop(\"Displacement\", axis=1, inplace=True)"
   ]
  },
  {
   "cell_type": "markdown",
   "metadata": {},
   "source": [
    "## Cylinders"
   ]
  },
  {
   "cell_type": "code",
   "execution_count": 134,
   "metadata": {},
   "outputs": [
    {
     "data": {
      "text/plain": [
       "['\\n4\\n']    8105\n",
       "nan          5680\n",
       "['\\n3\\n']    2104\n",
       "['\\n5\\n']      22\n",
       "['\\n6\\n']       3\n",
       "['\\n8\\n']       2\n",
       "['\\n2\\n']       2\n",
       "['\\n1\\n']       1\n",
       "Name: Cylinders, dtype: int64"
      ]
     },
     "execution_count": 134,
     "metadata": {},
     "output_type": "execute_result"
    }
   ],
   "source": [
    "df[\"Cylinders\"].astype('str').value_counts(dropna=False)"
   ]
  },
  {
   "cell_type": "code",
   "execution_count": 135,
   "metadata": {},
   "outputs": [],
   "source": [
    "df[\"Cylinders\"] = df.Cylinders.str[0].str.strip('\\n').astype(\"float\")"
   ]
  },
  {
   "cell_type": "code",
   "execution_count": 136,
   "metadata": {},
   "outputs": [
    {
     "data": {
      "text/plain": [
       "4.000    8105\n",
       "NaN      5680\n",
       "3.000    2104\n",
       "5.000      22\n",
       "6.000       3\n",
       "8.000       2\n",
       "2.000       2\n",
       "1.000       1\n",
       "Name: Cylinders, dtype: int64"
      ]
     },
     "execution_count": 136,
     "metadata": {},
     "output_type": "execute_result"
    }
   ],
   "source": [
    "df[\"Cylinders\"].value_counts(dropna=False)"
   ]
  },
  {
   "cell_type": "markdown",
   "metadata": {},
   "source": [
    "## Weight"
   ]
  },
  {
   "cell_type": "code",
   "execution_count": 137,
   "metadata": {},
   "outputs": [
    {
     "data": {
      "text/plain": [
       "nan                 6974\n",
       "['\\n1,163 kg\\n']     574\n",
       "['\\n1,360 kg\\n']     356\n",
       "['\\n1,165 kg\\n']     301\n",
       "['\\n1,335 kg\\n']     242\n",
       "                    ... \n",
       "['\\n1,960 kg\\n']       1\n",
       "['\\n1,258 kg\\n']       1\n",
       "['\\n1,167 kg\\n']       1\n",
       "['\\n1,331 kg\\n']       1\n",
       "['\\n2,037 kg\\n']       1\n",
       "Name: Weight, Length: 435, dtype: int64"
      ]
     },
     "execution_count": 137,
     "metadata": {},
     "output_type": "execute_result"
    }
   ],
   "source": [
    "df[\"Weight\"].astype('str').value_counts(dropna=False)"
   ]
  },
  {
   "cell_type": "code",
   "execution_count": 138,
   "metadata": {},
   "outputs": [],
   "source": [
    "df[\"Weight_kg\"] = df.Weight.str[0].str.strip('\\n').str.replace(',', '').str.extract('(\\d{1,6})').astype('float')"
   ]
  },
  {
   "cell_type": "code",
   "execution_count": 139,
   "metadata": {},
   "outputs": [
    {
     "data": {
      "text/plain": [
       "NaN         6974\n",
       "1163.000     574\n",
       "1360.000     356\n",
       "1165.000     301\n",
       "1335.000     242\n",
       "            ... \n",
       "1960.000       1\n",
       "1258.000       1\n",
       "1167.000       1\n",
       "1331.000       1\n",
       "2037.000       1\n",
       "Name: Weight_kg, Length: 435, dtype: int64"
      ]
     },
     "execution_count": 139,
     "metadata": {},
     "output_type": "execute_result"
    }
   ],
   "source": [
    "df[\"Weight_kg\"].value_counts(dropna=False)"
   ]
  },
  {
   "cell_type": "code",
   "execution_count": 140,
   "metadata": {},
   "outputs": [],
   "source": [
    "df.drop(\"Weight\", axis=1, inplace=True)"
   ]
  },
  {
   "cell_type": "markdown",
   "metadata": {},
   "source": [
    "## Drive chain"
   ]
  },
  {
   "cell_type": "code",
   "execution_count": 141,
   "metadata": {},
   "outputs": [
    {
     "data": {
      "text/plain": [
       "['\\nfront\\n']    8886\n",
       "nan              6858\n",
       "['\\n4WD\\n']       171\n",
       "['\\nrear\\n']        4\n",
       "Name: Drive chain, dtype: int64"
      ]
     },
     "execution_count": 141,
     "metadata": {},
     "output_type": "execute_result"
    }
   ],
   "source": [
    "df[\"Drive chain\"].astype('str').value_counts(dropna=False)"
   ]
  },
  {
   "cell_type": "code",
   "execution_count": 142,
   "metadata": {},
   "outputs": [],
   "source": [
    "df['Drive_chain'] = df['Drive chain'].str[0].str.strip('\\n')"
   ]
  },
  {
   "cell_type": "code",
   "execution_count": 143,
   "metadata": {},
   "outputs": [
    {
     "data": {
      "text/plain": [
       "front    8886\n",
       "NaN      6858\n",
       "4WD       171\n",
       "rear        4\n",
       "Name: Drive_chain, dtype: int64"
      ]
     },
     "execution_count": 143,
     "metadata": {},
     "output_type": "execute_result"
    }
   ],
   "source": [
    "df[\"Drive_chain\"].value_counts(dropna=False)"
   ]
  },
  {
   "cell_type": "code",
   "execution_count": 144,
   "metadata": {},
   "outputs": [],
   "source": [
    "df.drop(\"Drive chain\", axis=1, inplace=True)"
   ]
  },
  {
   "cell_type": "markdown",
   "metadata": {},
   "source": [
    "## Fuel"
   ]
  },
  {
   "cell_type": "code",
   "execution_count": 145,
   "metadata": {},
   "outputs": [
    {
     "data": {
      "text/plain": [
       "['\\n', 'Diesel (Particulate Filter)', '\\n']                                                                                                       4315\n",
       "['\\n', 'Super 95', '\\n']                                                                                                                          3338\n",
       "['\\n', 'Gasoline', '\\n']                                                                                                                          3175\n",
       "['\\n', 'Diesel', '\\n']                                                                                                                            2984\n",
       "['\\n', 'Super 95 / Regular/Benzine 91', '\\n']                                                                                                      424\n",
       "['\\n', 'Regular/Benzine 91', '\\n']                                                                                                                 354\n",
       "['\\n', 'Super E10 95', '\\n']                                                                                                                       331\n",
       "['\\n', 'Super 95 (Particulate Filter)', '\\n']                                                                                                      268\n",
       "['\\n', 'Super 95 / Super E10 95', '\\n']                                                                                                            131\n",
       "['\\n', 'Regular/Benzine 91 (Particulate Filter)', '\\n']                                                                                            100\n",
       "['\\n', 'Super 95 / Super Plus 98', '\\n']                                                                                                            85\n",
       "['\\n', 'Gasoline (Particulate Filter)', '\\n']                                                                                                       77\n",
       "['\\n', 'Super 95 / Super Plus 98 / Super E10 95 / Super Plus E10 98', '\\n']                                                                         40\n",
       "['\\n', 'Super E10 95 / Super 95', '\\n']                                                                                                             38\n",
       "['\\n', 'CNG', '\\n']                                                                                                                                 33\n",
       "['\\n', 'Super 95 / Super E10 95 (Particulate Filter)', '\\n']                                                                                        25\n",
       "['\\n', 'Super E10 95 / Super 95 / Super Plus 98 / Super Plus E10 98', '\\n']                                                                         19\n",
       "['\\n', 'LPG', '\\n']                                                                                                                                 16\n",
       "['\\n', 'Super 95 / Super Plus 98 (Particulate Filter)', '\\n']                                                                                       14\n",
       "['\\n', 'Regular/Benzine 91 / Super 95 / Super Plus 98 / Regular/Benzine E10 91 / Super E10 95 / Super Plus E10 98', '\\n']                           13\n",
       "['\\n', 'Regular/Benzine E10 91', '\\n']                                                                                                              11\n",
       "['\\n', 'Liquid petroleum gas (LPG)', '\\n']                                                                                                          10\n",
       "['\\n', 'Super 95 / Super Plus 98 / Super E10 95', '\\n']                                                                                              8\n",
       "['\\n', 'Regular/Benzine 91 / Regular/Benzine E10 91', '\\n']                                                                                          7\n",
       "['\\n', 'Super 95 / Regular/Benzine 91 / Super Plus 98 / Regular/Benzine E10 91 / Super E10 95 / Super Plus E10 98', '\\n']                            7\n",
       "['\\n', 'Super Plus 98', '\\n']                                                                                                                        7\n",
       "['\\n', 'Super E10 95 (Particulate Filter)', '\\n']                                                                                                    7\n",
       "['\\n', 'Super 95 / Super Plus 98 / Super Plus E10 98 / Super E10 95', '\\n']                                                                          5\n",
       "['\\n', 'Others', '\\n']                                                                                                                               5\n",
       "['\\n', 'Super E10 95 / Super Plus E10 98', '\\n']                                                                                                     4\n",
       "['\\n', 'Electric/Gasoline', '\\n']                                                                                                                    4\n",
       "['\\n', 'Super 95 / Super Plus 98 / Super E10 95 / Super Plus E10 98 (Particulate Filter)', '\\n']                                                     4\n",
       "['\\n', 'Super 95 / Super E10 95 / Super Plus E10 98 / Super Plus 98', '\\n']                                                                          4\n",
       "['\\n', 'Regular/Benzine 91 / Super 95 / Super Plus 98 / Regular/Benzine E10 91 / Super Plus E10 98 / Super E10 95', '\\n']                            4\n",
       "['\\n', 'CNG (Particulate Filter)', '\\n']                                                                                                             3\n",
       "['\\n', 'Super E10 95 / Super 95 / Super Plus 98 / Super Plus E10 98 (Particulate Filter)', '\\n']                                                     3\n",
       "['\\n', 'Super E10 95 / Super 95 / Super Plus 98', '\\n']                                                                                              3\n",
       "['\\n', 'Super E10 95 / Regular/Benzine 91', '\\n']                                                                                                    2\n",
       "['\\n', 'Super 95 / Regular/Benzine 91 / Super Plus 98', '\\n']                                                                                        2\n",
       "['\\n', 'Regular/Benzine 91 / Super 95 / Super Plus 98 / Super Plus E10 98 / Super E10 95 / Regular/Benzine E10 91', '\\n']                            2\n",
       "['\\n', 'Regular/Benzine 91 / Super 95 / Super E10 95', '\\n']                                                                                         1\n",
       "['\\n', 'Electric', '\\n']                                                                                                                             1\n",
       "['\\n', 'Regular/Benzine 91 / Super 95 / Super E10 95 / Super Plus E10 98 / Super Plus 98 / Regular/Benzine E10 91', '\\n']                            1\n",
       "['\\n', 'Super 95 / Super E10 95 / Super Plus E10 98', '\\n']                                                                                          1\n",
       "['\\n', 'Super 95 / Super E10 95 / Super Plus 98', '\\n']                                                                                              1\n",
       "['\\n', 'Regular/Benzine 91 / Super 95 / Super Plus E10 98 / Super E10 95 / Regular/Benzine E10 91 / Super Plus 98', '\\n']                            1\n",
       "['\\n', 'Super 95 / Super Plus 98 / Regular/Benzine E10 91 / Super Plus E10 98 / Super E10 95 / Regular/Benzine 91', '\\n']                            1\n",
       "['\\n', 'Super 95 / Regular/Benzine E10 91', '\\n']                                                                                                    1\n",
       "['\\n', 'Super E10 95 / Regular/Benzine 91 / Regular/Benzine E10 91 / Super 95', '\\n']                                                                1\n",
       "['\\n', 'Super Plus 98 / Regular/Benzine 91', '\\n']                                                                                                   1\n",
       "['\\n', 'Super 95 / Regular/Benzine 91 / Super E10 95 / Super Plus 98 / Super Plus E10 98 / Regular/Benzine E10 91', '\\n']                            1\n",
       "['\\n', 'Super 95 / Super Plus 98 / Super Plus E10 98', '\\n']                                                                                         1\n",
       "['\\n', 'Super 95 / Regular/Benzine 91 (Particulate Filter)', '\\n']                                                                                   1\n",
       "['\\n', 'Super 95 / Super E10 95 / Regular/Benzine 91', '\\n']                                                                                         1\n",
       "['\\n', 'Regular/Benzine 91 / Super 95 / Super E10 95 / Regular/Benzine E10 91', '\\n']                                                                1\n",
       "['\\n', 'Super 95 / Regular/Benzine E10 91 / Super E10 95', '\\n']                                                                                     1\n",
       "['\\n', 'Super 95 / Regular/Benzine 91 / Super Plus 98 / Regular/Benzine E10 91 / Super Plus E10 98 / Super E10 95', '\\n']                            1\n",
       "['\\n', 'Regular/Benzine E10 91 / Super E10 95 / Super Plus E10 98 / Super Plus 98 / Super 95 / Regular/Benzine 91', '\\n']                            1\n",
       "['\\n', 'Super 95 / Regular/Benzine 91 / Super E10 95 / Super Plus E10 98 / Super Plus 98', '\\n']                                                     1\n",
       "['\\n', 'Others (Particulate Filter)', '\\n']                                                                                                          1\n",
       "['\\n', 'Biogas', '\\n']                                                                                                                               1\n",
       "['\\n', 'Super 95 / Biodiesel', '\\n']                                                                                                                 1\n",
       "['\\n', 'Regular/Benzine 91 / Super 95 / Super Plus 98 / Super Plus E10 98 / Super E10 95 / Regular/Benzine E10 91 (Particulate Filter)', '\\n']       1\n",
       "['\\n', 'Regular/Benzine 91 / Super 95 / Super Plus 98', '\\n']                                                                                        1\n",
       "['\\n', 'Regular/Benzine 91 / Super 95', '\\n']                                                                                                        1\n",
       "['\\n', 'Regular/Benzine E10 91 / Regular/Benzine 91 / Super 95 / Super Plus 98 / Super E10 95 / Super Plus E10 98', '\\n']                            1\n",
       "['\\n', 'Domestic gas H', '\\n']                                                                                                                       1\n",
       "['\\n', 'Super E10 95 / Regular/Benzine 91 / Super 95 / Super Plus 98 / Regular/Benzine E10 91 / Super Plus E10 98', '\\n']                            1\n",
       "['\\n', 'Super Plus E10 98 / Super 95 / Super Plus 98 / Super E10 95', '\\n']                                                                          1\n",
       "['\\n', 'Super 95 / Regular/Benzine 91 / Super E10 95 / Super Plus E10 98 / Super Plus 98 / Regular/Benzine E10 91', '\\n']                            1\n",
       "['\\n', 'Super Plus 98 / Super 95 / Super E10 95', '\\n']                                                                                              1\n",
       "['\\n', 'Super Plus E10 98', '\\n']                                                                                                                    1\n",
       "['\\n', 'Regular/Benzine 91 / Super 95 / Regular/Benzine E10 91', '\\n']                                                                               1\n",
       "['\\n', 'Super Plus 98 / Super E10 95', '\\n']                                                                                                         1\n",
       "['\\n', 'Regular/Benzine 91 / Super 95 / Regular/Benzine E10 91 / Super E10 95 / Super Plus 98 / Super Plus E10 98', '\\n']                            1\n",
       "['\\n', 'Regular/Benzine 91 / Super Plus 98 / Regular/Benzine E10 91 / Super 95 / Super E10 95 / Super Plus E10 98', '\\n']                            1\n",
       "['\\n', 'Super Plus 98 / Super 95 / Super Plus E10 98', '\\n']                                                                                         1\n",
       "Name: Fuel, dtype: int64"
      ]
     },
     "execution_count": 145,
     "metadata": {},
     "output_type": "execute_result"
    }
   ],
   "source": [
    "df[\"Fuel\"].astype('str').value_counts(dropna=False)"
   ]
  },
  {
   "cell_type": "code",
   "execution_count": 146,
   "metadata": {},
   "outputs": [],
   "source": [
    "df[\"Fuel\"] = df.Fuel.str[1].str.split(\"/\").str[0].str.strip()"
   ]
  },
  {
   "cell_type": "code",
   "execution_count": 147,
   "metadata": {},
   "outputs": [
    {
     "data": {
      "text/plain": [
       "Diesel (Particulate Filter)          4315\n",
       "Super 95                             4100\n",
       "Gasoline                             3175\n",
       "Diesel                               2984\n",
       "Regular                               503\n",
       "Super E10 95                          402\n",
       "Super 95 (Particulate Filter)         268\n",
       "Gasoline (Particulate Filter)          77\n",
       "CNG                                    33\n",
       "LPG                                    16\n",
       "Super Plus 98                          11\n",
       "Liquid petroleum gas (LPG)             10\n",
       "Super E10 95 (Particulate Filter)       7\n",
       "Electric                                5\n",
       "Others                                  5\n",
       "CNG (Particulate Filter)                3\n",
       "Super Plus E10 98                       2\n",
       "Others (Particulate Filter)             1\n",
       "Biogas                                  1\n",
       "Domestic gas H                          1\n",
       "Name: Fuel, dtype: int64"
      ]
     },
     "execution_count": 147,
     "metadata": {},
     "output_type": "execute_result"
    }
   ],
   "source": [
    "df[\"Fuel\"].value_counts(dropna=False)"
   ]
  },
  {
   "cell_type": "code",
   "execution_count": 148,
   "metadata": {},
   "outputs": [],
   "source": [
    "df[\"Fuel\"] = df.Fuel.str.split(\"(\").str[0].str.strip()"
   ]
  },
  {
   "cell_type": "code",
   "execution_count": 149,
   "metadata": {},
   "outputs": [
    {
     "data": {
      "text/plain": [
       "Diesel                  7299\n",
       "Super 95                4368\n",
       "Gasoline                3252\n",
       "Regular                  503\n",
       "Super E10 95             409\n",
       "CNG                       36\n",
       "LPG                       16\n",
       "Super Plus 98             11\n",
       "Liquid petroleum gas      10\n",
       "Others                     6\n",
       "Electric                   5\n",
       "Super Plus E10 98          2\n",
       "Biogas                     1\n",
       "Domestic gas H             1\n",
       "Name: Fuel, dtype: int64"
      ]
     },
     "execution_count": 149,
     "metadata": {},
     "output_type": "execute_result"
    }
   ],
   "source": [
    "df[\"Fuel\"].value_counts(dropna=False)"
   ]
  },
  {
   "cell_type": "code",
   "execution_count": 150,
   "metadata": {},
   "outputs": [],
   "source": [
    "benzine = [\"Gasoline\", \"Super 95\", \"Regular\", \"Super E10 95\", \"Super Plus 98\", \"Super Plus E10 98\", \"Others\"]\n",
    "lpg = [\"LPG\", \"Liquid petroleum gas\", \"CNG\", \"Biogas\", \"Domestic gas H\"]\n",
    "\n",
    "def fueltype(x):\n",
    "    if x in benzine:\n",
    "        return \"Benzine\"\n",
    "    elif x in lpg:\n",
    "        return \"LPG/CNG\"\n",
    "    else:\n",
    "        return x\n",
    "\n",
    "df[\"Fuel\"] = df.Fuel.apply(fueltype)"
   ]
  },
  {
   "cell_type": "code",
   "execution_count": 151,
   "metadata": {},
   "outputs": [
    {
     "data": {
      "text/plain": [
       "Benzine     8551\n",
       "Diesel      7299\n",
       "LPG/CNG       64\n",
       "Electric       5\n",
       "Name: Fuel, dtype: int64"
      ]
     },
     "execution_count": 151,
     "metadata": {},
     "output_type": "execute_result"
    }
   ],
   "source": [
    "df.Fuel.value_counts(dropna=False)"
   ]
  },
  {
   "cell_type": "code",
   "execution_count": 152,
   "metadata": {},
   "outputs": [
    {
     "data": {
      "text/html": [
       "<div>\n",
       "<style scoped>\n",
       "    .dataframe tbody tr th:only-of-type {\n",
       "        vertical-align: middle;\n",
       "    }\n",
       "\n",
       "    .dataframe tbody tr th {\n",
       "        vertical-align: top;\n",
       "    }\n",
       "\n",
       "    .dataframe thead th {\n",
       "        text-align: right;\n",
       "    }\n",
       "</style>\n",
       "<table border=\"1\" class=\"dataframe\">\n",
       "  <thead>\n",
       "    <tr style=\"text-align: right;\">\n",
       "      <th></th>\n",
       "      <th>make_model</th>\n",
       "      <th>body_type</th>\n",
       "      <th>CO2 Emission</th>\n",
       "      <th>Gears</th>\n",
       "      <th>hp_kW</th>\n",
       "      <th>Consumption</th>\n",
       "      <th>price</th>\n",
       "    </tr>\n",
       "  </thead>\n",
       "  <tbody>\n",
       "    <tr>\n",
       "      <th>3356</th>\n",
       "      <td>Audi A3</td>\n",
       "      <td>Compact</td>\n",
       "      <td>NaN</td>\n",
       "      <td>[\\n6\\n]</td>\n",
       "      <td>150.000</td>\n",
       "      <td>NaN</td>\n",
       "      <td>24950</td>\n",
       "    </tr>\n",
       "    <tr>\n",
       "      <th>3612</th>\n",
       "      <td>Audi A3</td>\n",
       "      <td>Sedans</td>\n",
       "      <td>[\\n36 g CO2/km (comb)\\n]</td>\n",
       "      <td>[\\n6\\n]</td>\n",
       "      <td>110.000</td>\n",
       "      <td>[\\n, 1.6 l/100 km (comb), \\n, \\n, \\n]</td>\n",
       "      <td>38450</td>\n",
       "    </tr>\n",
       "    <tr>\n",
       "      <th>3615</th>\n",
       "      <td>Audi A3</td>\n",
       "      <td>Sedans</td>\n",
       "      <td>[\\n36 g CO2/km (comb)\\n]</td>\n",
       "      <td>[\\n6\\n]</td>\n",
       "      <td>110.000</td>\n",
       "      <td>[\\n, 1.6 l/100 km (comb), \\n, \\n, \\n]</td>\n",
       "      <td>35899</td>\n",
       "    </tr>\n",
       "    <tr>\n",
       "      <th>3617</th>\n",
       "      <td>Audi A3</td>\n",
       "      <td>Sedans</td>\n",
       "      <td>[\\n36 g CO2/km (comb)\\n]</td>\n",
       "      <td>[\\n6\\n]</td>\n",
       "      <td>110.000</td>\n",
       "      <td>[\\n, 1.6 l/100 km (comb), \\n, \\n, \\n]</td>\n",
       "      <td>38000</td>\n",
       "    </tr>\n",
       "    <tr>\n",
       "      <th>13397</th>\n",
       "      <td>Renault Clio</td>\n",
       "      <td>Sedans</td>\n",
       "      <td>[[], [], []]</td>\n",
       "      <td>NaN</td>\n",
       "      <td>NaN</td>\n",
       "      <td>NaN</td>\n",
       "      <td>8490</td>\n",
       "    </tr>\n",
       "  </tbody>\n",
       "</table>\n",
       "</div>"
      ],
      "text/plain": [
       "         make_model body_type              CO2 Emission    Gears   hp_kW  \\\n",
       "3356        Audi A3   Compact                       NaN  [\\n6\\n] 150.000   \n",
       "3612        Audi A3    Sedans  [\\n36 g CO2/km (comb)\\n]  [\\n6\\n] 110.000   \n",
       "3615        Audi A3    Sedans  [\\n36 g CO2/km (comb)\\n]  [\\n6\\n] 110.000   \n",
       "3617        Audi A3    Sedans  [\\n36 g CO2/km (comb)\\n]  [\\n6\\n] 110.000   \n",
       "13397  Renault Clio    Sedans              [[], [], []]      NaN     NaN   \n",
       "\n",
       "                                 Consumption  price  \n",
       "3356                                     NaN  24950  \n",
       "3612   [\\n, 1.6 l/100 km (comb), \\n, \\n, \\n]  38450  \n",
       "3615   [\\n, 1.6 l/100 km (comb), \\n, \\n, \\n]  35899  \n",
       "3617   [\\n, 1.6 l/100 km (comb), \\n, \\n, \\n]  38000  \n",
       "13397                                    NaN   8490  "
      ]
     },
     "execution_count": 152,
     "metadata": {},
     "output_type": "execute_result"
    }
   ],
   "source": [
    "df[df.Fuel == \"Electric\"][[\"make_model\", \"body_type\", \"CO2 Emission\", \"Gears\", \"hp_kW\", \"Consumption\", \"price\"]]"
   ]
  },
  {
   "cell_type": "markdown",
   "metadata": {},
   "source": [
    "## Consumption"
   ]
  },
  {
   "cell_type": "code",
   "execution_count": 153,
   "metadata": {},
   "outputs": [
    {
     "data": {
      "text/plain": [
       "nan                                                                                                 1906\n",
       "[['3.9 l/100 km (comb)'], ['4.1 l/100 km (city)'], ['3.7 l/100 km (country)']]                       304\n",
       "[['4.2 l/100 km (comb)'], ['5 l/100 km (city)'], ['3.7 l/100 km (country)']]                         276\n",
       "[['5.4 l/100 km (comb)'], ['6.8 l/100 km (city)'], ['4.5 l/100 km (country)']]                       257\n",
       "[['3.8 l/100 km (comb)'], ['4.3 l/100 km (city)'], ['3.5 l/100 km (country)']]                       253\n",
       "                                                                                                    ... \n",
       "[['4.2 l/100 km (comb)'], ['5.3 l/100 km (city)'], ['3.6 l/100 km (country)']]                         1\n",
       "['\\n', '5.1 l/100 km (comb)', '\\n', '6.4 l/100 km (city)', '\\n', '4.3 l/100 km (country)', '\\n']       1\n",
       "[['4.6 l/100 km (comb)'], ['5.4 l/100 km (city)'], ['6.7 l/100 km (country)']]                         1\n",
       "['\\n', '6.3 l/100 km (comb)', '\\n', '\\n', '\\n']                                                        1\n",
       "['\\n', '7.4 l/100 km (comb)', '\\n', '9.6 l/100 km (city)', '\\n', '6 l/100 km (country)', '\\n']         1\n",
       "Name: Consumption, Length: 882, dtype: int64"
      ]
     },
     "execution_count": 153,
     "metadata": {},
     "output_type": "execute_result"
    }
   ],
   "source": [
    "df[\"Consumption\"].astype('str').value_counts(dropna=False)"
   ]
  },
  {
   "cell_type": "code",
   "execution_count": 154,
   "metadata": {},
   "outputs": [],
   "source": [
    "def cons_comb(x):\n",
    "    \n",
    "    if type(x)==list and len(x)==3:\n",
    "        if x[0] != []: return x[0][0]\n",
    "        else: return None\n",
    "        \n",
    "    if type(x)==list and len(x)==5:\n",
    "        return x[1]\n",
    "    \n",
    "    if type(x)==list and len(x)==7:\n",
    "        return x[1]\n",
    "    \n",
    "    else:\n",
    "        return None"
   ]
  },
  {
   "cell_type": "code",
   "execution_count": 155,
   "metadata": {},
   "outputs": [],
   "source": [
    "def cons_city(x):\n",
    "    \n",
    "    if type(x)==list and len(x)==3:\n",
    "        if x[1] != []: return x[1][0]\n",
    "        else: return None\n",
    "        \n",
    "    if type(x)==list and len(x)==5:\n",
    "        return None\n",
    "    \n",
    "    if type(x)==list and len(x)==7:\n",
    "        return x[3]\n",
    "    \n",
    "    else:\n",
    "        return None"
   ]
  },
  {
   "cell_type": "code",
   "execution_count": 156,
   "metadata": {},
   "outputs": [],
   "source": [
    "def cons_country(x):\n",
    "    \n",
    "    if type(x)==list and len(x)==3:\n",
    "        if x[2] != []: return x[2][0]\n",
    "        else: return None\n",
    "        \n",
    "    if type(x)==list and len(x)==5:\n",
    "        return None\n",
    "    \n",
    "    if type(x)==list and len(x)==7:\n",
    "        return x[5]\n",
    "    \n",
    "    else:\n",
    "        return None"
   ]
  },
  {
   "cell_type": "code",
   "execution_count": 157,
   "metadata": {},
   "outputs": [],
   "source": [
    "df['cons_comb'] = df.Consumption.apply(cons_comb).str.extract('(\\d{1,2}.\\d|\\d{1,3})').astype(\"float\") # str.extract('(\\S+)')\n",
    "df['cons_city'] = df.Consumption.apply(cons_city).str.extract('(\\d{1,2}.\\d|\\d{1,3})').astype(\"float\")\n",
    "df['cons_country'] = df.Consumption.apply(cons_country).str.extract('(\\d{1,2}.\\d|\\d{1,3})').astype(\"float\")"
   ]
  },
  {
   "cell_type": "code",
   "execution_count": 158,
   "metadata": {},
   "outputs": [
    {
     "data": {
      "text/plain": [
       "NaN      2033\n",
       "5.400     770\n",
       "3.900     733\n",
       "4.000     713\n",
       "5.100     657\n",
       "Name: cons_comb, dtype: int64"
      ]
     },
     "execution_count": 158,
     "metadata": {},
     "output_type": "execute_result"
    }
   ],
   "source": [
    "df[\"cons_comb\"].value_counts(dropna=False).head()"
   ]
  },
  {
   "cell_type": "code",
   "execution_count": 159,
   "metadata": {},
   "outputs": [
    {
     "data": {
      "text/plain": [
       "NaN      2436\n",
       "5.000     669\n",
       "5.800     633\n",
       "4.500     580\n",
       "4.300     533\n",
       "Name: cons_city, dtype: int64"
      ]
     },
     "execution_count": 159,
     "metadata": {},
     "output_type": "execute_result"
    }
   ],
   "source": [
    "df[\"cons_city\"].value_counts(dropna=False).head()"
   ]
  },
  {
   "cell_type": "code",
   "execution_count": 160,
   "metadata": {},
   "outputs": [
    {
     "data": {
      "text/plain": [
       "NaN      2376\n",
       "4.200    1178\n",
       "3.700    1089\n",
       "4.400     898\n",
       "4.500     848\n",
       "Name: cons_country, dtype: int64"
      ]
     },
     "execution_count": 160,
     "metadata": {},
     "output_type": "execute_result"
    }
   ],
   "source": [
    "df[\"cons_country\"].value_counts(dropna=False).head()"
   ]
  },
  {
   "cell_type": "code",
   "execution_count": 161,
   "metadata": {},
   "outputs": [],
   "source": [
    "df.drop('Consumption', axis=1,inplace=True)"
   ]
  },
  {
   "cell_type": "markdown",
   "metadata": {},
   "source": [
    "## CO2 Emission"
   ]
  },
  {
   "cell_type": "code",
   "execution_count": 162,
   "metadata": {},
   "outputs": [
    {
     "data": {
      "text/plain": [
       "nan                               1808\n",
       "['\\n120 g CO2/km (comb)\\n']        740\n",
       "[[], [], []]                       628\n",
       "['\\n99 g CO2/km (comb)\\n']         545\n",
       "['\\n97 g CO2/km (comb)\\n']         537\n",
       "['\\n104 g CO2/km (comb)\\n']        501\n",
       "['\\n102 g CO2/km (comb)\\n']        477\n",
       "['\\n103 g CO2/km (comb)\\n']        445\n",
       "['\\n114 g CO2/km (comb)\\n']        382\n",
       "['\\n124 g CO2/km (comb)\\n']        372\n",
       "['\\n107 g CO2/km (comb)\\n']        362\n",
       "['\\n108 g CO2/km (comb)\\n']        362\n",
       "['\\n119 g CO2/km (comb)\\n']        361\n",
       "['\\n106 g CO2/km (comb)\\n']        349\n",
       "['\\n128 g CO2/km (comb)\\n']        329\n",
       "['\\n126 g CO2/km (comb)\\n']        282\n",
       "['\\n85 g CO2/km (comb)\\n']         275\n",
       "['\\n118 g CO2/km (comb)\\n']        270\n",
       "['\\n110 g CO2/km (comb)\\n']        266\n",
       "['\\n127 g CO2/km (comb)\\n']        257\n",
       "['\\n117 g CO2/km (comb)\\n']        254\n",
       "['\\n111 g CO2/km (comb)\\n']        237\n",
       "['\\n113 g CO2/km (comb)\\n']        235\n",
       "['\\n109 g CO2/km (comb)\\n']        234\n",
       "['\\n139 g CO2/km (comb)\\n']        224\n",
       "['\\n140 g CO2/km (comb)\\n']        218\n",
       "['\\n129 g CO2/km (comb)\\n']        213\n",
       "['\\n105 g CO2/km (comb)\\n']        202\n",
       "['\\n135 g CO2/km (comb)\\n']        202\n",
       "['\\n92 g CO2/km (comb)\\n']         198\n",
       "['\\n130 g CO2/km (comb)\\n']        180\n",
       "['\\n123 g CO2/km (comb)\\n']        178\n",
       "['\\n150 g CO2/km (comb)\\n']        174\n",
       "['\\n112 g CO2/km (comb)\\n']        171\n",
       "['\\n143 g CO2/km (comb)\\n']        171\n",
       "['\\n95 g CO2/km (comb)\\n']         161\n",
       "['\\n116 g CO2/km (comb)\\n']        157\n",
       "['\\n141 g CO2/km (comb)\\n']        156\n",
       "['\\n98 g CO2/km (comb)\\n']         151\n",
       "['\\n133 g CO2/km (comb)\\n']        145\n",
       "['\\n136 g CO2/km (comb)\\n']        145\n",
       "['\\n137 g CO2/km (comb)\\n']        133\n",
       "['\\n125 g CO2/km (comb)\\n']        132\n",
       "['\\n134 g CO2/km (comb)\\n']        130\n",
       "['\\n145 g CO2/km (comb)\\n']        126\n",
       "['\\n149 g CO2/km (comb)\\n']        117\n",
       "['\\n153 g CO2/km (comb)\\n']        113\n",
       "['\\n147 g CO2/km (comb)\\n']        109\n",
       "['\\n101 g CO2/km (comb)\\n']        105\n",
       "['\\n132 g CO2/km (comb)\\n']        100\n",
       "['\\n115 g CO2/km (comb)\\n']         86\n",
       "['\\n122 g CO2/km (comb)\\n']         83\n",
       "['\\n121 g CO2/km (comb)\\n']         82\n",
       "['\\n138 g CO2/km (comb)\\n']         75\n",
       "['\\n93 g CO2/km (comb)\\n']          66\n",
       "['\\n168 g CO2/km (comb)\\n']         58\n",
       "['\\n142 g CO2/km (comb)\\n']         58\n",
       "['\\n148 g CO2/km (comb)\\n']         48\n",
       "['\\n131 g CO2/km (comb)\\n']         48\n",
       "['\\n154 g CO2/km (comb)\\n']         40\n",
       "['\\n144 g CO2/km (comb)\\n']         40\n",
       "['\\n94 g CO2/km (comb)\\n']          37\n",
       "['\\n146 g CO2/km (comb)\\n']         36\n",
       "['\\n100 g CO2/km (comb)\\n']         36\n",
       "['\\n90 g CO2/km (comb)\\n']          35\n",
       "['\\n151 g CO2/km (comb)\\n']         34\n",
       "['\\n91 g CO2/km (comb)\\n']          31\n",
       "['\\n186 g CO2/km (comb)\\n']         30\n",
       "['\\n152 g CO2/km (comb)\\n']         28\n",
       "['\\n187 g CO2/km (comb)\\n']         26\n",
       "['\\n172 g CO2/km (comb)\\n']         25\n",
       "['\\n82 g CO2/km (comb)\\n']          25\n",
       "['\\n96 g CO2/km (comb)\\n']          22\n",
       "['\\n189 g CO2/km (comb)\\n']         19\n",
       "['\\n89 g CO2/km (comb)\\n']          19\n",
       "['\\n157 g CO2/km (comb)\\n']         18\n",
       "['\\n158 g CO2/km (comb)\\n']         17\n",
       "['\\n88 g CO2/km (comb)\\n']          15\n",
       "['\\n169 g CO2/km (comb)\\n']         15\n",
       "['\\n156 g CO2/km (comb)\\n']         14\n",
       "['\\n164 g CO2/km (comb)\\n']         13\n",
       "['\\n161 g CO2/km (comb)\\n']         10\n",
       "['\\n170 g CO2/km (comb)\\n']         10\n",
       "['\\n166 g CO2/km (comb)\\n']          8\n",
       "['\\n175 g CO2/km (comb)\\n']          8\n",
       "['\\n155 g CO2/km (comb)\\n']          8\n",
       "['\\n188 g CO2/km (comb)\\n']          7\n",
       "['\\n159 g CO2/km (comb)\\n']          7\n",
       "['\\n174 g CO2/km (comb)\\n']          6\n",
       "['\\n87 g CO2/km (comb)\\n']           6\n",
       "['\\n197 g CO2/km (comb)\\n']          4\n",
       "['\\n194 g CO2/km (comb)\\n']          3\n",
       "['\\n5 g CO2/km (comb)\\n']            3\n",
       "['\\n36 g CO2/km (comb)\\n']           3\n",
       "['\\n12,087 g CO2/km (comb)\\n']       3\n",
       "['\\n84 g CO2/km (comb)\\n']           2\n",
       "['\\n191 g CO2/km (comb)\\n']          2\n",
       "['\\n167 g CO2/km (comb)\\n']          2\n",
       "['\\n0 g CO2/km (comb)\\n']            2\n",
       "['\\n199 g CO2/km (comb)\\n']          2\n",
       "['\\n162 g CO2/km (comb)\\n']          2\n",
       "['\\n177 g CO2/km (comb)\\n']          1\n",
       "['\\n181 g CO2/km (comb)\\n']          1\n",
       "['\\n331 g CO2/km (comb)\\n']          1\n",
       "['\\n45 g CO2/km (comb)\\n']           1\n",
       "['\\n180 g CO2/km (comb)\\n']          1\n",
       "['\\n171 g CO2/km (comb)\\n']          1\n",
       "['\\n183 g CO2/km (comb)\\n']          1\n",
       "['\\n1 g CO2/km (comb)\\n']            1\n",
       "['\\n13,983 g CO2/km (comb)\\n']       1\n",
       "['\\n184 g CO2/km (comb)\\n']          1\n",
       "['\\n14,457 g CO2/km (comb)\\n']       1\n",
       "['\\n12,324 g CO2/km (comb)\\n']       1\n",
       "['\\n239 g CO2/km (comb)\\n']          1\n",
       "['\\n160 g CO2/km (comb)\\n']          1\n",
       "['\\n190 g CO2/km (comb)\\n']          1\n",
       "['\\n80 g CO2/km (comb)\\n']           1\n",
       "['\\n990 g CO2/km (comb)\\n']          1\n",
       "['\\n253 g CO2/km (comb)\\n']          1\n",
       "['\\n14 g CO2/km (comb)\\n']           1\n",
       "['\\n1,060 g CO2/km (comb)\\n']        1\n",
       "['\\n51 g CO2/km (comb)\\n']           1\n",
       "['\\n165 g CO2/km (comb)\\n']          1\n",
       "['\\n193 g CO2/km (comb)\\n']          1\n",
       "Name: CO2 Emission, dtype: int64"
      ]
     },
     "execution_count": 162,
     "metadata": {},
     "output_type": "execute_result"
    }
   ],
   "source": [
    "df[\"CO2 Emission\"].astype('str').value_counts(dropna=False)"
   ]
  },
  {
   "cell_type": "code",
   "execution_count": 163,
   "metadata": {},
   "outputs": [],
   "source": [
    "df[\"CO2_Emission\"] = df['CO2 Emission'].str[0].str.strip().str.replace(',', '').str.extract('(\\d+)').astype('float')"
   ]
  },
  {
   "cell_type": "code",
   "execution_count": 164,
   "metadata": {},
   "outputs": [
    {
     "data": {
      "text/plain": [
       "NaN          2436\n",
       "120.000       740\n",
       "99.000        545\n",
       "97.000        537\n",
       "104.000       501\n",
       "102.000       477\n",
       "103.000       445\n",
       "114.000       382\n",
       "124.000       372\n",
       "107.000       362\n",
       "108.000       362\n",
       "119.000       361\n",
       "106.000       349\n",
       "128.000       329\n",
       "126.000       282\n",
       "85.000        275\n",
       "118.000       270\n",
       "110.000       266\n",
       "127.000       257\n",
       "117.000       254\n",
       "111.000       237\n",
       "113.000       235\n",
       "109.000       234\n",
       "139.000       224\n",
       "140.000       218\n",
       "129.000       213\n",
       "105.000       202\n",
       "135.000       202\n",
       "92.000        198\n",
       "130.000       180\n",
       "123.000       178\n",
       "150.000       174\n",
       "112.000       171\n",
       "143.000       171\n",
       "95.000        161\n",
       "116.000       157\n",
       "141.000       156\n",
       "98.000        151\n",
       "133.000       145\n",
       "136.000       145\n",
       "137.000       133\n",
       "125.000       132\n",
       "134.000       130\n",
       "145.000       126\n",
       "149.000       117\n",
       "153.000       113\n",
       "147.000       109\n",
       "101.000       105\n",
       "132.000       100\n",
       "115.000        86\n",
       "122.000        83\n",
       "121.000        82\n",
       "138.000        75\n",
       "93.000         66\n",
       "168.000        58\n",
       "142.000        58\n",
       "148.000        48\n",
       "131.000        48\n",
       "154.000        40\n",
       "144.000        40\n",
       "94.000         37\n",
       "146.000        36\n",
       "100.000        36\n",
       "90.000         35\n",
       "151.000        34\n",
       "91.000         31\n",
       "186.000        30\n",
       "152.000        28\n",
       "187.000        26\n",
       "172.000        25\n",
       "82.000         25\n",
       "96.000         22\n",
       "189.000        19\n",
       "89.000         19\n",
       "157.000        18\n",
       "158.000        17\n",
       "88.000         15\n",
       "169.000        15\n",
       "156.000        14\n",
       "164.000        13\n",
       "161.000        10\n",
       "170.000        10\n",
       "166.000         8\n",
       "175.000         8\n",
       "155.000         8\n",
       "188.000         7\n",
       "159.000         7\n",
       "174.000         6\n",
       "87.000          6\n",
       "197.000         4\n",
       "194.000         3\n",
       "5.000           3\n",
       "36.000          3\n",
       "12087.000       3\n",
       "84.000          2\n",
       "191.000         2\n",
       "167.000         2\n",
       "0.000           2\n",
       "199.000         2\n",
       "162.000         2\n",
       "177.000         1\n",
       "181.000         1\n",
       "331.000         1\n",
       "45.000          1\n",
       "180.000         1\n",
       "171.000         1\n",
       "183.000         1\n",
       "1.000           1\n",
       "13983.000       1\n",
       "184.000         1\n",
       "14457.000       1\n",
       "12324.000       1\n",
       "239.000         1\n",
       "160.000         1\n",
       "190.000         1\n",
       "80.000          1\n",
       "990.000         1\n",
       "253.000         1\n",
       "14.000          1\n",
       "1060.000        1\n",
       "51.000          1\n",
       "165.000         1\n",
       "193.000         1\n",
       "Name: CO2_Emission, dtype: int64"
      ]
     },
     "execution_count": 164,
     "metadata": {},
     "output_type": "execute_result"
    }
   ],
   "source": [
    "df[\"CO2_Emission\"].value_counts(dropna=False)"
   ]
  },
  {
   "cell_type": "code",
   "execution_count": 165,
   "metadata": {},
   "outputs": [],
   "source": [
    "df.drop(\"CO2 Emission\", axis=1, inplace=True)"
   ]
  },
  {
   "cell_type": "markdown",
   "metadata": {},
   "source": [
    "## Emission Class"
   ]
  },
  {
   "cell_type": "code",
   "execution_count": 166,
   "metadata": {},
   "outputs": [
    {
     "data": {
      "text/plain": [
       "['\\nEuro 6\\n']          10139\n",
       "nan                      3021\n",
       "['\\nEuro 6d-TEMP\\n']     1845\n",
       "[[], [], []]              607\n",
       "['\\nEuro 6c\\n']           127\n",
       "['\\nEuro 5\\n']             78\n",
       "['\\nEuro 6d\\n']            62\n",
       "['\\nEuro 4\\n']             40\n",
       "Name: Emission Class, dtype: int64"
      ]
     },
     "execution_count": 166,
     "metadata": {},
     "output_type": "execute_result"
    }
   ],
   "source": [
    "df[\"Emission Class\"].astype('str').value_counts(dropna=False)"
   ]
  },
  {
   "cell_type": "code",
   "execution_count": 167,
   "metadata": {},
   "outputs": [],
   "source": [
    "df[\"Emission_Class\"] = [item[0] if type(item) == list else item for item in df[\"Emission Class\"]]\n",
    "df[\"Emission_Class\"] = df[\"Emission_Class\"].str.strip(\"\\n\")"
   ]
  },
  {
   "cell_type": "code",
   "execution_count": 168,
   "metadata": {},
   "outputs": [
    {
     "data": {
      "text/plain": [
       "Euro 6          10139\n",
       "NaN              3628\n",
       "Euro 6d-TEMP     1845\n",
       "Euro 6c           127\n",
       "Euro 5             78\n",
       "Euro 6d            62\n",
       "Euro 4             40\n",
       "Name: Emission_Class, dtype: int64"
      ]
     },
     "execution_count": 168,
     "metadata": {},
     "output_type": "execute_result"
    }
   ],
   "source": [
    "df[\"Emission_Class\"].value_counts(dropna=False)"
   ]
  },
  {
   "cell_type": "code",
   "execution_count": 169,
   "metadata": {},
   "outputs": [],
   "source": [
    "df.replace({\"Emission_Class\" : {\"Euro 6d-TEMP\": \"Euro 6\", \"Euro 6c\": \"Euro 6\", \"Euro 6d\": \"Euro 6\"}}, regex=True, inplace=True)"
   ]
  },
  {
   "cell_type": "code",
   "execution_count": 170,
   "metadata": {},
   "outputs": [
    {
     "data": {
      "text/plain": [
       "Euro 6    12173\n",
       "NaN        3628\n",
       "Euro 5       78\n",
       "Euro 4       40\n",
       "Name: Emission_Class, dtype: int64"
      ]
     },
     "execution_count": 170,
     "metadata": {},
     "output_type": "execute_result"
    }
   ],
   "source": [
    "df[\"Emission_Class\"].value_counts(dropna=False)"
   ]
  },
  {
   "cell_type": "code",
   "execution_count": 171,
   "metadata": {},
   "outputs": [],
   "source": [
    "df.drop(\"Emission Class\", axis=1, inplace=True)"
   ]
  },
  {
   "cell_type": "markdown",
   "metadata": {},
   "source": [
    "## Emission Label"
   ]
  },
  {
   "cell_type": "code",
   "execution_count": 172,
   "metadata": {},
   "outputs": [
    {
     "data": {
      "text/plain": [
       "nan                       11934\n",
       "['\\n4 (Green)\\n']          3553\n",
       "['\\n1 (No sticker)\\n']      381\n",
       "[[], [], []]                 40\n",
       "['\\n5 (Blue)\\n']              8\n",
       "['\\n3 (Yellow)\\n']            2\n",
       "['\\n2 (Red)\\n']               1\n",
       "Name: Emission Label, dtype: int64"
      ]
     },
     "execution_count": 172,
     "metadata": {},
     "output_type": "execute_result"
    }
   ],
   "source": [
    "df[\"Emission Label\"].astype('str').value_counts(dropna=False)"
   ]
  },
  {
   "cell_type": "code",
   "execution_count": 173,
   "metadata": {},
   "outputs": [],
   "source": [
    "df.drop(\"Emission Label\", axis=1, inplace=True)"
   ]
  },
  {
   "cell_type": "markdown",
   "metadata": {},
   "source": [
    "## Gears"
   ]
  },
  {
   "cell_type": "code",
   "execution_count": 174,
   "metadata": {},
   "outputs": [
    {
     "data": {
      "text/plain": [
       "['\\n6\\n']     5822\n",
       "nan           4712\n",
       "['\\n5\\n']     3239\n",
       "['\\n7\\n']     1908\n",
       "['\\n8\\n']      224\n",
       "['\\n9\\n']        6\n",
       "['\\n1\\n']        2\n",
       "['\\n3\\n']        2\n",
       "['\\n4\\n']        2\n",
       "['\\n2\\n']        1\n",
       "['\\n50\\n']       1\n",
       "Name: Gears, dtype: int64"
      ]
     },
     "execution_count": 174,
     "metadata": {},
     "output_type": "execute_result"
    }
   ],
   "source": [
    "df[\"Gears\"].astype('str').value_counts(dropna=False)"
   ]
  },
  {
   "cell_type": "code",
   "execution_count": 175,
   "metadata": {},
   "outputs": [],
   "source": [
    "df[\"Gears\"] = df.Gears.str[0].str.strip('\\n')"
   ]
  },
  {
   "cell_type": "code",
   "execution_count": 176,
   "metadata": {},
   "outputs": [
    {
     "data": {
      "text/plain": [
       "6      5822\n",
       "NaN    4712\n",
       "5      3239\n",
       "7      1908\n",
       "8       224\n",
       "9         6\n",
       "1         2\n",
       "3         2\n",
       "4         2\n",
       "2         1\n",
       "50        1\n",
       "Name: Gears, dtype: int64"
      ]
     },
     "execution_count": 176,
     "metadata": {},
     "output_type": "execute_result"
    }
   ],
   "source": [
    "df[\"Gears\"].value_counts(dropna=False)"
   ]
  },
  {
   "cell_type": "markdown",
   "metadata": {},
   "source": [
    "## Country version"
   ]
  },
  {
   "cell_type": "code",
   "execution_count": 177,
   "metadata": {},
   "outputs": [
    {
     "data": {
      "text/plain": [
       "nan                       8333\n",
       "['\\nGermany\\n']           4502\n",
       "['\\nItaly\\n']             1038\n",
       "['\\nEuropean Union\\n']     507\n",
       "['\\nNetherlands\\n']        464\n",
       "['\\nSpain\\n']              325\n",
       "['\\nBelgium\\n']            314\n",
       "['\\nAustria\\n']            208\n",
       "['\\nCzech Republic\\n']      52\n",
       "['\\nPoland\\n']              49\n",
       "['\\nFrance\\n']              38\n",
       "['\\nDenmark\\n']             33\n",
       "['\\nHungary\\n']             28\n",
       "['\\nJapan\\n']                8\n",
       "['\\nSlovakia\\n']             4\n",
       "['\\nCroatia\\n']              4\n",
       "['\\nSweden\\n']               3\n",
       "['\\nRomania\\n']              2\n",
       "['\\nBulgaria\\n']             2\n",
       "['\\nLuxembourg\\n']           1\n",
       "['\\nSwitzerland\\n']          1\n",
       "['\\nSlovenia\\n']             1\n",
       "['\\nEgypt\\n']                1\n",
       "['\\nSerbia\\n']               1\n",
       "Name: Country version, dtype: int64"
      ]
     },
     "execution_count": 177,
     "metadata": {},
     "output_type": "execute_result"
    }
   ],
   "source": [
    "df[\"Country version\"].astype('str').value_counts(dropna=False)"
   ]
  },
  {
   "cell_type": "code",
   "execution_count": 178,
   "metadata": {},
   "outputs": [],
   "source": [
    "df.drop(\"Country version\", axis=1, inplace=True)"
   ]
  },
  {
   "cell_type": "markdown",
   "metadata": {},
   "source": [
    "## Comfort & Convenience"
   ]
  },
  {
   "cell_type": "code",
   "execution_count": 179,
   "metadata": {},
   "outputs": [
    {
     "data": {
      "text/plain": [
       "nan                                                                                                                                                                                                                                                                                                                                                                                                       920\n",
       "['Air conditioning', 'Electrical side mirrors', 'Hill Holder', 'Power windows']                                                                                                                                                                                                                                                                                                                           216\n",
       "['Air conditioning', 'Electrical side mirrors', 'Power windows']                                                                                                                                                                                                                                                                                                                                          134\n",
       "['Air conditioning', 'Power windows']                                                                                                                                                                                                                                                                                                                                                                     130\n",
       "['Air conditioning', 'Armrest', 'Automatic climate control', 'Cruise control', 'Electrical side mirrors', 'Leather steering wheel', 'Light sensor', 'Lumbar support', 'Multi-function steering wheel', 'Navigation system', 'Park Distance Control', 'Parking assist system sensors front', 'Parking assist system sensors rear', 'Power windows', 'Rain sensor', 'Seat heating', 'Start-stop system']    105\n",
       "Name: Comfort & Convenience, dtype: int64"
      ]
     },
     "execution_count": 179,
     "metadata": {},
     "output_type": "execute_result"
    }
   ],
   "source": [
    "df[\"Comfort & Convenience\"].astype('str').value_counts(dropna=False).head()"
   ]
  },
  {
   "cell_type": "code",
   "execution_count": 180,
   "metadata": {},
   "outputs": [],
   "source": [
    "df[\"Comfort & Convenience\"] = [\",\".join(item) if type(item) == list else item for item in df[\"Comfort & Convenience\"]]"
   ]
  },
  {
   "cell_type": "code",
   "execution_count": 181,
   "metadata": {},
   "outputs": [
    {
     "data": {
      "text/plain": [
       "NaN                                                                                                                                                                                                                                                                                                                                                   920\n",
       "Air conditioning,Electrical side mirrors,Hill Holder,Power windows                                                                                                                                                                                                                                                                                    216\n",
       "Air conditioning,Electrical side mirrors,Power windows                                                                                                                                                                                                                                                                                                134\n",
       "Air conditioning,Power windows                                                                                                                                                                                                                                                                                                                        130\n",
       "Air conditioning,Armrest,Automatic climate control,Cruise control,Electrical side mirrors,Leather steering wheel,Light sensor,Lumbar support,Multi-function steering wheel,Navigation system,Park Distance Control,Parking assist system sensors front,Parking assist system sensors rear,Power windows,Rain sensor,Seat heating,Start-stop system    105\n",
       "Name: Comfort & Convenience, dtype: int64"
      ]
     },
     "execution_count": 181,
     "metadata": {},
     "output_type": "execute_result"
    }
   ],
   "source": [
    "df[\"Comfort & Convenience\"].value_counts(dropna=False).head()"
   ]
  },
  {
   "cell_type": "markdown",
   "metadata": {},
   "source": [
    "## Entertainment & Media"
   ]
  },
  {
   "cell_type": "code",
   "execution_count": 182,
   "metadata": {},
   "outputs": [
    {
     "data": {
      "text/plain": [
       "nan                                                                                               1374\n",
       "['Bluetooth', 'Hands-free equipment', 'On-board computer', 'Radio', 'USB']                        1282\n",
       "['Bluetooth', 'Hands-free equipment', 'MP3', 'On-board computer', 'Radio', 'USB']                  982\n",
       "['Bluetooth', 'CD player', 'Hands-free equipment', 'MP3', 'On-board computer', 'Radio', 'USB']     783\n",
       "['On-board computer', 'Radio']                                                                     487\n",
       "Name: Entertainment & Media, dtype: int64"
      ]
     },
     "execution_count": 182,
     "metadata": {},
     "output_type": "execute_result"
    }
   ],
   "source": [
    "df[\"Entertainment & Media\"].astype('str').value_counts(dropna=False).head()"
   ]
  },
  {
   "cell_type": "code",
   "execution_count": 183,
   "metadata": {},
   "outputs": [],
   "source": [
    "df[\"Entertainment & Media\"] = [\",\".join(item) if type(item) == list else item for item in df[\"Entertainment & Media\"]]"
   ]
  },
  {
   "cell_type": "code",
   "execution_count": 184,
   "metadata": {},
   "outputs": [
    {
     "data": {
      "text/plain": [
       "NaN                                                                         1374\n",
       "Bluetooth,Hands-free equipment,On-board computer,Radio,USB                  1282\n",
       "Bluetooth,Hands-free equipment,MP3,On-board computer,Radio,USB               982\n",
       "Bluetooth,CD player,Hands-free equipment,MP3,On-board computer,Radio,USB     783\n",
       "On-board computer,Radio                                                      487\n",
       "Name: Entertainment & Media, dtype: int64"
      ]
     },
     "execution_count": 184,
     "metadata": {},
     "output_type": "execute_result"
    }
   ],
   "source": [
    "df[\"Entertainment & Media\"].value_counts(dropna=False).head()"
   ]
  },
  {
   "cell_type": "markdown",
   "metadata": {},
   "source": [
    "## Extras"
   ]
  },
  {
   "cell_type": "code",
   "execution_count": 185,
   "metadata": {},
   "outputs": [
    {
     "data": {
      "text/plain": [
       "['Alloy wheels']                                     3245\n",
       "nan                                                  2962\n",
       "['Alloy wheels', 'Touch screen']                      697\n",
       "['Alloy wheels', 'Voice Control']                     577\n",
       "['Alloy wheels', 'Touch screen', 'Voice Control']     541\n",
       "Name: Extras, dtype: int64"
      ]
     },
     "execution_count": 185,
     "metadata": {},
     "output_type": "execute_result"
    }
   ],
   "source": [
    "df[\"Extras\"].astype('str').value_counts(dropna=False).head()"
   ]
  },
  {
   "cell_type": "code",
   "execution_count": 186,
   "metadata": {},
   "outputs": [],
   "source": [
    "df[\"Extras\"] = [\",\".join(item) if type(item) == list else item for item in df[\"Extras\"]]"
   ]
  },
  {
   "cell_type": "code",
   "execution_count": 187,
   "metadata": {},
   "outputs": [
    {
     "data": {
      "text/plain": [
       "Alloy wheels                               3245\n",
       "NaN                                        2962\n",
       "Alloy wheels,Touch screen                   697\n",
       "Alloy wheels,Voice Control                  577\n",
       "Alloy wheels,Touch screen,Voice Control     541\n",
       "Name: Extras, dtype: int64"
      ]
     },
     "execution_count": 187,
     "metadata": {},
     "output_type": "execute_result"
    }
   ],
   "source": [
    "df[\"Extras\"].value_counts(dropna=False).head()"
   ]
  },
  {
   "cell_type": "markdown",
   "metadata": {},
   "source": [
    "## Safety & Security "
   ]
  },
  {
   "cell_type": "code",
   "execution_count": 188,
   "metadata": {},
   "outputs": [
    {
     "data": {
      "text/plain": [
       "nan                                                                                                                                                                                                                                                                                                   982\n",
       "['ABS', 'Central door lock', 'Daytime running lights', 'Driver-side airbag', 'Electronic stability control', 'Fog lights', 'Immobilizer', 'Isofix', 'Passenger-side airbag', 'Power steering', 'Side airbag', 'Tire pressure monitoring system', 'Traction control']                                  538\n",
       "['ABS', 'Central door lock', 'Daytime running lights', 'Driver-side airbag', 'Electronic stability control', 'Immobilizer', 'Isofix', 'Passenger-side airbag', 'Power steering', 'Side airbag', 'Tire pressure monitoring system', 'Traction control']                                                480\n",
       "['ABS', 'Central door lock', 'Daytime running lights', 'Driver-side airbag', 'Electronic stability control', 'Immobilizer', 'Isofix', 'Passenger-side airbag', 'Power steering', 'Side airbag', 'Tire pressure monitoring system', 'Traction control', 'Xenon headlights']                            275\n",
       "['ABS', 'Central door lock', 'Daytime running lights', 'Driver-side airbag', 'Electronic stability control', 'Fog lights', 'Immobilizer', 'Isofix', 'LED Daytime Running Lights', 'Passenger-side airbag', 'Power steering', 'Side airbag', 'Tire pressure monitoring system', 'Traction control']    272\n",
       "Name: Safety & Security, dtype: int64"
      ]
     },
     "execution_count": 188,
     "metadata": {},
     "output_type": "execute_result"
    }
   ],
   "source": [
    "df[\"Safety & Security\"].astype('str').value_counts(dropna=False).head()"
   ]
  },
  {
   "cell_type": "code",
   "execution_count": 189,
   "metadata": {},
   "outputs": [],
   "source": [
    "df[\"Safety & Security\"] = [\",\".join(item) if type(item) == list else item for item in df[\"Safety & Security\"]]"
   ]
  },
  {
   "cell_type": "code",
   "execution_count": 190,
   "metadata": {},
   "outputs": [
    {
     "data": {
      "text/plain": [
       "NaN                                                                                                                                                                                                                                                        982\n",
       "ABS,Central door lock,Daytime running lights,Driver-side airbag,Electronic stability control,Fog lights,Immobilizer,Isofix,Passenger-side airbag,Power steering,Side airbag,Tire pressure monitoring system,Traction control                               538\n",
       "ABS,Central door lock,Daytime running lights,Driver-side airbag,Electronic stability control,Immobilizer,Isofix,Passenger-side airbag,Power steering,Side airbag,Tire pressure monitoring system,Traction control                                          480\n",
       "ABS,Central door lock,Daytime running lights,Driver-side airbag,Electronic stability control,Immobilizer,Isofix,Passenger-side airbag,Power steering,Side airbag,Tire pressure monitoring system,Traction control,Xenon headlights                         275\n",
       "ABS,Central door lock,Daytime running lights,Driver-side airbag,Electronic stability control,Fog lights,Immobilizer,Isofix,LED Daytime Running Lights,Passenger-side airbag,Power steering,Side airbag,Tire pressure monitoring system,Traction control    272\n",
       "Name: Safety & Security, dtype: int64"
      ]
     },
     "execution_count": 190,
     "metadata": {},
     "output_type": "execute_result"
    }
   ],
   "source": [
    "df[\"Safety & Security\"].value_counts(dropna=False).head()"
   ]
  },
  {
   "cell_type": "markdown",
   "metadata": {},
   "source": [
    "------------"
   ]
  },
  {
   "cell_type": "markdown",
   "metadata": {},
   "source": [
    "# Saving cleaned file in csv format\n"
   ]
  },
  {
   "cell_type": "code",
   "execution_count": 208,
   "metadata": {},
   "outputs": [
    {
     "data": {
      "text/plain": [
       "(15919, 35)"
      ]
     },
     "execution_count": 208,
     "metadata": {},
     "output_type": "execute_result"
    }
   ],
   "source": [
    "df.shape"
   ]
  },
  {
   "cell_type": "code",
   "execution_count": 202,
   "metadata": {},
   "outputs": [
    {
     "data": {
      "text/html": [
       "<div>\n",
       "<style scoped>\n",
       "    .dataframe tbody tr th:only-of-type {\n",
       "        vertical-align: middle;\n",
       "    }\n",
       "\n",
       "    .dataframe tbody tr th {\n",
       "        vertical-align: top;\n",
       "    }\n",
       "\n",
       "    .dataframe thead th {\n",
       "        text-align: right;\n",
       "    }\n",
       "</style>\n",
       "<table border=\"1\" class=\"dataframe\">\n",
       "  <thead>\n",
       "    <tr style=\"text-align: right;\">\n",
       "      <th></th>\n",
       "      <th>0</th>\n",
       "      <th>1</th>\n",
       "      <th>2</th>\n",
       "      <th>3</th>\n",
       "      <th>4</th>\n",
       "    </tr>\n",
       "  </thead>\n",
       "  <tbody>\n",
       "    <tr>\n",
       "      <th>make_model</th>\n",
       "      <td>Audi A1</td>\n",
       "      <td>Audi A1</td>\n",
       "      <td>Audi A1</td>\n",
       "      <td>Audi A1</td>\n",
       "      <td>Audi A1</td>\n",
       "    </tr>\n",
       "    <tr>\n",
       "      <th>body_type</th>\n",
       "      <td>Sedans</td>\n",
       "      <td>Sedans</td>\n",
       "      <td>Sedans</td>\n",
       "      <td>Sedans</td>\n",
       "      <td>Sedans</td>\n",
       "    </tr>\n",
       "    <tr>\n",
       "      <th>price</th>\n",
       "      <td>15770</td>\n",
       "      <td>14500</td>\n",
       "      <td>14640</td>\n",
       "      <td>14500</td>\n",
       "      <td>16790</td>\n",
       "    </tr>\n",
       "    <tr>\n",
       "      <th>vat</th>\n",
       "      <td>VAT deductible</td>\n",
       "      <td>Price negotiable</td>\n",
       "      <td>VAT deductible</td>\n",
       "      <td>None</td>\n",
       "      <td>None</td>\n",
       "    </tr>\n",
       "    <tr>\n",
       "      <th>km</th>\n",
       "      <td>56013.000</td>\n",
       "      <td>80000.000</td>\n",
       "      <td>83450.000</td>\n",
       "      <td>73000.000</td>\n",
       "      <td>16200.000</td>\n",
       "    </tr>\n",
       "    <tr>\n",
       "      <th>Type</th>\n",
       "      <td>Used</td>\n",
       "      <td>Used</td>\n",
       "      <td>Used</td>\n",
       "      <td>Used</td>\n",
       "      <td>Used</td>\n",
       "    </tr>\n",
       "    <tr>\n",
       "      <th>Warranty</th>\n",
       "      <td>NaN</td>\n",
       "      <td>NaN</td>\n",
       "      <td>NaN</td>\n",
       "      <td>NaN</td>\n",
       "      <td>NaN</td>\n",
       "    </tr>\n",
       "    <tr>\n",
       "      <th>Body Color</th>\n",
       "      <td>Black</td>\n",
       "      <td>Red</td>\n",
       "      <td>Black</td>\n",
       "      <td>Brown</td>\n",
       "      <td>Black</td>\n",
       "    </tr>\n",
       "    <tr>\n",
       "      <th>Paint Type</th>\n",
       "      <td>Metallic</td>\n",
       "      <td>NaN</td>\n",
       "      <td>Metallic</td>\n",
       "      <td>Metallic</td>\n",
       "      <td>Metallic</td>\n",
       "    </tr>\n",
       "    <tr>\n",
       "      <th>Body Color Original</th>\n",
       "      <td>Mythosschwarz</td>\n",
       "      <td>NaN</td>\n",
       "      <td>mythosschwarz metallic</td>\n",
       "      <td>NaN</td>\n",
       "      <td>Mythosschwarz Metallic</td>\n",
       "    </tr>\n",
       "    <tr>\n",
       "      <th>Gearing Type</th>\n",
       "      <td>Automatic</td>\n",
       "      <td>Automatic</td>\n",
       "      <td>Automatic</td>\n",
       "      <td>Automatic</td>\n",
       "      <td>Automatic</td>\n",
       "    </tr>\n",
       "    <tr>\n",
       "      <th>Cylinders</th>\n",
       "      <td>3.000</td>\n",
       "      <td>4.000</td>\n",
       "      <td>NaN</td>\n",
       "      <td>3.000</td>\n",
       "      <td>3.000</td>\n",
       "    </tr>\n",
       "    <tr>\n",
       "      <th>Fuel</th>\n",
       "      <td>Diesel</td>\n",
       "      <td>Benzine</td>\n",
       "      <td>Diesel</td>\n",
       "      <td>Diesel</td>\n",
       "      <td>Diesel</td>\n",
       "    </tr>\n",
       "    <tr>\n",
       "      <th>Comfort &amp; Convenience</th>\n",
       "      <td>Air conditioning,Armrest,Automatic climate con...</td>\n",
       "      <td>Air conditioning,Automatic climate control,Hil...</td>\n",
       "      <td>Air conditioning,Cruise control,Electrical sid...</td>\n",
       "      <td>Air suspension,Armrest,Auxiliary heating,Elect...</td>\n",
       "      <td>Air conditioning,Armrest,Automatic climate con...</td>\n",
       "    </tr>\n",
       "    <tr>\n",
       "      <th>Entertainment &amp; Media</th>\n",
       "      <td>Bluetooth,Hands-free equipment,On-board comput...</td>\n",
       "      <td>Bluetooth,Hands-free equipment,On-board comput...</td>\n",
       "      <td>MP3,On-board computer</td>\n",
       "      <td>Bluetooth,CD player,Hands-free equipment,MP3,O...</td>\n",
       "      <td>Bluetooth,CD player,Hands-free equipment,MP3,O...</td>\n",
       "    </tr>\n",
       "    <tr>\n",
       "      <th>Extras</th>\n",
       "      <td>Alloy wheels,Catalytic Converter,Voice Control</td>\n",
       "      <td>Alloy wheels,Sport seats,Sport suspension,Voic...</td>\n",
       "      <td>Alloy wheels,Voice Control</td>\n",
       "      <td>Alloy wheels,Sport seats,Voice Control</td>\n",
       "      <td>Alloy wheels,Sport package,Sport suspension,Vo...</td>\n",
       "    </tr>\n",
       "    <tr>\n",
       "      <th>Safety &amp; Security</th>\n",
       "      <td>ABS,Central door lock,Daytime running lights,D...</td>\n",
       "      <td>ABS,Central door lock,Central door lock with r...</td>\n",
       "      <td>ABS,Central door lock,Daytime running lights,D...</td>\n",
       "      <td>ABS,Alarm system,Central door lock with remote...</td>\n",
       "      <td>ABS,Central door lock,Driver-side airbag,Elect...</td>\n",
       "    </tr>\n",
       "    <tr>\n",
       "      <th>Gears</th>\n",
       "      <td>NaN</td>\n",
       "      <td>7</td>\n",
       "      <td>NaN</td>\n",
       "      <td>6</td>\n",
       "      <td>NaN</td>\n",
       "    </tr>\n",
       "    <tr>\n",
       "      <th>Previous_Owners</th>\n",
       "      <td>2.000</td>\n",
       "      <td>NaN</td>\n",
       "      <td>1.000</td>\n",
       "      <td>1.000</td>\n",
       "      <td>1.000</td>\n",
       "    </tr>\n",
       "    <tr>\n",
       "      <th>hp_kW</th>\n",
       "      <td>66.000</td>\n",
       "      <td>141.000</td>\n",
       "      <td>85.000</td>\n",
       "      <td>66.000</td>\n",
       "      <td>66.000</td>\n",
       "    </tr>\n",
       "    <tr>\n",
       "      <th>Inspection_new</th>\n",
       "      <td>Yes</td>\n",
       "      <td>NaN</td>\n",
       "      <td>NaN</td>\n",
       "      <td>NaN</td>\n",
       "      <td>Yes</td>\n",
       "    </tr>\n",
       "    <tr>\n",
       "      <th>Paint_Type</th>\n",
       "      <td>Metallic</td>\n",
       "      <td>NaN</td>\n",
       "      <td>Metallic</td>\n",
       "      <td>Metallic</td>\n",
       "      <td>Metallic</td>\n",
       "    </tr>\n",
       "    <tr>\n",
       "      <th>Upholstery_type</th>\n",
       "      <td>Cloth</td>\n",
       "      <td>Cloth</td>\n",
       "      <td>Cloth</td>\n",
       "      <td>NaN</td>\n",
       "      <td>Cloth</td>\n",
       "    </tr>\n",
       "    <tr>\n",
       "      <th>Upholstery_color</th>\n",
       "      <td>Black</td>\n",
       "      <td>Grey</td>\n",
       "      <td>Black</td>\n",
       "      <td>NaN</td>\n",
       "      <td>Black</td>\n",
       "    </tr>\n",
       "    <tr>\n",
       "      <th>Nr_of_Doors</th>\n",
       "      <td>5.000</td>\n",
       "      <td>3.000</td>\n",
       "      <td>4.000</td>\n",
       "      <td>3.000</td>\n",
       "      <td>5.000</td>\n",
       "    </tr>\n",
       "    <tr>\n",
       "      <th>Nr_of_Seats</th>\n",
       "      <td>5.000</td>\n",
       "      <td>4.000</td>\n",
       "      <td>4.000</td>\n",
       "      <td>4.000</td>\n",
       "      <td>5.000</td>\n",
       "    </tr>\n",
       "    <tr>\n",
       "      <th>Gearing_Type</th>\n",
       "      <td>Automatic</td>\n",
       "      <td>Automatic</td>\n",
       "      <td>Automatic</td>\n",
       "      <td>Automatic</td>\n",
       "      <td>Automatic</td>\n",
       "    </tr>\n",
       "    <tr>\n",
       "      <th>Displacement_cc</th>\n",
       "      <td>1422.000</td>\n",
       "      <td>1798.000</td>\n",
       "      <td>1598.000</td>\n",
       "      <td>1422.000</td>\n",
       "      <td>1422.000</td>\n",
       "    </tr>\n",
       "    <tr>\n",
       "      <th>Weight_kg</th>\n",
       "      <td>1220.000</td>\n",
       "      <td>1255.000</td>\n",
       "      <td>NaN</td>\n",
       "      <td>1195.000</td>\n",
       "      <td>NaN</td>\n",
       "    </tr>\n",
       "    <tr>\n",
       "      <th>Drive_chain</th>\n",
       "      <td>front</td>\n",
       "      <td>front</td>\n",
       "      <td>front</td>\n",
       "      <td>NaN</td>\n",
       "      <td>front</td>\n",
       "    </tr>\n",
       "    <tr>\n",
       "      <th>cons_comb</th>\n",
       "      <td>3.800</td>\n",
       "      <td>5.600</td>\n",
       "      <td>3.800</td>\n",
       "      <td>3.800</td>\n",
       "      <td>4.100</td>\n",
       "    </tr>\n",
       "    <tr>\n",
       "      <th>cons_city</th>\n",
       "      <td>4.300</td>\n",
       "      <td>7.100</td>\n",
       "      <td>4.400</td>\n",
       "      <td>4.300</td>\n",
       "      <td>4.600</td>\n",
       "    </tr>\n",
       "    <tr>\n",
       "      <th>cons_country</th>\n",
       "      <td>3.500</td>\n",
       "      <td>4.700</td>\n",
       "      <td>3.400</td>\n",
       "      <td>3.500</td>\n",
       "      <td>3.800</td>\n",
       "    </tr>\n",
       "    <tr>\n",
       "      <th>CO2_Emission</th>\n",
       "      <td>99.000</td>\n",
       "      <td>129.000</td>\n",
       "      <td>99.000</td>\n",
       "      <td>99.000</td>\n",
       "      <td>109.000</td>\n",
       "    </tr>\n",
       "    <tr>\n",
       "      <th>Emission_Class</th>\n",
       "      <td>Euro 6</td>\n",
       "      <td>Euro 6</td>\n",
       "      <td>Euro 6</td>\n",
       "      <td>Euro 6</td>\n",
       "      <td>Euro 6</td>\n",
       "    </tr>\n",
       "  </tbody>\n",
       "</table>\n",
       "</div>"
      ],
      "text/plain": [
       "                                                                       0  \\\n",
       "make_model                                                       Audi A1   \n",
       "body_type                                                         Sedans   \n",
       "price                                                              15770   \n",
       "vat                                                       VAT deductible   \n",
       "km                                                             56013.000   \n",
       "Type                                                                Used   \n",
       "Warranty                                                             NaN   \n",
       "Body Color                                                         Black   \n",
       "Paint Type                                                      Metallic   \n",
       "Body Color Original                                        Mythosschwarz   \n",
       "Gearing Type                                                   Automatic   \n",
       "Cylinders                                                          3.000   \n",
       "Fuel                                                              Diesel   \n",
       "Comfort & Convenience  Air conditioning,Armrest,Automatic climate con...   \n",
       "Entertainment & Media  Bluetooth,Hands-free equipment,On-board comput...   \n",
       "Extras                    Alloy wheels,Catalytic Converter,Voice Control   \n",
       "Safety & Security      ABS,Central door lock,Daytime running lights,D...   \n",
       "Gears                                                                NaN   \n",
       "Previous_Owners                                                    2.000   \n",
       "hp_kW                                                             66.000   \n",
       "Inspection_new                                                       Yes   \n",
       "Paint_Type                                                      Metallic   \n",
       "Upholstery_type                                                    Cloth   \n",
       "Upholstery_color                                                   Black   \n",
       "Nr_of_Doors                                                        5.000   \n",
       "Nr_of_Seats                                                        5.000   \n",
       "Gearing_Type                                                   Automatic   \n",
       "Displacement_cc                                                 1422.000   \n",
       "Weight_kg                                                       1220.000   \n",
       "Drive_chain                                                        front   \n",
       "cons_comb                                                          3.800   \n",
       "cons_city                                                          4.300   \n",
       "cons_country                                                       3.500   \n",
       "CO2_Emission                                                      99.000   \n",
       "Emission_Class                                                    Euro 6   \n",
       "\n",
       "                                                                       1  \\\n",
       "make_model                                                       Audi A1   \n",
       "body_type                                                         Sedans   \n",
       "price                                                              14500   \n",
       "vat                                                     Price negotiable   \n",
       "km                                                             80000.000   \n",
       "Type                                                                Used   \n",
       "Warranty                                                             NaN   \n",
       "Body Color                                                           Red   \n",
       "Paint Type                                                           NaN   \n",
       "Body Color Original                                                  NaN   \n",
       "Gearing Type                                                   Automatic   \n",
       "Cylinders                                                          4.000   \n",
       "Fuel                                                             Benzine   \n",
       "Comfort & Convenience  Air conditioning,Automatic climate control,Hil...   \n",
       "Entertainment & Media  Bluetooth,Hands-free equipment,On-board comput...   \n",
       "Extras                 Alloy wheels,Sport seats,Sport suspension,Voic...   \n",
       "Safety & Security      ABS,Central door lock,Central door lock with r...   \n",
       "Gears                                                                  7   \n",
       "Previous_Owners                                                      NaN   \n",
       "hp_kW                                                            141.000   \n",
       "Inspection_new                                                       NaN   \n",
       "Paint_Type                                                           NaN   \n",
       "Upholstery_type                                                    Cloth   \n",
       "Upholstery_color                                                    Grey   \n",
       "Nr_of_Doors                                                        3.000   \n",
       "Nr_of_Seats                                                        4.000   \n",
       "Gearing_Type                                                   Automatic   \n",
       "Displacement_cc                                                 1798.000   \n",
       "Weight_kg                                                       1255.000   \n",
       "Drive_chain                                                        front   \n",
       "cons_comb                                                          5.600   \n",
       "cons_city                                                          7.100   \n",
       "cons_country                                                       4.700   \n",
       "CO2_Emission                                                     129.000   \n",
       "Emission_Class                                                    Euro 6   \n",
       "\n",
       "                                                                       2  \\\n",
       "make_model                                                       Audi A1   \n",
       "body_type                                                         Sedans   \n",
       "price                                                              14640   \n",
       "vat                                                       VAT deductible   \n",
       "km                                                             83450.000   \n",
       "Type                                                                Used   \n",
       "Warranty                                                             NaN   \n",
       "Body Color                                                         Black   \n",
       "Paint Type                                                      Metallic   \n",
       "Body Color Original                               mythosschwarz metallic   \n",
       "Gearing Type                                                   Automatic   \n",
       "Cylinders                                                            NaN   \n",
       "Fuel                                                              Diesel   \n",
       "Comfort & Convenience  Air conditioning,Cruise control,Electrical sid...   \n",
       "Entertainment & Media                              MP3,On-board computer   \n",
       "Extras                                        Alloy wheels,Voice Control   \n",
       "Safety & Security      ABS,Central door lock,Daytime running lights,D...   \n",
       "Gears                                                                NaN   \n",
       "Previous_Owners                                                    1.000   \n",
       "hp_kW                                                             85.000   \n",
       "Inspection_new                                                       NaN   \n",
       "Paint_Type                                                      Metallic   \n",
       "Upholstery_type                                                    Cloth   \n",
       "Upholstery_color                                                   Black   \n",
       "Nr_of_Doors                                                        4.000   \n",
       "Nr_of_Seats                                                        4.000   \n",
       "Gearing_Type                                                   Automatic   \n",
       "Displacement_cc                                                 1598.000   \n",
       "Weight_kg                                                            NaN   \n",
       "Drive_chain                                                        front   \n",
       "cons_comb                                                          3.800   \n",
       "cons_city                                                          4.400   \n",
       "cons_country                                                       3.400   \n",
       "CO2_Emission                                                      99.000   \n",
       "Emission_Class                                                    Euro 6   \n",
       "\n",
       "                                                                       3  \\\n",
       "make_model                                                       Audi A1   \n",
       "body_type                                                         Sedans   \n",
       "price                                                              14500   \n",
       "vat                                                                 None   \n",
       "km                                                             73000.000   \n",
       "Type                                                                Used   \n",
       "Warranty                                                             NaN   \n",
       "Body Color                                                         Brown   \n",
       "Paint Type                                                      Metallic   \n",
       "Body Color Original                                                  NaN   \n",
       "Gearing Type                                                   Automatic   \n",
       "Cylinders                                                          3.000   \n",
       "Fuel                                                              Diesel   \n",
       "Comfort & Convenience  Air suspension,Armrest,Auxiliary heating,Elect...   \n",
       "Entertainment & Media  Bluetooth,CD player,Hands-free equipment,MP3,O...   \n",
       "Extras                            Alloy wheels,Sport seats,Voice Control   \n",
       "Safety & Security      ABS,Alarm system,Central door lock with remote...   \n",
       "Gears                                                                  6   \n",
       "Previous_Owners                                                    1.000   \n",
       "hp_kW                                                             66.000   \n",
       "Inspection_new                                                       NaN   \n",
       "Paint_Type                                                      Metallic   \n",
       "Upholstery_type                                                      NaN   \n",
       "Upholstery_color                                                     NaN   \n",
       "Nr_of_Doors                                                        3.000   \n",
       "Nr_of_Seats                                                        4.000   \n",
       "Gearing_Type                                                   Automatic   \n",
       "Displacement_cc                                                 1422.000   \n",
       "Weight_kg                                                       1195.000   \n",
       "Drive_chain                                                          NaN   \n",
       "cons_comb                                                          3.800   \n",
       "cons_city                                                          4.300   \n",
       "cons_country                                                       3.500   \n",
       "CO2_Emission                                                      99.000   \n",
       "Emission_Class                                                    Euro 6   \n",
       "\n",
       "                                                                       4  \n",
       "make_model                                                       Audi A1  \n",
       "body_type                                                         Sedans  \n",
       "price                                                              16790  \n",
       "vat                                                                 None  \n",
       "km                                                             16200.000  \n",
       "Type                                                                Used  \n",
       "Warranty                                                             NaN  \n",
       "Body Color                                                         Black  \n",
       "Paint Type                                                      Metallic  \n",
       "Body Color Original                               Mythosschwarz Metallic  \n",
       "Gearing Type                                                   Automatic  \n",
       "Cylinders                                                          3.000  \n",
       "Fuel                                                              Diesel  \n",
       "Comfort & Convenience  Air conditioning,Armrest,Automatic climate con...  \n",
       "Entertainment & Media  Bluetooth,CD player,Hands-free equipment,MP3,O...  \n",
       "Extras                 Alloy wheels,Sport package,Sport suspension,Vo...  \n",
       "Safety & Security      ABS,Central door lock,Driver-side airbag,Elect...  \n",
       "Gears                                                                NaN  \n",
       "Previous_Owners                                                    1.000  \n",
       "hp_kW                                                             66.000  \n",
       "Inspection_new                                                       Yes  \n",
       "Paint_Type                                                      Metallic  \n",
       "Upholstery_type                                                    Cloth  \n",
       "Upholstery_color                                                   Black  \n",
       "Nr_of_Doors                                                        5.000  \n",
       "Nr_of_Seats                                                        5.000  \n",
       "Gearing_Type                                                   Automatic  \n",
       "Displacement_cc                                                 1422.000  \n",
       "Weight_kg                                                            NaN  \n",
       "Drive_chain                                                        front  \n",
       "cons_comb                                                          4.100  \n",
       "cons_city                                                          4.600  \n",
       "cons_country                                                       3.800  \n",
       "CO2_Emission                                                     109.000  \n",
       "Emission_Class                                                    Euro 6  "
      ]
     },
     "execution_count": 202,
     "metadata": {},
     "output_type": "execute_result"
    }
   ],
   "source": [
    "df.head().T"
   ]
  },
  {
   "cell_type": "code",
   "execution_count": 193,
   "metadata": {},
   "outputs": [
    {
     "name": "stdout",
     "output_type": "stream",
     "text": [
      "<class 'pandas.core.frame.DataFrame'>\n",
      "RangeIndex: 15919 entries, 0 to 15918\n",
      "Data columns (total 35 columns):\n",
      " #   Column                 Non-Null Count  Dtype  \n",
      "---  ------                 --------------  -----  \n",
      " 0   make_model             15919 non-null  object \n",
      " 1   body_type              15859 non-null  object \n",
      " 2   price                  15919 non-null  int64  \n",
      " 3   vat                    11406 non-null  object \n",
      " 4   km                     14895 non-null  float64\n",
      " 5   Type                   15917 non-null  object \n",
      " 6   Warranty               4853 non-null   float64\n",
      " 7   Body Color             15322 non-null  object \n",
      " 8   Paint Type             10147 non-null  object \n",
      " 9   Body Color Original    12160 non-null  object \n",
      " 10  Gearing Type           15919 non-null  object \n",
      " 11  Cylinders              10239 non-null  float64\n",
      " 12  Fuel                   15919 non-null  object \n",
      " 13  Comfort & Convenience  14999 non-null  object \n",
      " 14  Entertainment & Media  14545 non-null  object \n",
      " 15  Extras                 12957 non-null  object \n",
      " 16  Safety & Security      14937 non-null  object \n",
      " 17  Gears                  11207 non-null  object \n",
      " 18  Previous_Owners        9279 non-null   float64\n",
      " 19  hp_kW                  15831 non-null  float64\n",
      " 20  Inspection_new         3932 non-null   object \n",
      " 21  Paint_Type             10147 non-null  object \n",
      " 22  Upholstery_type        11048 non-null  object \n",
      " 23  Upholstery_color       10841 non-null  object \n",
      " 24  Nr_of_Doors            15707 non-null  float64\n",
      " 25  Nr_of_Seats            14942 non-null  float64\n",
      " 26  Gearing_Type           15919 non-null  object \n",
      " 27  Displacement_cc        15423 non-null  float64\n",
      " 28  Weight_kg              8945 non-null   float64\n",
      " 29  Drive_chain            9061 non-null   object \n",
      " 30  cons_comb              13886 non-null  float64\n",
      " 31  cons_city              13483 non-null  float64\n",
      " 32  cons_country           13543 non-null  float64\n",
      " 33  CO2_Emission           13483 non-null  float64\n",
      " 34  Emission_Class         12291 non-null  object \n",
      "dtypes: float64(13), int64(1), object(21)\n",
      "memory usage: 4.3+ MB\n"
     ]
    }
   ],
   "source": [
    "df.info()"
   ]
  },
  {
   "cell_type": "code",
   "execution_count": 210,
   "metadata": {},
   "outputs": [],
   "source": [
    "df.to_csv(\"clean_scout_emre.csvPART1.csv\", index=False)"
   ]
  },
  {
   "cell_type": "code",
   "execution_count": 207,
   "metadata": {},
   "outputs": [
    {
     "data": {
      "text/plain": [
       "NaN          2436\n",
       "120.000       740\n",
       "99.000        545\n",
       "97.000        537\n",
       "104.000       501\n",
       "102.000       477\n",
       "103.000       445\n",
       "114.000       382\n",
       "124.000       372\n",
       "107.000       362\n",
       "108.000       362\n",
       "119.000       361\n",
       "106.000       349\n",
       "128.000       329\n",
       "126.000       282\n",
       "85.000        275\n",
       "118.000       270\n",
       "110.000       266\n",
       "127.000       257\n",
       "117.000       254\n",
       "111.000       237\n",
       "113.000       235\n",
       "109.000       234\n",
       "139.000       224\n",
       "140.000       218\n",
       "129.000       213\n",
       "105.000       202\n",
       "135.000       202\n",
       "92.000        198\n",
       "130.000       180\n",
       "123.000       178\n",
       "150.000       174\n",
       "112.000       171\n",
       "143.000       171\n",
       "95.000        161\n",
       "116.000       157\n",
       "141.000       156\n",
       "98.000        151\n",
       "133.000       145\n",
       "136.000       145\n",
       "137.000       133\n",
       "125.000       132\n",
       "134.000       130\n",
       "145.000       126\n",
       "149.000       117\n",
       "153.000       113\n",
       "147.000       109\n",
       "101.000       105\n",
       "132.000       100\n",
       "115.000        86\n",
       "122.000        83\n",
       "121.000        82\n",
       "138.000        75\n",
       "93.000         66\n",
       "168.000        58\n",
       "142.000        58\n",
       "148.000        48\n",
       "131.000        48\n",
       "154.000        40\n",
       "144.000        40\n",
       "94.000         37\n",
       "146.000        36\n",
       "100.000        36\n",
       "90.000         35\n",
       "151.000        34\n",
       "91.000         31\n",
       "186.000        30\n",
       "152.000        28\n",
       "187.000        26\n",
       "172.000        25\n",
       "82.000         25\n",
       "96.000         22\n",
       "189.000        19\n",
       "89.000         19\n",
       "157.000        18\n",
       "158.000        17\n",
       "88.000         15\n",
       "169.000        15\n",
       "156.000        14\n",
       "164.000        13\n",
       "161.000        10\n",
       "170.000        10\n",
       "166.000         8\n",
       "175.000         8\n",
       "155.000         8\n",
       "188.000         7\n",
       "159.000         7\n",
       "174.000         6\n",
       "87.000          6\n",
       "197.000         4\n",
       "194.000         3\n",
       "5.000           3\n",
       "36.000          3\n",
       "12087.000       3\n",
       "84.000          2\n",
       "191.000         2\n",
       "167.000         2\n",
       "0.000           2\n",
       "199.000         2\n",
       "162.000         2\n",
       "177.000         1\n",
       "181.000         1\n",
       "331.000         1\n",
       "45.000          1\n",
       "180.000         1\n",
       "171.000         1\n",
       "183.000         1\n",
       "1.000           1\n",
       "13983.000       1\n",
       "184.000         1\n",
       "14457.000       1\n",
       "12324.000       1\n",
       "239.000         1\n",
       "160.000         1\n",
       "190.000         1\n",
       "80.000          1\n",
       "990.000         1\n",
       "253.000         1\n",
       "14.000          1\n",
       "1060.000        1\n",
       "51.000          1\n",
       "165.000         1\n",
       "193.000         1\n",
       "Name: CO2_Emission, dtype: int64"
      ]
     },
     "execution_count": 207,
     "metadata": {},
     "output_type": "execute_result"
    }
   ],
   "source": [
    "df[\"CO2_Emission\"].value_counts(dropna=False)"
   ]
  },
  {
   "cell_type": "code",
   "execution_count": null,
   "metadata": {},
   "outputs": [],
   "source": []
  }
 ],
 "metadata": {
  "colab": {
   "name": "DAwPy-Capstone_Project_(AutoScout)_Student.ipynb",
   "provenance": []
  },
  "kernelspec": {
   "display_name": "Python 3 (ipykernel)",
   "language": "python",
   "name": "python3"
  },
  "language_info": {
   "codemirror_mode": {
    "name": "ipython",
    "version": 3
   },
   "file_extension": ".py",
   "mimetype": "text/x-python",
   "name": "python",
   "nbconvert_exporter": "python",
   "pygments_lexer": "ipython3",
   "version": "3.9.7"
  },
  "toc": {
   "base_numbering": 1,
   "nav_menu": {},
   "number_sections": false,
   "sideBar": true,
   "skip_h1_title": false,
   "title_cell": "Table of Contents",
   "title_sidebar": "Contents",
   "toc_cell": false,
   "toc_position": {},
   "toc_section_display": true,
   "toc_window_display": false
  }
 },
 "nbformat": 4,
 "nbformat_minor": 1
}
